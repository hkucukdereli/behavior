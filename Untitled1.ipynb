{
 "cells": [
  {
   "cell_type": "code",
   "execution_count": 1,
   "metadata": {
    "collapsed": true
   },
   "outputs": [],
   "source": [
    "from behavior.behavior import behavior\n",
    "from behavior.plotScale import plotScale\n",
    "import pickle\n",
    "import numpy as np\n",
    "import pandas as pd\n",
    "import seaborn as sns\n",
    "import matplotlib.pyplot as plt\n",
    "%matplotlib inline\n"
   ]
  },
  {
   "cell_type": "code",
   "execution_count": 2,
   "metadata": {
    "collapsed": true
   },
   "outputs": [],
   "source": [
    "## Load LR7 and 8"
   ]
  },
  {
   "cell_type": "code",
   "execution_count": 3,
   "metadata": {},
   "outputs": [
    {
     "name": "stdout",
     "output_type": "stream",
     "text": [
      "Base directory is set to /Users/Amelia/Documents/hakan/data\n",
      "\n"
     ]
    }
   ],
   "source": [
    "baseDir = '/Users/Amelia/Documents/hakan/data'\n",
    "\n",
    "SalSal = ['180710', '180719','180724']\n",
    "SalCNO = ['180711', '180713', '180720']\n",
    "CNOSal = ['180712', '180717', '180725']\n",
    "dates = SalSal + SalCNO + CNOSal\n",
    "runs = [1, 2, 3]\n",
    "\n",
    "mouse = 'LR7'\n",
    "lr7 = behavior(mouse, dates, runs)\n",
    "lr7.setDir(baseDir)\n",
    "with open('/Users/Amelia/Documents/hakan/data/CNO_trials/' + lr7.mouse + '.obj', 'rb') as handle:\n",
    "            lr7.data = pickle.load(handle)\n",
    "\n",
    "# mouse = 'LR8'\n",
    "# lr8 = behavior(mouse, dates, runs)\n",
    "# lr8.setDir(baseDir)\n",
    "# with open('/Users/Amelia/Documents/hakan/data/CNO_trials/' + lr8.mouse + '.obj', 'rb') as handle:\n",
    "#             lr8.data = pickle.load(handle)\n"
   ]
  },
  {
   "cell_type": "code",
   "execution_count": 4,
   "metadata": {
    "collapsed": true
   },
   "outputs": [],
   "source": [
    "## Load LR9 and 13"
   ]
  },
  {
   "cell_type": "code",
   "execution_count": 5,
   "metadata": {},
   "outputs": [],
   "source": [
    "# SalSal = ['180612', '180621']\n",
    "# SalCNO = ['180613', '180615', '180620']\n",
    "# CNOSal = ['180614', '180619', '180622']\n",
    "# dates = SalSal + SalCNO + CNOSal\n",
    "# runs = [1, 2, 3]\n",
    "\n",
    "# mouse = 'LR9'\n",
    "# lr9 = behavior(mouse, dates, runs)\n",
    "# lr9.setDir(baseDir)\n",
    "# with open('/Users/Amelia/Documents/hakan/data/CNO_trials/' + lr9.mouse + '.obj', 'rb') as handle:\n",
    "#             lr9.data = pickle.load(handle)\n",
    "        \n",
    "# mouse = 'LR13'\n",
    "# lr13 = behavior(mouse, dates, runs)\n",
    "# lr13.setDir(baseDir)\n",
    "# with open('/Users/Amelia/Documents/hakan/data/CNO_trials/' + lr13.mouse + '.obj', 'rb') as handle:\n",
    "#             lr13.data = pickle.load(handle)\n"
   ]
  },
  {
   "cell_type": "code",
   "execution_count": 6,
   "metadata": {},
   "outputs": [],
   "source": [
    "## Find onsets"
   ]
  },
  {
   "cell_type": "code",
   "execution_count": 7,
   "metadata": {},
   "outputs": [],
   "source": [
    "SalSal = ['180710', '180719','180724']\n",
    "SalCNO = ['180711', '180713', '180720']\n",
    "CNOSal = ['180712', '180717', '180725']\n",
    "dates = SalSal + SalCNO + CNOSal\n",
    "runs = [1, 2, 3]\n",
    "\n",
    "lr7.loadTrials(save= False)\n",
    "lr7.loadNidaq(clean=True, save= False)\n",
    "lr7.findOnsets(save=False)\n",
    "\n",
    "# lr8.loadTrials(save= False)\n",
    "# lr8.loadNidaq(clean=True, save= False)"
   ]
  },
  {
   "cell_type": "code",
   "execution_count": 8,
   "metadata": {},
   "outputs": [],
   "source": [
    "#####"
   ]
  },
  {
   "cell_type": "code",
   "execution_count": 30,
   "metadata": {},
   "outputs": [
    {
     "name": "stdout",
     "output_type": "stream",
     "text": [
      "12.6335 21267\n",
      "22.9705 41941\n",
      "33.7645 63529\n",
      "46.0765 88153\n",
      "56.427 108854\n",
      "68.736 133472\n",
      "79.5335 155067\n",
      "90.331 176662\n",
      "100.6925 197385\n",
      "111.3925 218785\n",
      "121.741 239482\n",
      "132.089 260178\n",
      "142.4345 280869\n",
      "154.747 305494\n",
      "165.5435 327087\n",
      "176.3385 348677\n",
      "188.6515 373303\n",
      "199.0155 394031\n",
      "209.3635 414727\n",
      "219.7115 435423\n",
      "230.5055 457011\n",
      "242.819 481638\n",
      "255.1325 506265\n",
      "265.9275 527855\n",
      "276.2775 548555\n",
      "286.623 569246\n",
      "296.8715 589743\n",
      "307.1175 610235\n",
      "317.9135 631827\n",
      "330.2265 656453\n",
      "342.539 681078\n",
      "354.853 705706\n",
      "365.6495 727299\n",
      "375.9965 747993\n",
      "386.793 769586\n",
      "397.1385 790277\n",
      "409.4525 814905\n",
      "420.249 836498\n",
      "430.596 857192\n",
      "440.942 877884\n",
      "453.255 902510\n",
      "464.051 924102\n",
      "476.364 948728\n",
      "488.677 973354\n",
      "500.9895 997979\n",
      "513.304 1022608\n",
      "524.1 1044200\n",
      "534.4465 1064893\n",
      "546.7595 1089519\n",
      "557.5565 1111113\n",
      "567.9035 1131807\n",
      "578.2665 1152533\n",
      "588.962 1173924\n",
      "601.275 1198550\n",
      "611.6565 1219313\n",
      "622.038 1240076\n",
      "632.385 1260770\n",
      "642.748 1281496\n",
      "653.543 1303086\n",
      "665.857 1327714\n",
      "678.171 1352342\n",
      "688.417 1372834\n",
      "698.763 1393526\n",
      "709.5605 1415121\n",
      "720.2575 1436515\n",
      "730.6045 1457209\n",
      "740.951 1477902\n",
      "751.7475 1499495\n",
      "762.5445 1521089\n",
      "772.8915 1541783\n",
      "783.586 1563172\n",
      "795.8995 1587799\n",
      "807.316 1610632\n",
      "818.1115 1632223\n",
      "828.9085 1653817\n",
      "841.222 1678444\n",
      "851.5685 1699137\n",
      "861.9155 1719831\n",
      "872.2625 1740525\n",
      "884.573 1765146\n",
      "894.9545 1785909\n",
      "905.752 1807504\n",
      "916.0985 1828197\n",
      "928.4105 1852821\n",
      "939.208 1874416\n",
      "951.5205 1899041\n",
      "962.317 1920634\n",
      "974.6295 1945259\n",
      "985.427 1966854\n",
      "997.739 1991478\n",
      "1008.534 2013068\n",
      "1018.9155 2033831\n",
      "1031.229 2058458\n",
      "1042.026 2080052\n",
      "1054.3385 2104677\n",
      "1064.685 2125370\n",
      "1075.482 2146964\n",
      "1087.3635 2170727\n",
      "1097.725 2191450\n",
      "1108.521 2213042\n",
      "1119.3175 2234635\n",
      "1129.6645 2255329\n",
      "1140.4615 2276923\n",
      "1150.8085 2297617\n",
      "1161.1555 2318311\n",
      "1171.502 2339004\n",
      "1182.1985 2360397\n",
      "1192.8955 2381791\n",
      "1203.259 2402518\n",
      "1214.072 2424144\n",
      "1224.8685 2445737\n",
      "1235.665 2467330\n",
      "1246.462 2488924\n",
      "1258.7745 2513549\n",
      "1269.571 2535142\n",
      "1279.9185 2555837\n",
      "1292.231 2580462\n",
      "1303.0275 2602055\n",
      "1315.3435 2626687\n",
      "1326.1535 2648307\n"
     ]
    }
   ],
   "source": [
    "ITI = 6.0\n",
    "Fs = lr7.getFs()\n",
    "for trial in lr7.trials['180713'][2]:\n",
    "    onset = lr7.onsets['180713'][2]['visual_stimulus'].iloc[trial-1]\n",
    "    onsetInd = lr7.onsets['180713'][2]['visual_stimulus'].index[trial-1]\n",
    "    print onset, onsetInd - int((ITI/3)*Fs)"
   ]
  },
  {
   "cell_type": "code",
   "execution_count": 23,
   "metadata": {
    "scrolled": true
   },
   "outputs": [],
   "source": []
  },
  {
   "cell_type": "code",
   "execution_count": null,
   "metadata": {},
   "outputs": [],
   "source": []
  },
  {
   "cell_type": "code",
   "execution_count": null,
   "metadata": {},
   "outputs": [],
   "source": [
    "lr7.signal = {}\n",
    "lr7.onsets = {}\n",
    "lr7.offsets = {}\n",
    "for date in dates:\n",
    "    lr7.signal[date] = {}\n",
    "    lr7.onsets[date] = {}\n",
    "    lr7.offsets[date] = {}\n",
    "    for run in runs:\n",
    "        lr7.signal[date][run] = {}\n",
    "        lr7.onsets[date][run] = {}\n",
    "        lr7.offsets[date][run] = {}\n",
    "        cols = lr7.nidaq[date][run].columns[0:6]\n",
    "        for col in cols:\n",
    "            lr7.signal[date][run]['timestamps'] = lr7.nidaq[date][run]['timestamps']\n",
    "            lr7.onsets[date][run][col] = lr7.nidaq[date][run]['timestamps'][lr7.nidaq[date][run][col].diff() > 2.0]\n",
    "            lr7.offsets[date][run][col] = lr7.nidaq[date][run]['timestamps'][lr7.nidaq[date][run][col].diff() < -2.0]\n",
    "            \n",
    "            if col == 'visual_stimulus':\n",
    "                visuals = len(lr7.onsets[date][run]['visual_stimulus'])\n",
    "                trials = lr7.bhv[date][run]['trialnum'].iloc[-1]\n",
    "                if visuals > trials:\n",
    "                    indOn = lr7.onsets[date][run]['visual_stimulus'].index[0]\n",
    "                    indOff = lr7.offsets[date][run]['visual_stimulus'].index[0]\n",
    "                    lr7.onsets[date][run]['visual_stimulus'].drop(indOn, inplace=True)\n",
    "                    lr7.offsets[date][run]['visual_stimulus'].drop(indOff, inplace=True)\n",
    "        \n",
    "        if len(lr7.onsets[date][run][col]) != len(lr7.offsets[date][run][col]):\n",
    "            print(lr7.mouse+' '+date+' '+str(run)+' '+col+' numbers are not equal')\n",
    "            "
   ]
  },
  {
   "cell_type": "code",
   "execution_count": null,
   "metadata": {
    "scrolled": true
   },
   "outputs": [],
   "source": [
    "pd.DataFrame({'onsets':lr7.onsets['180719'][2]['visual_stimulus'].values, 'offsets':lr7.offsets['180719'][2]['visual_stimulus'].values})\n"
   ]
  },
  {
   "cell_type": "code",
   "execution_count": null,
   "metadata": {
    "scrolled": true
   },
   "outputs": [],
   "source": []
  },
  {
   "cell_type": "code",
   "execution_count": null,
   "metadata": {
    "scrolled": false
   },
   "outputs": [],
   "source": []
  },
  {
   "cell_type": "code",
   "execution_count": null,
   "metadata": {},
   "outputs": [],
   "source": [
    "vis_data = lr7.nidaq['180719'][1]['visual_stimulus'].values\n",
    "ensure_data = lr7.nidaq['180719'][1]['ensure'].values\n",
    "plt.figure(figsize=(20,2))\n",
    "plt.plot(ensure_data, 'r', alpha=0.55)\n",
    "plt.plot(vis_data, 'b', alpha=0.55)\n",
    "plt.xlim([0, len(vis_data)*0.03])"
   ]
  },
  {
   "cell_type": "code",
   "execution_count": null,
   "metadata": {},
   "outputs": [],
   "source": []
  },
  {
   "cell_type": "code",
   "execution_count": null,
   "metadata": {
    "collapsed": true
   },
   "outputs": [],
   "source": []
  },
  {
   "cell_type": "code",
   "execution_count": null,
   "metadata": {
    "collapsed": true
   },
   "outputs": [],
   "source": []
  },
  {
   "cell_type": "code",
   "execution_count": null,
   "metadata": {
    "collapsed": true
   },
   "outputs": [],
   "source": []
  },
  {
   "cell_type": "code",
   "execution_count": null,
   "metadata": {
    "collapsed": true
   },
   "outputs": [],
   "source": []
  },
  {
   "cell_type": "code",
   "execution_count": null,
   "metadata": {
    "collapsed": true
   },
   "outputs": [],
   "source": []
  },
  {
   "cell_type": "code",
   "execution_count": null,
   "metadata": {},
   "outputs": [],
   "source": []
  },
  {
   "cell_type": "code",
   "execution_count": null,
   "metadata": {},
   "outputs": [],
   "source": [
    "lr8.signal = {}\n",
    "lr8.onsets = {}\n",
    "lr8.offsets = {}\n",
    "for date in dates:\n",
    "    lr8.signal[date] = {}\n",
    "    lr8.onsets[date] = {}\n",
    "    lr8.offsets[date] = {}\n",
    "    for run in runs:\n",
    "        lr8.signal[date][run] = {}\n",
    "        lr8.onsets[date][run] = {}\n",
    "        lr8.offsets[date][run] = {}\n",
    "        cols = lr8.nidaq[date][run].columns[0:6]\n",
    "        for col in cols:\n",
    "            timestamps = lr8.nidaq[date][run]['timestamps']\n",
    "            lr8.signal[date][run]['timestamps'] = timestamps\n",
    "            lr8.onsets[date][run][col] = timestamps[lr8.nidaq[date][run][col].diff() > 2.0]\n",
    "            lr8.offsets[date][run][col] = timestamps[lr8.nidaq[date][run][col].diff() < -2.0]\n",
    "            \n",
    "        visuals = len(lr8.onsets[date][run]['visual_stimulus'])\n",
    "        trials = lr8.bhv[date][run]['trialnum'].iloc[-1]\n",
    "        if visuals != trials:\n",
    "            print(lr8.mouse+' '+date+' '+str(run)+' '+' trial numbers are not matching: '+str(trials)+' trials but '+str(visuals)+' visual stimuli.')\n",
    "        if len(lr8.onsets[date][run][col]) != len(lr8.offsets[date][run][col]):\n",
    "            print(lr8.mouse+' '+date+' '+str(run)+' '+col+' numbers are not equal')\n",
    "            "
   ]
  },
  {
   "cell_type": "code",
   "execution_count": null,
   "metadata": {},
   "outputs": [],
   "source": []
  },
  {
   "cell_type": "code",
   "execution_count": null,
   "metadata": {},
   "outputs": [],
   "source": [
    "t = lr7.onsets[date][run]['timestamps']\n",
    "visStim = lr7.onsets[date][run]['visual_stimulus']\n",
    "ensure = lr7.onsets[date][run]['ensure']\n",
    "lick = lr7.onsets[date][run]['licking']\n",
    "\n",
    "plt.figure(figsize=(16,4))\n",
    "plt.plot(visStim, np.ones(len(visStim),dtype=int)*1, 'k-')\n",
    "plt.plot(ensure, np.ones(len(ensure),dtype=int)*2, 'r-')\n",
    "plt.plot(lick, np.ones(len(lick),dtype=int)*3, 'g|')\n"
   ]
  },
  {
   "cell_type": "code",
   "execution_count": null,
   "metadata": {},
   "outputs": [],
   "source": [
    "ITI = 6.0\n",
    "stim_duration = 2.0\n",
    "for date in dates:\n",
    "    for run in runs:\n",
    "        cols = lr7.nidaq[date][run].columns\n",
    "        for col in cols:\n",
    "            lr7.bhv[date][run]\n",
    "            for trial in lr7.bhv[date][run]['trialnum']:\n",
    "#                 lr7.signal[date][run]['timestamps']\n",
    "#                 lr7.onsets[date][run][col]\n",
    "#                 lr7.offsets[date][run][col]\n",
    "                lr7.onsets[date][run]['visual_stimulus']"
   ]
  },
  {
   "cell_type": "code",
   "execution_count": null,
   "metadata": {},
   "outputs": [],
   "source": [
    "lr7.bhv[date][run]['trialnum'].iloc[-1]"
   ]
  },
  {
   "cell_type": "code",
   "execution_count": null,
   "metadata": {},
   "outputs": [],
   "source": [
    "lr7.nidaq[date][run]['visual_stimulus'].diff()"
   ]
  },
  {
   "cell_type": "code",
   "execution_count": null,
   "metadata": {
    "collapsed": true
   },
   "outputs": [],
   "source": []
  },
  {
   "cell_type": "code",
   "execution_count": null,
   "metadata": {
    "collapsed": true
   },
   "outputs": [],
   "source": [
    "a=pd.DataFrame({'a':[1,2,3,4,5]})"
   ]
  },
  {
   "cell_type": "code",
   "execution_count": null,
   "metadata": {},
   "outputs": [],
   "source": [
    "a.drop([0], inplace=True)"
   ]
  },
  {
   "cell_type": "code",
   "execution_count": null,
   "metadata": {},
   "outputs": [],
   "source": [
    "a"
   ]
  }
 ],
 "metadata": {
  "kernelspec": {
   "display_name": "Python 2",
   "language": "python",
   "name": "python2"
  },
  "language_info": {
   "codemirror_mode": {
    "name": "ipython",
    "version": 2
   },
   "file_extension": ".py",
   "mimetype": "text/x-python",
   "name": "python",
   "nbconvert_exporter": "python",
   "pygments_lexer": "ipython2",
   "version": "2.7.14"
  }
 },
 "nbformat": 4,
 "nbformat_minor": 2
}
