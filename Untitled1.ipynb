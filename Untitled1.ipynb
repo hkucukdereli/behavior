{
 "cells": [
  {
   "cell_type": "code",
   "execution_count": 3,
   "metadata": {
    "collapsed": true
   },
   "outputs": [],
   "source": [
    "from behavior.behavior import behavior\n",
    "from behavior.plotScale import plotScale\n",
    "import pickle\n",
    "import numpy as np\n",
    "import pandas as pd\n",
    "import seaborn as sns\n",
    "import matplotlib.pyplot as plt\n",
    "%matplotlib inline\n"
   ]
  },
  {
   "cell_type": "code",
   "execution_count": 4,
   "metadata": {
    "collapsed": true
   },
   "outputs": [],
   "source": [
    "## Load LR7 and 8"
   ]
  },
  {
   "cell_type": "code",
   "execution_count": 5,
   "metadata": {},
   "outputs": [
    {
     "name": "stdout",
     "output_type": "stream",
     "text": [
      "Base directory is set to /Users/Amelia/Documents/hakan/data\n",
      "\n"
     ]
    }
   ],
   "source": [
    "baseDir = '/Users/Amelia/Documents/hakan/data'\n",
    "\n",
    "SalSal = ['180710', '180719','180724']\n",
    "SalCNO = ['180711', '180713', '180720']\n",
    "CNOSal = ['180712', '180717', '180725']\n",
    "dates = SalSal + SalCNO + CNOSal\n",
    "runs = [1, 2, 3]\n",
    "\n",
    "mouse = 'LR7'\n",
    "lr7 = behavior(mouse, dates, runs)\n",
    "lr7.setDir(baseDir)\n",
    "with open('/Users/Amelia/Documents/hakan/data/CNO_trials/' + lr7.mouse + '.obj', 'rb') as handle:\n",
    "            lr7.data = pickle.load(handle)\n",
    "\n",
    "# mouse = 'LR8'\n",
    "# lr8 = behavior(mouse, dates, runs)\n",
    "# lr8.setDir(baseDir)\n",
    "# with open('/Users/Amelia/Documents/hakan/data/CNO_trials/' + lr8.mouse + '.obj', 'rb') as handle:\n",
    "#             lr8.data = pickle.load(handle)\n"
   ]
  },
  {
   "cell_type": "code",
   "execution_count": 4,
   "metadata": {
    "collapsed": true
   },
   "outputs": [],
   "source": [
    "## Load LR9 and 13"
   ]
  },
  {
   "cell_type": "code",
   "execution_count": 5,
   "metadata": {
    "collapsed": true
   },
   "outputs": [],
   "source": [
    "# SalSal = ['180612', '180621']\n",
    "# SalCNO = ['180613', '180615', '180620']\n",
    "# CNOSal = ['180614', '180619', '180622']\n",
    "# dates = SalSal + SalCNO + CNOSal\n",
    "# runs = [1, 2, 3]\n",
    "\n",
    "# mouse = 'LR9'\n",
    "# lr9 = behavior(mouse, dates, runs)\n",
    "# lr9.setDir(baseDir)\n",
    "# with open('/Users/Amelia/Documents/hakan/data/CNO_trials/' + lr9.mouse + '.obj', 'rb') as handle:\n",
    "#             lr9.data = pickle.load(handle)\n",
    "        \n",
    "# mouse = 'LR13'\n",
    "# lr13 = behavior(mouse, dates, runs)\n",
    "# lr13.setDir(baseDir)\n",
    "# with open('/Users/Amelia/Documents/hakan/data/CNO_trials/' + lr13.mouse + '.obj', 'rb') as handle:\n",
    "#             lr13.data = pickle.load(handle)\n"
   ]
  },
  {
   "cell_type": "code",
   "execution_count": 6,
   "metadata": {
    "collapsed": true
   },
   "outputs": [],
   "source": [
    "## Find onsets"
   ]
  },
  {
   "cell_type": "code",
   "execution_count": 6,
   "metadata": {
    "collapsed": true
   },
   "outputs": [],
   "source": [
    "SalSal = ['180710', '180719','180724']\n",
    "SalCNO = ['180711', '180713', '180720']\n",
    "CNOSal = ['180712', '180717', '180725']\n",
    "dates = SalSal + SalCNO + CNOSal\n",
    "runs = [1, 2, 3]\n",
    "\n",
    "lr7.loadTrials(save= False)\n",
    "lr7.loadNidaq(clean=True, save= False)\n",
    "lr7.findOnsets(save=False)\n",
    "\n",
    "# lr8.loadTrials(save= False)\n",
    "# lr8.loadNidaq(clean=True, save= False)"
   ]
  },
  {
   "cell_type": "code",
   "execution_count": 8,
   "metadata": {
    "collapsed": true
   },
   "outputs": [],
   "source": [
    "#####"
   ]
  },
  {
   "cell_type": "code",
   "execution_count": 18,
   "metadata": {},
   "outputs": [
    {
     "name": "stdout",
     "output_type": "stream",
     "text": [
      "(21267, 25267, 37267)\n",
      "(41941, 45941, 57941)\n",
      "(63529, 67529, 79529)\n",
      "(88153, 92153, 104153)\n",
      "(108854, 112854, 124854)\n",
      "(133472, 137472, 149472)\n",
      "(155067, 159067, 171067)\n",
      "(176662, 180662, 192662)\n",
      "(197385, 201385, 213385)\n",
      "(218785, 222785, 234785)\n",
      "(239482, 243482, 255482)\n",
      "(260178, 264178, 276178)\n",
      "(280869, 284869, 296869)\n",
      "(305494, 309494, 321494)\n",
      "(327087, 331087, 343087)\n",
      "(348677, 352677, 364677)\n",
      "(373303, 377303, 389303)\n",
      "(394031, 398031, 410031)\n",
      "(414727, 418727, 430727)\n",
      "(435423, 439423, 451423)\n",
      "(457011, 461011, 473011)\n",
      "(481638, 485638, 497638)\n",
      "(506265, 510265, 522265)\n",
      "(527855, 531855, 543855)\n",
      "(548555, 552555, 564555)\n",
      "(569246, 573246, 585246)\n",
      "(589743, 593743, 605743)\n",
      "(610235, 614235, 626235)\n",
      "(631827, 635827, 647827)\n",
      "(656453, 660453, 672453)\n",
      "(681078, 685078, 697078)\n",
      "(705706, 709706, 721706)\n",
      "(727299, 731299, 743299)\n",
      "(747993, 751993, 763993)\n",
      "(769586, 773586, 785586)\n",
      "(790277, 794277, 806277)\n",
      "(814905, 818905, 830905)\n",
      "(836498, 840498, 852498)\n",
      "(857192, 861192, 873192)\n",
      "(877884, 881884, 893884)\n",
      "(902510, 906510, 918510)\n",
      "(924102, 928102, 940102)\n",
      "(948728, 952728, 964728)\n",
      "(973354, 977354, 989354)\n",
      "(997979, 1001979, 1013979)\n",
      "(1022608, 1026608, 1038608)\n",
      "(1044200, 1048200, 1060200)\n",
      "(1064893, 1068893, 1080893)\n",
      "(1089519, 1093519, 1105519)\n",
      "(1111113, 1115113, 1127113)\n",
      "(1131807, 1135807, 1147807)\n",
      "(1152533, 1156533, 1168533)\n",
      "(1173924, 1177924, 1189924)\n",
      "(1198550, 1202550, 1214550)\n",
      "(1219313, 1223313, 1235313)\n",
      "(1240076, 1244076, 1256076)\n",
      "(1260770, 1264770, 1276770)\n",
      "(1281496, 1285496, 1297496)\n",
      "(1303086, 1307086, 1319086)\n",
      "(1327714, 1331714, 1343714)\n",
      "(1352342, 1356342, 1368342)\n",
      "(1372834, 1376834, 1388834)\n",
      "(1393526, 1397526, 1409526)\n",
      "(1415121, 1419121, 1431121)\n",
      "(1436515, 1440515, 1452515)\n",
      "(1457209, 1461209, 1473209)\n",
      "(1477902, 1481902, 1493902)\n",
      "(1499495, 1503495, 1515495)\n",
      "(1521089, 1525089, 1537089)\n",
      "(1541783, 1545783, 1557783)\n",
      "(1563172, 1567172, 1579172)\n",
      "(1587799, 1591799, 1603799)\n",
      "(1610632, 1614632, 1626632)\n",
      "(1632223, 1636223, 1648223)\n",
      "(1653817, 1657817, 1669817)\n",
      "(1678444, 1682444, 1694444)\n",
      "(1699137, 1703137, 1715137)\n",
      "(1719831, 1723831, 1735831)\n",
      "(1740525, 1744525, 1756525)\n",
      "(1765146, 1769146, 1781146)\n",
      "(1785909, 1789909, 1801909)\n",
      "(1807504, 1811504, 1823504)\n",
      "(1828197, 1832197, 1844197)\n",
      "(1852821, 1856821, 1868821)\n",
      "(1874416, 1878416, 1890416)\n",
      "(1899041, 1903041, 1915041)\n",
      "(1920634, 1924634, 1936634)\n",
      "(1945259, 1949259, 1961259)\n",
      "(1966854, 1970854, 1982854)\n",
      "(1991478, 1995478, 2007478)\n",
      "(2013068, 2017068, 2029068)\n",
      "(2033831, 2037831, 2049831)\n",
      "(2058458, 2062458, 2074458)\n",
      "(2080052, 2084052, 2096052)\n",
      "(2104677, 2108677, 2120677)\n",
      "(2125370, 2129370, 2141370)\n",
      "(2146964, 2150964, 2162964)\n",
      "(2170727, 2174727, 2186727)\n",
      "(2191450, 2195450, 2207450)\n",
      "(2213042, 2217042, 2229042)\n",
      "(2234635, 2238635, 2250635)\n",
      "(2255329, 2259329, 2271329)\n",
      "(2276923, 2280923, 2292923)\n",
      "(2297617, 2301617, 2313617)\n",
      "(2318311, 2322311, 2334311)\n",
      "(2339004, 2343004, 2355004)\n",
      "(2360397, 2364397, 2376397)\n",
      "(2381791, 2385791, 2397791)\n",
      "(2402518, 2406518, 2418518)\n",
      "(2424144, 2428144, 2440144)\n",
      "(2445737, 2449737, 2461737)\n",
      "(2467330, 2471330, 2483330)\n",
      "(2488924, 2492924, 2504924)\n",
      "(2513549, 2517549, 2529549)\n",
      "(2535142, 2539142, 2551142)\n",
      "(2555837, 2559837, 2571837)\n",
      "(2580462, 2584462, 2596462)\n",
      "(2602055, 2606055, 2618055)\n",
      "(2626687, 2630687, 2642687)\n",
      "(2648307, 2652307, 2664307)\n"
     ]
    }
   ],
   "source": [
    "ITI = 6.0\n",
    "Fs = lr7.getFs()\n",
    "for trial in lr7.trials['180713'][2]:\n",
    "    onset = lr7.onsets['180713'][2]['visual_stimulus'].iloc[trial-1]\n",
    "    onsetInd = lr7.onsets['180713'][2]['visual_stimulus'].index[trial-1]\n",
    "    print (onsetInd - int((ITI/3)*Fs), onsetInd, onsetInd + int(ITI*Fs))"
   ]
  },
  {
   "cell_type": "code",
   "execution_count": 20,
   "metadata": {},
   "outputs": [],
   "source": [
    "lr7.onsets['180713'][2]['licking']['trialnum']=0"
   ]
  },
  {
   "cell_type": "code",
   "execution_count": 24,
   "metadata": {},
   "outputs": [
    {
     "data": {
      "text/plain": [
       "pandas.core.series.Series"
      ]
     },
     "execution_count": 24,
     "metadata": {},
     "output_type": "execute_result"
    }
   ],
   "source": [
    "lr7.onsets['180713'][2]['ensure']"
   ]
  },
  {
   "cell_type": "code",
   "execution_count": null,
   "metadata": {
    "collapsed": true
   },
   "outputs": [],
   "source": []
  },
  {
   "cell_type": "code",
   "execution_count": null,
   "metadata": {
    "collapsed": true
   },
   "outputs": [],
   "source": []
  },
  {
   "cell_type": "code",
   "execution_count": null,
   "metadata": {
    "collapsed": true
   },
   "outputs": [],
   "source": []
  },
  {
   "cell_type": "code",
   "execution_count": null,
   "metadata": {
    "collapsed": true
   },
   "outputs": [],
   "source": []
  },
  {
   "cell_type": "code",
   "execution_count": null,
   "metadata": {
    "collapsed": true
   },
   "outputs": [],
   "source": []
  },
  {
   "cell_type": "code",
   "execution_count": null,
   "metadata": {
    "collapsed": true
   },
   "outputs": [],
   "source": []
  },
  {
   "cell_type": "code",
   "execution_count": 23,
   "metadata": {
    "collapsed": true,
    "scrolled": true
   },
   "outputs": [],
   "source": []
  },
  {
   "cell_type": "code",
   "execution_count": null,
   "metadata": {
    "collapsed": true
   },
   "outputs": [],
   "source": []
  },
  {
   "cell_type": "code",
   "execution_count": null,
   "metadata": {
    "collapsed": true
   },
   "outputs": [],
   "source": [
    "lr7.signal = {}\n",
    "lr7.onsets = {}\n",
    "lr7.offsets = {}\n",
    "for date in dates:\n",
    "    lr7.signal[date] = {}\n",
    "    lr7.onsets[date] = {}\n",
    "    lr7.offsets[date] = {}\n",
    "    for run in runs:\n",
    "        lr7.signal[date][run] = {}\n",
    "        lr7.onsets[date][run] = {}\n",
    "        lr7.offsets[date][run] = {}\n",
    "        cols = lr7.nidaq[date][run].columns[0:6]\n",
    "        for col in cols:\n",
    "            lr7.signal[date][run]['timestamps'] = lr7.nidaq[date][run]['timestamps']\n",
    "            lr7.onsets[date][run][col] = lr7.nidaq[date][run]['timestamps'][lr7.nidaq[date][run][col].diff() > 2.0]\n",
    "            lr7.offsets[date][run][col] = lr7.nidaq[date][run]['timestamps'][lr7.nidaq[date][run][col].diff() < -2.0]\n",
    "            \n",
    "            if col == 'visual_stimulus':\n",
    "                visuals = len(lr7.onsets[date][run]['visual_stimulus'])\n",
    "                trials = lr7.bhv[date][run]['trialnum'].iloc[-1]\n",
    "                if visuals > trials:\n",
    "                    indOn = lr7.onsets[date][run]['visual_stimulus'].index[0]\n",
    "                    indOff = lr7.offsets[date][run]['visual_stimulus'].index[0]\n",
    "                    lr7.onsets[date][run]['visual_stimulus'].drop(indOn, inplace=True)\n",
    "                    lr7.offsets[date][run]['visual_stimulus'].drop(indOff, inplace=True)\n",
    "        \n",
    "        if len(lr7.onsets[date][run][col]) != len(lr7.offsets[date][run][col]):\n",
    "            print(lr7.mouse+' '+date+' '+str(run)+' '+col+' numbers are not equal')\n",
    "            "
   ]
  },
  {
   "cell_type": "code",
   "execution_count": null,
   "metadata": {
    "collapsed": true,
    "scrolled": true
   },
   "outputs": [],
   "source": [
    "pd.DataFrame({'onsets':lr7.onsets['180719'][2]['visual_stimulus'].values, 'offsets':lr7.offsets['180719'][2]['visual_stimulus'].values})\n"
   ]
  },
  {
   "cell_type": "code",
   "execution_count": 17,
   "metadata": {
    "scrolled": true
   },
   "outputs": [
    {
     "data": {
      "text/plain": [
       "{'timestamps': 0             0.0000\n",
       " 1             0.0005\n",
       " 2             0.0010\n",
       " 3             0.0015\n",
       " 4             0.0020\n",
       " 5             0.0025\n",
       " 6             0.0030\n",
       " 7             0.0035\n",
       " 8             0.0040\n",
       " 9             0.0045\n",
       " 10            0.0050\n",
       " 11            0.0055\n",
       " 12            0.0060\n",
       " 13            0.0065\n",
       " 14            0.0070\n",
       " 15            0.0075\n",
       " 16            0.0080\n",
       " 17            0.0085\n",
       " 18            0.0090\n",
       " 19            0.0095\n",
       " 20            0.0100\n",
       " 21            0.0105\n",
       " 22            0.0110\n",
       " 23            0.0115\n",
       " 24            0.0120\n",
       " 25            0.0125\n",
       " 26            0.0130\n",
       " 27            0.0135\n",
       " 28            0.0140\n",
       " 29            0.0145\n",
       "              ...    \n",
       " 2746770    1373.3850\n",
       " 2746771    1373.3855\n",
       " 2746772    1373.3860\n",
       " 2746773    1373.3865\n",
       " 2746774    1373.3870\n",
       " 2746775    1373.3875\n",
       " 2746776    1373.3880\n",
       " 2746777    1373.3885\n",
       " 2746778    1373.3890\n",
       " 2746779    1373.3895\n",
       " 2746780    1373.3900\n",
       " 2746781    1373.3905\n",
       " 2746782    1373.3910\n",
       " 2746783    1373.3915\n",
       " 2746784    1373.3920\n",
       " 2746785    1373.3925\n",
       " 2746786    1373.3930\n",
       " 2746787    1373.3935\n",
       " 2746788    1373.3940\n",
       " 2746789    1373.3945\n",
       " 2746790    1373.3950\n",
       " 2746791    1373.3955\n",
       " 2746792    1373.3960\n",
       " 2746793    1373.3965\n",
       " 2746794    1373.3970\n",
       " 2746795    1373.3975\n",
       " 2746796    1373.3980\n",
       " 2746797    1373.3985\n",
       " 2746798    1373.3990\n",
       " 2746799    1373.3995\n",
       " Name: timestamps, Length: 2746800, dtype: float64}"
      ]
     },
     "execution_count": 17,
     "metadata": {},
     "output_type": "execute_result"
    }
   ],
   "source": [
    "lr7.signal[date][run]"
   ]
  },
  {
   "cell_type": "code",
   "execution_count": null,
   "metadata": {
    "collapsed": true,
    "scrolled": false
   },
   "outputs": [],
   "source": []
  },
  {
   "cell_type": "code",
   "execution_count": null,
   "metadata": {
    "collapsed": true
   },
   "outputs": [],
   "source": [
    "vis_data = lr7.nidaq['180719'][1]['visual_stimulus'].values\n",
    "ensure_data = lr7.nidaq['180719'][1]['ensure'].values\n",
    "plt.figure(figsize=(20,2))\n",
    "plt.plot(ensure_data, 'r', alpha=0.55)\n",
    "plt.plot(vis_data, 'b', alpha=0.55)\n",
    "plt.xlim([0, len(vis_data)*0.03])"
   ]
  },
  {
   "cell_type": "code",
   "execution_count": null,
   "metadata": {
    "collapsed": true
   },
   "outputs": [],
   "source": []
  },
  {
   "cell_type": "code",
   "execution_count": null,
   "metadata": {
    "collapsed": true
   },
   "outputs": [],
   "source": []
  },
  {
   "cell_type": "code",
   "execution_count": null,
   "metadata": {
    "collapsed": true
   },
   "outputs": [],
   "source": []
  },
  {
   "cell_type": "code",
   "execution_count": null,
   "metadata": {
    "collapsed": true
   },
   "outputs": [],
   "source": []
  },
  {
   "cell_type": "code",
   "execution_count": null,
   "metadata": {
    "collapsed": true
   },
   "outputs": [],
   "source": []
  },
  {
   "cell_type": "code",
   "execution_count": null,
   "metadata": {
    "collapsed": true
   },
   "outputs": [],
   "source": []
  },
  {
   "cell_type": "code",
   "execution_count": null,
   "metadata": {
    "collapsed": true
   },
   "outputs": [],
   "source": []
  },
  {
   "cell_type": "code",
   "execution_count": null,
   "metadata": {
    "collapsed": true
   },
   "outputs": [],
   "source": [
    "lr8.signal = {}\n",
    "lr8.onsets = {}\n",
    "lr8.offsets = {}\n",
    "for date in dates:\n",
    "    lr8.signal[date] = {}\n",
    "    lr8.onsets[date] = {}\n",
    "    lr8.offsets[date] = {}\n",
    "    for run in runs:\n",
    "        lr8.signal[date][run] = {}\n",
    "        lr8.onsets[date][run] = {}\n",
    "        lr8.offsets[date][run] = {}\n",
    "        cols = lr8.nidaq[date][run].columns[0:6]\n",
    "        for col in cols:\n",
    "            timestamps = lr8.nidaq[date][run]['timestamps']\n",
    "            lr8.signal[date][run]['timestamps'] = timestamps\n",
    "            lr8.onsets[date][run][col] = timestamps[lr8.nidaq[date][run][col].diff() > 2.0]\n",
    "            lr8.offsets[date][run][col] = timestamps[lr8.nidaq[date][run][col].diff() < -2.0]\n",
    "            \n",
    "        visuals = len(lr8.onsets[date][run]['visual_stimulus'])\n",
    "        trials = lr8.bhv[date][run]['trialnum'].iloc[-1]\n",
    "        if visuals != trials:\n",
    "            print(lr8.mouse+' '+date+' '+str(run)+' '+' trial numbers are not matching: '+str(trials)+' trials but '+str(visuals)+' visual stimuli.')\n",
    "        if len(lr8.onsets[date][run][col]) != len(lr8.offsets[date][run][col]):\n",
    "            print(lr8.mouse+' '+date+' '+str(run)+' '+col+' numbers are not equal')\n",
    "            "
   ]
  },
  {
   "cell_type": "code",
   "execution_count": 16,
   "metadata": {},
   "outputs": [
    {
     "data": {
      "text/plain": [
       "{u'camera_pulses': 156           0.0780\n",
       " 319           0.1595\n",
       " 477           0.2385\n",
       " 641           0.3205\n",
       " 809           0.4045\n",
       " 969           0.4845\n",
       " 1133          0.5665\n",
       " 1295          0.6475\n",
       " 1459          0.7295\n",
       " 1623          0.8115\n",
       " 1787          0.8935\n",
       " 1951          0.9755\n",
       " 2115          1.0575\n",
       " 2275          1.1375\n",
       " 2435          1.2175\n",
       " 2599          1.2995\n",
       " 2763          1.3815\n",
       " 2927          1.4635\n",
       " 3091          1.5455\n",
       " 3255          1.6275\n",
       " 3423          1.7115\n",
       " 3583          1.7915\n",
       " 3747          1.8735\n",
       " 3907          1.9535\n",
       " 4071          2.0355\n",
       " 4239          2.1195\n",
       " 4403          2.2015\n",
       " 4563          2.2815\n",
       " 4723          2.3615\n",
       " 4885          2.4425\n",
       "              ...    \n",
       " 2741871    1370.9355\n",
       " 2742035    1371.0175\n",
       " 2742201    1371.1005\n",
       " 2742365    1371.1825\n",
       " 2742529    1371.2645\n",
       " 2742693    1371.3465\n",
       " 2742871    1371.4355\n",
       " 2743037    1371.5185\n",
       " 2743201    1371.6005\n",
       " 2743365    1371.6825\n",
       " 2743529    1371.7645\n",
       " 2743689    1371.8445\n",
       " 2743853    1371.9265\n",
       " 2744017    1372.0085\n",
       " 2744181    1372.0905\n",
       " 2744345    1372.1725\n",
       " 2744509    1372.2545\n",
       " 2744673    1372.3365\n",
       " 2744837    1372.4185\n",
       " 2745001    1372.5005\n",
       " 2745165    1372.5825\n",
       " 2745333    1372.6665\n",
       " 2745493    1372.7465\n",
       " 2745663    1372.8315\n",
       " 2745839    1372.9195\n",
       " 2745999    1372.9995\n",
       " 2746163    1373.0815\n",
       " 2746327    1373.1635\n",
       " 2746491    1373.2455\n",
       " 2746661    1373.3305\n",
       " Name: timestamps, Length: 16722, dtype: float64,\n",
       " u'ensure': 31839        15.9195\n",
       " 53233        26.6165\n",
       " 97408        48.7040\n",
       " 119745       59.8725\n",
       " 165964       82.9820\n",
       " 187557       93.7785\n",
       " 274963      137.4815\n",
       " 366502      183.2510\n",
       " 454141      227.0705\n",
       " 475534      237.7670\n",
       " 517621      258.8105\n",
       " 539214      269.6070\n",
       " 560807      280.4035\n",
       " 607026      303.5130\n",
       " 653245      326.6225\n",
       " 674838      337.4190\n",
       " 976045      488.0225\n",
       " 1018132     509.0660\n",
       " 1077180     538.5900\n",
       " 1098573     549.2865\n",
       " 1120166     560.0830\n",
       " 1211772     605.8860\n",
       " 1257990     628.9950\n",
       " 1302489     651.2445\n",
       " 1345596     672.7980\n",
       " 1388325     694.1625\n",
       " 1563295     781.6475\n",
       " 1584888     792.4440\n",
       " 1606481     803.2405\n",
       " 1627875     813.9375\n",
       " 1670195     835.0975\n",
       " 1691788     845.8940\n",
       " 1734142     867.0710\n",
       " 1846440     923.2200\n",
       " 1867833     933.9165\n",
       " 1889426     944.7130\n",
       " 1931746     965.8730\n",
       " 2019253    1009.6265\n",
       " 2040646    1020.3230\n",
       " 2156318    1078.1590\n",
       " 2265276    1132.6380\n",
       " 2286869    1143.4345\n",
       " 2329709    1164.8545\n",
       " 2418061    1209.0305\n",
       " 2530360    1265.1800\n",
       " 2593207    1296.6035\n",
       " 2660119    1330.0595\n",
       " Name: timestamps, dtype: float64,\n",
       " u'licking': 33713        16.8565\n",
       " 40870        20.4350\n",
       " 41654        20.8270\n",
       " 43688        21.8440\n",
       " 44021        22.0105\n",
       " 44380        22.1900\n",
       " 44731        22.3655\n",
       " 45038        22.5190\n",
       " 45359        22.6795\n",
       " 45770        22.8850\n",
       " 46130        23.0650\n",
       " 46468        23.2340\n",
       " 46861        23.4305\n",
       " 47262        23.6310\n",
       " 47665        23.8325\n",
       " 47996        23.9980\n",
       " 48378        24.1890\n",
       " 48761        24.3805\n",
       " 49117        24.5585\n",
       " 49434        24.7170\n",
       " 49826        24.9130\n",
       " 50169        25.0845\n",
       " 50546        25.2730\n",
       " 50920        25.4600\n",
       " 51248        25.6240\n",
       " 51634        25.8170\n",
       " 52126        26.0630\n",
       " 52474        26.2370\n",
       " 52902        26.4510\n",
       " 53230        26.6150\n",
       "              ...    \n",
       " 2593087    1296.5435\n",
       " 2593809    1296.9045\n",
       " 2594152    1297.0760\n",
       " 2594471    1297.2355\n",
       " 2594878    1297.4390\n",
       " 2595245    1297.6225\n",
       " 2595636    1297.8180\n",
       " 2596005    1298.0025\n",
       " 2596375    1298.1875\n",
       " 2596724    1298.3620\n",
       " 2597103    1298.5515\n",
       " 2597468    1298.7340\n",
       " 2597851    1298.9255\n",
       " 2598254    1299.1270\n",
       " 2598624    1299.3120\n",
       " 2599099    1299.5495\n",
       " 2599455    1299.7275\n",
       " 2599851    1299.9255\n",
       " 2600249    1300.1245\n",
       " 2600644    1300.3220\n",
       " 2601072    1300.5360\n",
       " 2601478    1300.7390\n",
       " 2601828    1300.9140\n",
       " 2602204    1301.1020\n",
       " 2602585    1301.2925\n",
       " 2604615    1302.3075\n",
       " 2606687    1303.3435\n",
       " 2623842    1311.9210\n",
       " 2625844    1312.9220\n",
       " 2626338    1313.1690\n",
       " Name: timestamps, Length: 950, dtype: float64,\n",
       " u'monitor_refresh': Series([], Name: timestamps, dtype: float64),\n",
       " u'shock': 74633        37.3165\n",
       " 74690        37.3450\n",
       " 74756        37.3780\n",
       " 74823        37.4115\n",
       " 74889        37.4445\n",
       " 98616        49.3080\n",
       " 98682        49.3410\n",
       " 98749        49.3745\n",
       " 98815        49.4075\n",
       " 98882        49.4410\n",
       " 208957      104.4785\n",
       " 209014      104.5070\n",
       " 209081      104.5405\n",
       " 209147      104.5735\n",
       " 209214      104.6070\n",
       " 254277      127.1385\n",
       " 254333      127.1665\n",
       " 254400      127.2000\n",
       " 254467      127.2335\n",
       " 254533      127.2665\n",
       " 321190      160.5950\n",
       " 321246      160.6230\n",
       " 321313      160.6565\n",
       " 321379      160.6895\n",
       " 321446      160.7230\n",
       " 412728      206.3640\n",
       " 412784      206.3920\n",
       " 412851      206.4255\n",
       " 412917      206.4585\n",
       " 412984      206.4920\n",
       "              ...    \n",
       " 2352056    1176.0280\n",
       " 2352112    1176.0560\n",
       " 2352179    1176.0895\n",
       " 2352246    1176.1230\n",
       " 2352312    1176.1560\n",
       " 2397375    1198.6875\n",
       " 2397432    1198.7160\n",
       " 2397498    1198.7490\n",
       " 2397565    1198.7825\n",
       " 2397632    1198.8160\n",
       " 2439662    1219.8310\n",
       " 2439718    1219.8590\n",
       " 2439785    1219.8925\n",
       " 2439852    1219.9260\n",
       " 2439918    1219.9590\n",
       " 2551961    1275.9805\n",
       " 2552017    1276.0085\n",
       " 2552083    1276.0415\n",
       " 2552150    1276.0750\n",
       " 2552217    1276.1085\n",
       " 2572687    1286.3435\n",
       " 2572744    1286.3720\n",
       " 2572810    1286.4050\n",
       " 2572877    1286.4385\n",
       " 2572944    1286.4720\n",
       " 2614808    1307.4040\n",
       " 2614864    1307.4320\n",
       " 2614930    1307.4650\n",
       " 2614997    1307.4985\n",
       " 2615064    1307.5320\n",
       " Name: timestamps, Length: 185, dtype: float64,\n",
       " u'visual_stimulus': 27549        13.7745\n",
       " 49118        24.5590\n",
       " 70514        35.2570\n",
       " 91015        45.5075\n",
       " 115439       57.7195\n",
       " 137032       68.5160\n",
       " 161662       80.8310\n",
       " 183254       91.6270\n",
       " 204847      102.4235\n",
       " 225343      112.6715\n",
       " 249970      124.9850\n",
       " 270664      135.3320\n",
       " 292258      146.1290\n",
       " 316884      158.4420\n",
       " 337578      168.7890\n",
       " 362202      181.1010\n",
       " 383796      191.8980\n",
       " 408422      204.2110\n",
       " 429149      214.5745\n",
       " 449841      224.9205\n",
       " 471435      235.7175\n",
       " 492828      246.4140\n",
       " 513521      256.7605\n",
       " 534916      267.4580\n",
       " 556509      278.2545\n",
       " 578103      289.0515\n",
       " 602729      301.3645\n",
       " 624322      312.1610\n",
       " 648948      324.4740\n",
       " 670540      335.2700\n",
       "              ...    \n",
       " 2015162    1007.5810\n",
       " 2036554    1018.2770\n",
       " 2057983    1028.9915\n",
       " 2078508    1039.2540\n",
       " 2103134    1051.5670\n",
       " 2123828    1061.9140\n",
       " 2148454    1074.2270\n",
       " 2174380    1087.1900\n",
       " 2194906    1097.4530\n",
       " 2215666    1107.8330\n",
       " 2240293    1120.1465\n",
       " 2260985    1130.4925\n",
       " 2282579    1141.2895\n",
       " 2304172    1152.0860\n",
       " 2324700    1162.3500\n",
       " 2347758    1173.8790\n",
       " 2368452    1184.2260\n",
       " 2393078    1196.5390\n",
       " 2413771    1206.8855\n",
       " 2435365    1217.6825\n",
       " 2456057    1228.0285\n",
       " 2476819    1238.4095\n",
       " 2501444    1250.7220\n",
       " 2526069    1263.0345\n",
       " 2547665    1273.8325\n",
       " 2568390    1284.1950\n",
       " 2589116    1294.5580\n",
       " 2610509    1305.2545\n",
       " 2631204    1315.6020\n",
       " 2655829    1327.9145\n",
       " Name: timestamps, Length: 120, dtype: float64}"
      ]
     },
     "execution_count": 16,
     "metadata": {},
     "output_type": "execute_result"
    }
   ],
   "source": [
    "lr7.onsets[date][run]"
   ]
  },
  {
   "cell_type": "code",
   "execution_count": 29,
   "metadata": {},
   "outputs": [
    {
     "ename": "KeyError",
     "evalue": "'timestamps'",
     "output_type": "error",
     "traceback": [
      "\u001b[0;31m---------------------------------------------------------------------------\u001b[0m",
      "\u001b[0;31mKeyError\u001b[0m                                  Traceback (most recent call last)",
      "\u001b[0;32m<ipython-input-29-9c454f638fc0>\u001b[0m in \u001b[0;36m<module>\u001b[0;34m()\u001b[0m\n\u001b[0;32m----> 1\u001b[0;31m \u001b[0mt\u001b[0m \u001b[0;34m=\u001b[0m \u001b[0mlr7\u001b[0m\u001b[0;34m.\u001b[0m\u001b[0monsets\u001b[0m\u001b[0;34m[\u001b[0m\u001b[0mdate\u001b[0m\u001b[0;34m]\u001b[0m\u001b[0;34m[\u001b[0m\u001b[0mrun\u001b[0m\u001b[0;34m]\u001b[0m\u001b[0;34m[\u001b[0m\u001b[0;34m'timestamps'\u001b[0m\u001b[0;34m]\u001b[0m\u001b[0;34m\u001b[0m\u001b[0m\n\u001b[0m\u001b[1;32m      2\u001b[0m \u001b[0mvisStim\u001b[0m \u001b[0;34m=\u001b[0m \u001b[0mlr7\u001b[0m\u001b[0;34m.\u001b[0m\u001b[0monsets\u001b[0m\u001b[0;34m[\u001b[0m\u001b[0mdate\u001b[0m\u001b[0;34m]\u001b[0m\u001b[0;34m[\u001b[0m\u001b[0mrun\u001b[0m\u001b[0;34m]\u001b[0m\u001b[0;34m[\u001b[0m\u001b[0;34m'visual_stimulus'\u001b[0m\u001b[0;34m]\u001b[0m\u001b[0;34m\u001b[0m\u001b[0m\n\u001b[1;32m      3\u001b[0m \u001b[0mensure\u001b[0m \u001b[0;34m=\u001b[0m \u001b[0mlr7\u001b[0m\u001b[0;34m.\u001b[0m\u001b[0monsets\u001b[0m\u001b[0;34m[\u001b[0m\u001b[0mdate\u001b[0m\u001b[0;34m]\u001b[0m\u001b[0;34m[\u001b[0m\u001b[0mrun\u001b[0m\u001b[0;34m]\u001b[0m\u001b[0;34m[\u001b[0m\u001b[0;34m'ensure'\u001b[0m\u001b[0;34m]\u001b[0m\u001b[0;34m\u001b[0m\u001b[0m\n\u001b[1;32m      4\u001b[0m \u001b[0mlick\u001b[0m \u001b[0;34m=\u001b[0m \u001b[0mlr7\u001b[0m\u001b[0;34m.\u001b[0m\u001b[0monsets\u001b[0m\u001b[0;34m[\u001b[0m\u001b[0mdate\u001b[0m\u001b[0;34m]\u001b[0m\u001b[0;34m[\u001b[0m\u001b[0mrun\u001b[0m\u001b[0;34m]\u001b[0m\u001b[0;34m[\u001b[0m\u001b[0;34m'licking'\u001b[0m\u001b[0;34m]\u001b[0m\u001b[0;34m\u001b[0m\u001b[0m\n\u001b[1;32m      5\u001b[0m \u001b[0;34m\u001b[0m\u001b[0m\n",
      "\u001b[0;31mKeyError\u001b[0m: 'timestamps'"
     ]
    }
   ],
   "source": [
    "t = lr7.onsets[date][run]['timestamps']\n",
    "visStim = lr7.onsets[date][run]['visual_stimulus']\n",
    "ensure = lr7.onsets[date][run]['ensure']\n",
    "lick = lr7.onsets[date][run]['licking']\n",
    "\n",
    "plt.figure(figsize=(16,4))\n",
    "plt.plot(visStim, np.ones(len(visStim),dtype=int)*1, 'k-')\n",
    "plt.plot(ensure, np.ones(len(ensure),dtype=int)*2, 'r-')\n",
    "plt.plot(lick, np.ones(len(lick),dtype=int)*3, 'g|')\n"
   ]
  },
  {
   "cell_type": "code",
   "execution_count": 28,
   "metadata": {
    "collapsed": true
   },
   "outputs": [],
   "source": [
    "ITI = 6.0\n",
    "stim_duration = 2.0\n",
    "for date in dates:\n",
    "    for run in runs:\n",
    "        cols = lr7.nidaq[date][run].columns\n",
    "        for col in cols:\n",
    "            lr7.bhv[date][run]\n",
    "            for trial in lr7.bhv[date][run]['trialnum']:\n",
    "#                 lr7.signal[date][run]['timestamps']\n",
    "#                 lr7.onsets[date][run][col]\n",
    "#                 lr7.offsets[date][run][col]\n",
    "                lr7.onsets[date][run]['visual_stimulus']"
   ]
  },
  {
   "cell_type": "code",
   "execution_count": null,
   "metadata": {},
   "outputs": [],
   "source": []
  },
  {
   "cell_type": "code",
   "execution_count": null,
   "metadata": {},
   "outputs": [],
   "source": []
  },
  {
   "cell_type": "code",
   "execution_count": null,
   "metadata": {
    "collapsed": true
   },
   "outputs": [],
   "source": []
  },
  {
   "cell_type": "code",
   "execution_count": null,
   "metadata": {
    "collapsed": true
   },
   "outputs": [],
   "source": []
  },
  {
   "cell_type": "code",
   "execution_count": null,
   "metadata": {
    "collapsed": true
   },
   "outputs": [],
   "source": []
  },
  {
   "cell_type": "code",
   "execution_count": null,
   "metadata": {
    "collapsed": true
   },
   "outputs": [],
   "source": []
  }
 ],
 "metadata": {
  "kernelspec": {
   "display_name": "Python 2",
   "language": "python",
   "name": "python2"
  },
  "language_info": {
   "codemirror_mode": {
    "name": "ipython",
    "version": 2
   },
   "file_extension": ".py",
   "mimetype": "text/x-python",
   "name": "python",
   "nbconvert_exporter": "python",
   "pygments_lexer": "ipython2",
   "version": "2.7.14"
  }
 },
 "nbformat": 4,
 "nbformat_minor": 2
}
