{
 "cells": [
  {
   "cell_type": "code",
   "execution_count": null,
   "metadata": {
    "collapsed": true
   },
   "outputs": [],
   "source": [
    "from behavior.behavior import behavior\n",
    "from behavior.plotScale import plotScale\n",
    "import os\n",
    "import pickle\n",
    "import numpy as np\n",
    "import pandas as pd\n",
    "import seaborn as sns\n",
    "import matplotlib.pyplot as plt\n",
    "%matplotlib inline\n"
   ]
  },
  {
   "cell_type": "code",
   "execution_count": null,
   "metadata": {
    "collapsed": true
   },
   "outputs": [],
   "source": [
    "# Load LR7"
   ]
  },
  {
   "cell_type": "code",
   "execution_count": null,
   "metadata": {
    "collapsed": true
   },
   "outputs": [],
   "source": [
    "SalSal = ['180710', '180719','180724']\n",
    "SalCNO = ['180711', '180713', '180720']\n",
    "CNOSal = ['180712', '180717', '180725']\n",
    "dates = SalSal + SalCNO + CNOSal\n",
    "runs = [1, 2, 3]\n",
    "mouse = 'LR7'\n",
    "\n",
    "lr7 = behavior(mouse, dates, runs)\n",
    "lr7.setDir('/Users/Amelia/Documents/hakan/behavior')\n",
    "\n",
    "with open('/Users/Amelia/Documents/hakan/data/CNO_trials/' + lr7.mouse + '.obj', 'rb') as handle:\n",
    "            lr7.data = pickle.load(handle)\n",
    "\n",
    "lr7.loadTrials(save= False)\n",
    "lr7.loadNidaq(clean=True, save= False)\n",
    "lr7.findOnsets(2.5, save=False)\n",
    "lr7.nidaq['180711'][1]['licking'].loc[0]=0"
   ]
  },
  {
   "cell_type": "code",
   "execution_count": null,
   "metadata": {
    "collapsed": true
   },
   "outputs": [],
   "source": []
  },
  {
   "cell_type": "code",
   "execution_count": null,
   "metadata": {
    "collapsed": true
   },
   "outputs": [],
   "source": [
    "# organize the onsets and offsets data"
   ]
  },
  {
   "cell_type": "code",
   "execution_count": null,
   "metadata": {
    "collapsed": true,
    "scrolled": true
   },
   "outputs": [],
   "source": [
    "date = '180719'\n",
    "run = 1\n",
    "\n",
    "onsets = lr7.onsets[date][run]['visual_stimulus']\n",
    "offsets = lr7.offsets[date][run]['visual_stimulus']\n",
    "trialnum = lr7.bhv[date][run]['trialnum'].values\n",
    "conditions = lr7.bhv[date][run]['conditions'].values\n",
    "trialerrors = lr7.bhv[date][run]['trialerrors'].values\n",
    "visStim = pd.DataFrame({'onsets':onsets.values, 'offsets':offsets.values, 'trialnum':trialnum, 'conditions':conditions, 'trialerrors':trialerrors})\n",
    "visStim['channel'] = 'visual_stimulus'"
   ]
  },
  {
   "cell_type": "code",
   "execution_count": null,
   "metadata": {
    "collapsed": true
   },
   "outputs": [],
   "source": [
    "trialnum = lr7.bhv[date][run]['trialnum'].values\n",
    "conditions = lr7.bhv[date][run]['conditions'].values\n",
    "trialerrors = lr7.bhv[date][run]['trialerrors'].values\n",
    "Onsets = pd.DataFrame([])\n",
    "for col in ['licking', 'ensure', 'shock', 'camera_pulses']:\n",
    "    onsets = lr7.onsets[date][run][col]\n",
    "    offsets = lr7.offsets[date][run][col]\n",
    "    temp = pd.DataFrame({'onsets':onsets.values, 'offsets':offsets.values})\n",
    "    temp['trialnum'] = 0\n",
    "    temp['conditions'] = -1\n",
    "    temp['trialerrors'] = -1\n",
    "    \n",
    "    for trial in visStim.groupby('trialnum'):\n",
    "        t_zero = trial[1]['onsets'].values[0]\n",
    "        begin = t_zero - ITI/3\n",
    "        end = t_zero + ITI\n",
    "        # locate the trials\n",
    "        trialInd = (temp['onsets'] > begin) & (temp['onsets'] < end)\n",
    "        temp['trialnum'].loc[trialInd] = trial[0]\n",
    "        temp['conditions'].loc[trialInd] = lr7.bhv[date][run]['conditions'].loc[trial[0]-1]\n",
    "        temp['trialerrors'].loc[trialInd] = lr7.bhv[date][run]['trialerrors'].loc[trial[0]-1]\n",
    "        temp['channel'] = col\n",
    "        \n",
    "    Onsets = pd.concat([Onsets, temp])\n",
    "\n",
    "Onsets = Onsets[Onsets['trialnum'] != 0]\n",
    "Onsets.sort_values(['conditions', 'trialerrors', 'trialnum'], inplace= True)"
   ]
  },
  {
   "cell_type": "code",
   "execution_count": null,
   "metadata": {
    "collapsed": true
   },
   "outputs": [],
   "source": []
  },
  {
   "cell_type": "code",
   "execution_count": null,
   "metadata": {
    "collapsed": true,
    "scrolled": true
   },
   "outputs": [],
   "source": []
  },
  {
   "cell_type": "code",
   "execution_count": null,
   "metadata": {
    "collapsed": true
   },
   "outputs": [],
   "source": [
    "fig, ax = plt.subplots(1, 1, figsize=(10,12))\n",
    "sns.set_style(stylish)\n",
    "\n",
    "conditionCols = ['Green', 'Blue', 'Red', 'Grey']\n",
    "eventCols = {'visual_stimulus':'#ccd9ff', 'lick':'k', 'ensure':'#80ff80', 'shock':'#ff8080'}\n",
    "\n",
    "condition = []\n",
    "corners = [0]\n",
    "for rowNum, trial in enumerate(Onsets.groupby(['conditions', 'trialerrors', 'trialnum'])):\n",
    "    trialNum = trial[0][2]\n",
    "    visOn = visStim['onsets'][visStim['trialnum'] == trialNum].values[0]\n",
    "    visOff = visStim['offsets'][visStim['trialnum'] == trialNum].values[0]\n",
    "    condition.append(trial[0][0])\n",
    "    if condition[rowNum-1] != condition[rowNum]:\n",
    "        corners.append(rowNum)\n",
    "        ax.hlines(rowNum-0.5, -ITI/3, ITI, linewidth=0.382)\n",
    "    \n",
    "    # plot visual stimulus\n",
    "    ax.hlines(rowNum, visOn - visOn, visOff - visOn, color=eventCols['visual_stimulus'], linewidth=5)\n",
    "    \n",
    "    # plot ensure\n",
    "    if len(trial[1][trial[1]['channel'] == 'ensure']) != 0:\n",
    "        ensureOn = trial[1]['onsets'][trial[1]['channel'] == 'ensure'].values - visOn\n",
    "        ensureOff = trial[1]['onsets'][trial[1]['channel'] == 'ensure'].values - visOn\n",
    "        ax.vlines(ensureOn, rowNum-1, rowNum+1, color=eventCols['ensure'], linewidth=3)\n",
    "    \n",
    "    # plot shock \n",
    "    if len(trial[1][trial[1]['channel'] == 'shock']) != 0:\n",
    "        shockOn = trial[1]['onsets'][trial[1]['channel'] == 'shock'].values - visOn\n",
    "        shockOff = trial[1]['onsets'][trial[1]['channel'] == 'shock'].values - visOn\n",
    "        ax.vlines(shockOn, rowNum-0.5, rowNum+0.5, color=eventCols['shock'], linewidth=3) \n",
    "    \n",
    "    # plot licks\n",
    "    if len(trial[1][trial[1]['channel'] == 'licking']) != 0:\n",
    "        licks = trial[1]['onsets'][trial[1]['channel'] == 'licking'].values - visOn\n",
    "        ax.vlines(licks, rowNum-0.382, rowNum+0.382, linewidth= 0.764)\n",
    "\n",
    "corners.append(rowNum)\n",
    "for i in range(0, len(corners)-1):\n",
    "    ax.vlines(-ITI/3-0.382, corners[i]+0.618, corners[i+1]-0.618, conditionCols[i], linewidth=6.18)\n",
    "    print corners[i]-1, corners[i+1]+1\n",
    "ax.invert_yaxis()\n",
    "ax.set_xlim([-ITI/3-0.618, ITI])\n"
   ]
  },
  {
   "cell_type": "code",
   "execution_count": null,
   "metadata": {
    "collapsed": true,
    "scrolled": false
   },
   "outputs": [],
   "source": []
  },
  {
   "cell_type": "code",
   "execution_count": null,
   "metadata": {
    "collapsed": true
   },
   "outputs": [],
   "source": [
    "stylish = {'axes.axisbelow': False,\n",
    " 'axes.edgecolor': '1',\n",
    " 'axes.facecolor': 'white',\n",
    " 'axes.grid': False,\n",
    " 'axes.labelcolor': '.15',\n",
    " 'axes.spines.bottom': False,\n",
    " 'axes.spines.left': False,\n",
    " 'axes.spines.right': False,\n",
    " 'axes.spines.top': False,\n",
    " 'figure.facecolor': 'white',\n",
    " 'font.family': ['sans-serif'],\n",
    " 'font.sans-serif': ['Arial',\n",
    "  'DejaVu Sans',\n",
    "  'Liberation Sans',\n",
    "  'Bitstream Vera Sans',\n",
    "  'sans-serif'],\n",
    " 'font.size': 14,\n",
    " 'grid.color': '.8',\n",
    " 'grid.linestyle': '-',\n",
    " 'image.cmap': 'rocket',\n",
    " 'lines.solid_capstyle': 'round',\n",
    " 'patch.edgecolor': 'w',\n",
    " 'patch.force_edgecolor': True,\n",
    " 'text.color': '.15',\n",
    " 'xtick.bottom': False,\n",
    " 'xtick.color': '.15',\n",
    " 'xtick.direction': 'out',\n",
    " 'xtick.top': False,\n",
    " 'ytick.color': '.15',\n",
    " 'ytick.direction': 'out',\n",
    " 'ytick.left': False,\n",
    " 'ytick.right': False}"
   ]
  },
  {
   "cell_type": "code",
   "execution_count": null,
   "metadata": {
    "collapsed": true
   },
   "outputs": [],
   "source": []
  },
  {
   "cell_type": "code",
   "execution_count": null,
   "metadata": {
    "collapsed": true
   },
   "outputs": [],
   "source": []
  },
  {
   "cell_type": "code",
   "execution_count": null,
   "metadata": {
    "collapsed": true
   },
   "outputs": [],
   "source": []
  },
  {
   "cell_type": "code",
   "execution_count": null,
   "metadata": {
    "collapsed": true
   },
   "outputs": [],
   "source": []
  },
  {
   "cell_type": "code",
   "execution_count": null,
   "metadata": {
    "collapsed": true,
    "scrolled": false
   },
   "outputs": [],
   "source": [
    "ITI = 6.0\n",
    "\n",
    "for date in dates:\n",
    "    for run in runs:\n",
    "        print('At ' + mouse + ', ' + date + ', ' + str(run))\n",
    "        onsets = lr7.onsets[date][run]['visual_stimulus']\n",
    "        offsets = lr7.offsets[date][run]['visual_stimulus']\n",
    "        trialnum = lr7.bhv[date][run]['trialnum'].values\n",
    "        conditions = lr7.bhv[date][run]['conditions'].values\n",
    "        trialerrors = lr7.bhv[date][run]['trialerrors'].values\n",
    "        visStim = pd.DataFrame({'onsets':onsets.values, 'offsets':offsets.values, 'trialnum':trialnum, 'conditions':conditions, 'trialerrors':trialerrors})\n",
    "        visStim['channel'] = 'visual_stimulus'\n",
    "\n",
    "        trialnum = lr7.bhv[date][run]['trialnum'].values\n",
    "        conditions = lr7.bhv[date][run]['conditions'].values\n",
    "        trialerrors = lr7.bhv[date][run]['trialerrors'].values\n",
    "        Onsets = pd.DataFrame([])\n",
    "        for col in ['licking', 'ensure', 'shock', 'camera_pulses']:\n",
    "            onsets = lr7.onsets[date][run][col]\n",
    "            offsets = lr7.offsets[date][run][col]\n",
    "            temp = pd.DataFrame({'onsets':onsets.values, 'offsets':offsets.values})\n",
    "            temp['trialnum'] = 0\n",
    "            temp['conditions'] = -1\n",
    "            temp['trialerrors'] = -1\n",
    "\n",
    "            for trial in visStim.groupby('trialnum'):\n",
    "                t_zero = trial[1]['onsets'].values[0]\n",
    "                begin = t_zero - ITI/3\n",
    "                end = t_zero + ITI\n",
    "                # locate the trials\n",
    "                trialInd = (temp['onsets'] > begin) & (temp['onsets'] < end)\n",
    "                temp['trialnum'].loc[trialInd] = trial[0]\n",
    "                temp['conditions'].loc[trialInd] = lr7.bhv[date][run]['conditions'].loc[trial[0]-1]\n",
    "                temp['trialerrors'].loc[trialInd] = lr7.bhv[date][run]['trialerrors'].loc[trial[0]-1]\n",
    "                temp['channel'] = col\n",
    "\n",
    "            Onsets = pd.concat([Onsets, temp])\n",
    "\n",
    "        Onsets = Onsets[Onsets['trialnum'] != 0]\n",
    "        Onsets.sort_values(['conditions', 'trialerrors', 'trialnum'], inplace= True)\n",
    "\n",
    "        print('Plotting...')\n",
    "        fig, ax = plt.subplots(1, 1, figsize=(10,12))\n",
    "        sns.set_style(stylish)\n",
    "\n",
    "        conditionCols = ['Green', 'Blue', 'Red', 'Grey']\n",
    "        eventCols = {'visual_stimulus':'#ccd9ff', 'lick':'k', 'ensure':'#80ff80', 'shock':'#ff8080'}\n",
    "\n",
    "        condition = []\n",
    "        corners = [0]\n",
    "        for rowNum, trial in enumerate(Onsets.groupby(['conditions', 'trialerrors', 'trialnum'])):\n",
    "            trialNum = trial[0][2]\n",
    "            visOn = visStim['onsets'][visStim['trialnum'] == trialNum].values[0]\n",
    "            visOff = visStim['offsets'][visStim['trialnum'] == trialNum].values[0]\n",
    "            condition.append(trial[0][0])\n",
    "            if condition[rowNum-1] != condition[rowNum]:\n",
    "                corners.append(rowNum)\n",
    "                ax.hlines(rowNum-0.5, -ITI/3, ITI, linewidth=0.382)\n",
    "\n",
    "            # plot visual stimulus\n",
    "            ax.hlines(rowNum, visOn - visOn, visOff - visOn, color=eventCols['visual_stimulus'], linewidth=5)\n",
    "\n",
    "            # plot ensure\n",
    "            if len(trial[1][trial[1]['channel'] == 'ensure']) != 0:\n",
    "                ensureOn = trial[1]['onsets'][trial[1]['channel'] == 'ensure'].values - visOn\n",
    "                ensureOff = trial[1]['onsets'][trial[1]['channel'] == 'ensure'].values - visOn\n",
    "                ax.vlines(ensureOn, rowNum-1, rowNum+1, color=eventCols['ensure'], linewidth=3)\n",
    "\n",
    "            # plot shock \n",
    "            if len(trial[1][trial[1]['channel'] == 'shock']) != 0:\n",
    "                shockOn = trial[1]['onsets'][trial[1]['channel'] == 'shock'].values - visOn\n",
    "                shockOff = trial[1]['onsets'][trial[1]['channel'] == 'shock'].values - visOn\n",
    "                ax.vlines(shockOn, rowNum-0.5, rowNum+0.5, color=eventCols['shock'], linewidth=3) \n",
    "\n",
    "            # plot licks\n",
    "            if len(trial[1][trial[1]['channel'] == 'licking']) != 0:\n",
    "                licks = trial[1]['onsets'][trial[1]['channel'] == 'licking'].values - visOn\n",
    "                ax.vlines(licks, rowNum-0.382, rowNum+0.382, linewidth= 0.764)\n",
    "\n",
    "        corners.append(rowNum)\n",
    "        for i in range(0, len(corners)-1):\n",
    "            ax.vlines(-ITI/3-0.382, corners[i]+0.618, corners[i+1]-0.618, conditionCols[i], linewidth=6.18)\n",
    "\n",
    "        ax.invert_yaxis()\n",
    "        ax.set_xlim([-ITI/3-0.618, ITI])\n",
    "        if date in SalSal:\n",
    "            ax.set_title([mouse+' '+date+' '+str(run)+'Saline -- > Saline'])\n",
    "        elif date in SalCNO:\n",
    "            ax.set_title([mouse+' '+date+' '+str(run)+'Saline -- > CNO'])\n",
    "        elif date in CNOSal:\n",
    "            ax.set_title([mouse+' '+date+' '+str(run)+'CNO -- > Saline'])\n",
    "        else:\n",
    "            ax.set_title([mouse+' '+date+' '+str(run)+'N/A'])\n",
    "        \n",
    "        print('Saving...')\n",
    "        plt.savefig(os.path.join('/Users/Amelia/Documents/hakan/data/figures/'+mouse+'_'+date+'_'+str(run)+'.png'))\n",
    "        plt.savefig(os.path.join('/Users/Amelia/Documents/hakan/data/figures/'+mouse+'_'+date+'_'+str(run)+'.svg'))"
   ]
  },
  {
   "cell_type": "code",
   "execution_count": null,
   "metadata": {
    "collapsed": true
   },
   "outputs": [],
   "source": []
  },
  {
   "cell_type": "code",
   "execution_count": null,
   "metadata": {
    "collapsed": true
   },
   "outputs": [],
   "source": []
  },
  {
   "cell_type": "code",
   "execution_count": 1,
   "metadata": {
    "collapsed": true
   },
   "outputs": [],
   "source": [
    "from behavior.behavior import behavior\n",
    "from behavior.plotScale import plotScale\n",
    "import os\n",
    "import pickle\n",
    "import numpy as np\n",
    "import pandas as pd\n",
    "import seaborn as sns\n",
    "import matplotlib.pyplot as plt\n",
    "# %matplotlib inline\n"
   ]
  },
  {
   "cell_type": "code",
   "execution_count": 2,
   "metadata": {
    "collapsed": true
   },
   "outputs": [],
   "source": [
    "stylish = {'axes.axisbelow': False,\n",
    " 'axes.edgecolor': '1',\n",
    " 'axes.facecolor': 'white',\n",
    " 'axes.grid': False,\n",
    " 'axes.labelcolor': '.15',\n",
    " 'axes.spines.bottom': False,\n",
    " 'axes.spines.left': False,\n",
    " 'axes.spines.right': False,\n",
    " 'axes.spines.top': False,\n",
    " 'figure.facecolor': 'white',\n",
    " 'font.family': ['sans-serif'],\n",
    " 'font.sans-serif': ['Arial',\n",
    "  'DejaVu Sans',\n",
    "  'Liberation Sans',\n",
    "  'Bitstream Vera Sans',\n",
    "  'sans-serif'],\n",
    " 'font.size': 14,\n",
    " 'grid.color': '.8',\n",
    " 'grid.linestyle': '-',\n",
    " 'image.cmap': 'rocket',\n",
    " 'lines.solid_capstyle': 'round',\n",
    " 'patch.edgecolor': 'w',\n",
    " 'patch.force_edgecolor': True,\n",
    " 'text.color': '.15',\n",
    " 'xtick.bottom': False,\n",
    " 'xtick.color': '.15',\n",
    " 'xtick.direction': 'out',\n",
    " 'xtick.top': False,\n",
    " 'ytick.color': '.15',\n",
    " 'ytick.direction': 'out',\n",
    " 'ytick.left': False,\n",
    " 'ytick.right': False}"
   ]
  },
  {
   "cell_type": "code",
   "execution_count": 17,
   "metadata": {
    "collapsed": true
   },
   "outputs": [],
   "source": [
    "def run(mus, mouse, dates, runs, load=True):\n",
    "    if load:\n",
    "        mus.setDir('/Users/Amelia/Documents/hakan/behavior')\n",
    "\n",
    "        with open('/Users/Amelia/Documents/hakan/data/CNO_trials/' + mus.mouse + '.obj', 'rb') as handle:\n",
    "                    mus.data = pickle.load(handle)\n",
    "\n",
    "        mus.loadTrials(save= False)\n",
    "        mus.loadNidaq(clean=True, save= False)\n",
    "        mus.findOnsets(2.5, save=False)\n",
    "\n",
    "    ITI = 6.0\n",
    "\n",
    "    for date in dates:\n",
    "        print('Plotting...')\n",
    "        fig, ax = plt.subplots(1, 3, figsize=(32,12))\n",
    "        sns.set_style(stylish)\n",
    "        for run in runs:\n",
    "            print('At ' + mouse + ', ' + date + ', ' + str(run))\n",
    "            onsets = mus.onsets[date][run]['visual_stimulus']\n",
    "            offsets = mus.offsets[date][run]['visual_stimulus']\n",
    "            trialnum = mus.bhv[date][run]['trialnum'].values\n",
    "            conditions = mus.bhv[date][run]['conditions'].values\n",
    "            trialerrors = mus.bhv[date][run]['trialerrors'].values\n",
    "            visStim = pd.DataFrame({'onsets':onsets.values, 'offsets':offsets.values, 'trialnum':trialnum, 'conditions':conditions, 'trialerrors':trialerrors})\n",
    "            visStim['channel'] = 'visual_stimulus'\n",
    "\n",
    "            trialnum = mus.bhv[date][run]['trialnum'].values\n",
    "            conditions = mus.bhv[date][run]['conditions'].values\n",
    "            trialerrors = mus.bhv[date][run]['trialerrors'].values\n",
    "            Onsets = pd.DataFrame([])\n",
    "            for col in ['licking', 'ensure', 'shock', 'camera_pulses']:\n",
    "                onsets = mus.onsets[date][run][col]\n",
    "                offsets = mus.offsets[date][run][col]\n",
    "                temp = pd.DataFrame({'onsets':onsets.values, 'offsets':offsets.values})\n",
    "                temp['trialnum'] = 0\n",
    "                temp['conditions'] = -1\n",
    "                temp['trialerrors'] = -1\n",
    "\n",
    "                for trial in visStim.groupby('trialnum'):\n",
    "                    t_zero = trial[1]['onsets'].values[0]\n",
    "                    begin = t_zero - ITI/3\n",
    "                    end = t_zero + ITI\n",
    "                    # locate the trials\n",
    "                    trialInd = (temp['onsets'] > begin) & (temp['onsets'] < end)\n",
    "                    temp['trialnum'].loc[trialInd] = trial[0]\n",
    "                    temp['conditions'].loc[trialInd] = mus.bhv[date][run]['conditions'].loc[trial[0]-1]\n",
    "                    temp['trialerrors'].loc[trialInd] = mus.bhv[date][run]['trialerrors'].loc[trial[0]-1]\n",
    "                    temp['channel'] = col\n",
    "\n",
    "                Onsets = pd.concat([Onsets, temp])\n",
    "\n",
    "            Onsets = Onsets[Onsets['trialnum'] != 0]\n",
    "            Onsets.sort_values(['conditions', 'trialerrors', 'trialnum'], inplace= True)\n",
    "\n",
    "            conditionCols = ['Green', 'Blue', 'Red', 'Grey']\n",
    "            eventCols = {'visual_stimulus':'#ccd9ff', 'lick':'k', 'ensure':'#80ff80', 'shock':'#ff8080'}\n",
    "\n",
    "            condition = []\n",
    "            corners = [0]\n",
    "            for rowNum, trial in enumerate(Onsets.groupby(['conditions', 'trialerrors', 'trialnum'])):\n",
    "                trialNum = trial[0][2]\n",
    "                visOn = visStim['onsets'][visStim['trialnum'] == trialNum].values[0]\n",
    "                visOff = visStim['offsets'][visStim['trialnum'] == trialNum].values[0]\n",
    "                condition.append(trial[0][0])\n",
    "                if condition[rowNum-1] != condition[rowNum]:\n",
    "                    corners.append(rowNum)\n",
    "                    ax[run-1].hlines(rowNum-0.5, -ITI/3, ITI, linewidth=0.382)\n",
    "\n",
    "                # plot visual stimulus\n",
    "                ax[run-1].hlines(rowNum, visOn - visOn, visOff - visOn, color=eventCols['visual_stimulus'], linewidth=5)\n",
    "\n",
    "                # plot ensure\n",
    "                if len(trial[1][trial[1]['channel'] == 'ensure']) != 0:\n",
    "                    ensureOn = trial[1]['onsets'][trial[1]['channel'] == 'ensure'].values - visOn\n",
    "                    ensureOff = trial[1]['onsets'][trial[1]['channel'] == 'ensure'].values - visOn\n",
    "                    ax[run-1].vlines(ensureOn, rowNum-1, rowNum+1, color=eventCols['ensure'], linewidth=3)\n",
    "\n",
    "                # plot shock \n",
    "                if len(trial[1][trial[1]['channel'] == 'shock']) != 0:\n",
    "                    shockOn = trial[1]['onsets'][trial[1]['channel'] == 'shock'].values - visOn\n",
    "                    shockOff = trial[1]['onsets'][trial[1]['channel'] == 'shock'].values - visOn\n",
    "                    ax[run-1].vlines(shockOn, rowNum-0.5, rowNum+0.5, color=eventCols['shock'], linewidth=3) \n",
    "\n",
    "                # plot licks\n",
    "                if len(trial[1][trial[1]['channel'] == 'licking']) != 0:\n",
    "                    licks = trial[1]['onsets'][trial[1]['channel'] == 'licking'].values - visOn\n",
    "                    ax[run-1].vlines(licks, rowNum-0.382, rowNum+0.382, linewidth= 0.764)\n",
    "\n",
    "            corners.append(rowNum)\n",
    "            for i in range(0, len(corners)-1):\n",
    "                ax[run-1].vlines(-ITI/3-0.382, corners[i]+0.618, corners[i+1]-0.618, conditionCols[i], linewidth=6.18)\n",
    "\n",
    "            ax[run-1].invert_yaxis()\n",
    "            ax[run-1].set_xlim([-ITI/3-0.618, ITI])\n",
    "                     \n",
    "            if date in SalSal:\n",
    "                fname = 'Saline--Saline'\n",
    "                fig.suptitle(mouse + ', ' + date + 'Saline --> Saline')\n",
    "                ax[0].set_title('preRun (run 1)')\n",
    "                ax[1].set_title('Saline (run 2)')         \n",
    "                ax[2].set_title('Saline (run 3)')        \n",
    "            elif date in SalCNO:\n",
    "                fname = 'Saline--CNO'\n",
    "                fig.suptitle(mouse + ', ' + date + 'Saline --> CNO')\n",
    "                ax[0].set_title('preRun (run 1)')\n",
    "                ax[1].set_title('Saline (run 2)')         \n",
    "                ax[2].set_title('CNO (run 3)')  \n",
    "            elif date in CNOSal:\n",
    "                fig.suptitle(mouse + ', ' + date + 'CNO --> Saline')\n",
    "                fname = 'CNO--Saline'\n",
    "                ax[0].set_title('preRun (run 1)')\n",
    "                ax[1].set_title('CNO (run 2)')         \n",
    "                ax[2].set_title('Saline (run 3)')  \n",
    "            else:\n",
    "                fname = 'None--None'\n",
    "                fig.suptitle(mouse + ', ' + date)\n",
    "                ax[0].set_title('preRun (run 1)')\n",
    "                ax[1].set_title('None (run 2)')         \n",
    "                ax[2].set_title('None (run 3)')  \n",
    "\n",
    "        print('Saving...')\n",
    "        plt.savefig(os.path.join('/Users/Amelia/Documents/hakan/data/figures/'+mouse+'_'+date+'_'+fname+'.png'))\n",
    "        plt.savefig(os.path.join('/Users/Amelia/Documents/hakan/data/figures/'+mouse+'_'+date+'_'+fname+'.svg'))"
   ]
  },
  {
   "cell_type": "code",
   "execution_count": null,
   "metadata": {
    "collapsed": true
   },
   "outputs": [],
   "source": [
    "cols = mus.nidaq['180710'][3].columns[0:6]\n",
    "for col in cols:\n",
    "    print col, len(mus.bhv['180710'][3]['trialnum']), len(mus.onsets['180710'][3][col]), len(mus.offsets['180710'][3][col])"
   ]
  },
  {
   "cell_type": "code",
   "execution_count": null,
   "metadata": {
    "collapsed": true
   },
   "outputs": [],
   "source": []
  },
  {
   "cell_type": "code",
   "execution_count": null,
   "metadata": {
    "collapsed": true
   },
   "outputs": [],
   "source": [
    "run = 3\n",
    "onsets = mus.onsets[date][run]['visual_stimulus']\n",
    "offsets = mus.offsets[date][run]['visual_stimulus']\n",
    "trialnum = mus.bhv[date][run]['trialnum'].values\n",
    "conditions = mus.bhv[date][run]['conditions'].values\n",
    "trialerrors = mus.bhv[date][run]['trialerrors'].values\n",
    "visStim = pd.DataFrame({'onsets':onsets.values, 'offsets':offsets.values, 'trialnum':trialnum, 'conditions':conditions, 'trialerrors':trialerrors})\n",
    "visStim['channel'] = 'visual_stimulus'"
   ]
  },
  {
   "cell_type": "code",
   "execution_count": null,
   "metadata": {
    "collapsed": true
   },
   "outputs": [],
   "source": [
    "# LR7 and LR8 hungry\n",
    "SalSal = ['180710', '180719','180724']\n",
    "SalCNO = ['180711', '180713', '180720']\n",
    "CNOSal = ['180712', '180717', '180725']\n",
    "dates = SalSal + SalCNO + CNOSal\n",
    "runs = [1, 2, 3]\n",
    "\n",
    "for mouse in ['LR8']:\n",
    "    mus = behavior(mouse, dates, runs)\n",
    "    run(mus, mouse, dates, runs)\n",
    "    "
   ]
  },
  {
   "cell_type": "code",
   "execution_count": null,
   "metadata": {
    "collapsed": true
   },
   "outputs": [],
   "source": [
    "# LR9 and LR13 hungry\n",
    "SalSal = ['180612', '180621']\n",
    "SalCNO = ['180613', '180615', '180620']\n",
    "CNOSal = ['180614', '180619', '180622']\n",
    "dates = SalSal + SalCNO + CNOSal\n",
    "runs = [1, 2, 3]\n",
    "\n",
    "for mouse in ['LR13']:\n",
    "    mus = behavior(mouse, dates, runs)\n",
    "    run(mus, mouse, dates, runs)\n",
    "    del mus"
   ]
  },
  {
   "cell_type": "code",
   "execution_count": null,
   "metadata": {
    "scrolled": true
   },
   "outputs": [
    {
     "name": "stdout",
     "output_type": "stream",
     "text": [
      "Base directory is set to /Users/Amelia/Documents/hakan/behavior\n",
      "\n"
     ]
    }
   ],
   "source": [
    "# LR19\n",
    "SalSal = ['180724', '180801', '180803']\n",
    "SalCNO = ['180726', '180727', '180802']\n",
    "CNOSal = ['180725', '180731', '180808']\n",
    "dates = SalSal + SalCNO + CNOSal\n",
    "runs = [1, 2, 3]\n",
    "\n",
    "for mouse in ['LR19']:\n",
    "    mus = behavior(mouse, dates, runs)\n",
    "    run(mus, mouse, dates, runs)\n",
    "    del mus"
   ]
  },
  {
   "cell_type": "code",
   "execution_count": 21,
   "metadata": {},
   "outputs": [
    {
     "name": "stdout",
     "output_type": "stream",
     "text": [
      "Base directory is set to /Users/Amelia/Documents/hakan/behavior\n",
      "\n"
     ]
    }
   ],
   "source": [
    "SalSal = ['180724', '180801', '180803']\n",
    "SalCNO = ['180726', '180727', '180802']\n",
    "CNOSal = ['180725', '180731', '180808']\n",
    "dates = SalSal + SalCNO + CNOSal\n",
    "runs = [1, 2, 3]\n",
    "\n",
    "mus = behavior('LR19', dates, runs)\n",
    "mus.setDir('/Users/Amelia/Documents/hakan/behavior')\n",
    "\n",
    "with open('/Users/Amelia/Documents/hakan/data/CNO_trials/' + mus.mouse + '.obj', 'rb') as handle:\n",
    "    mus.data = pickle.load(handle)\n"
   ]
  },
  {
   "cell_type": "code",
   "execution_count": 22,
   "metadata": {
    "collapsed": true
   },
   "outputs": [],
   "source": [
    "mus.loadTrials(save= False)\n",
    "mus.loadNidaq(clean=True, save= False)\n"
   ]
  },
  {
   "cell_type": "code",
   "execution_count": 23,
   "metadata": {
    "collapsed": true
   },
   "outputs": [],
   "source": [
    "mus.findOnsets(2.5, save=False)\n"
   ]
  },
  {
   "cell_type": "code",
   "execution_count": 19,
   "metadata": {
    "scrolled": true
   },
   "outputs": [
    {
     "name": "stdout",
     "output_type": "stream",
     "text": [
      "Plotting...\n",
      "At LR19, 180724, 1\n"
     ]
    },
    {
     "name": "stderr",
     "output_type": "stream",
     "text": [
      "/Users/Amelia/anaconda2/lib/python2.7/site-packages/pandas/core/indexing.py:179: SettingWithCopyWarning: \n",
      "A value is trying to be set on a copy of a slice from a DataFrame\n",
      "\n",
      "See the caveats in the documentation: http://pandas.pydata.org/pandas-docs/stable/indexing.html#indexing-view-versus-copy\n",
      "  self._setitem_with_indexer(indexer, value)\n"
     ]
    },
    {
     "name": "stdout",
     "output_type": "stream",
     "text": [
      "At LR19, 180724, 2\n"
     ]
    },
    {
     "ename": "ValueError",
     "evalue": "arrays must all be same length",
     "output_type": "error",
     "traceback": [
      "\u001b[0;31m---------------------------------------------------------------------------\u001b[0m",
      "\u001b[0;31mValueError\u001b[0m                                Traceback (most recent call last)",
      "\u001b[0;32m<ipython-input-19-a32fa591c7b3>\u001b[0m in \u001b[0;36m<module>\u001b[0;34m()\u001b[0m\n\u001b[0;32m----> 1\u001b[0;31m \u001b[0mrun\u001b[0m\u001b[0;34m(\u001b[0m\u001b[0mmus\u001b[0m\u001b[0;34m,\u001b[0m\u001b[0;34m'LR19'\u001b[0m\u001b[0;34m,\u001b[0m \u001b[0mdates\u001b[0m\u001b[0;34m,\u001b[0m \u001b[0mruns\u001b[0m\u001b[0;34m,\u001b[0m \u001b[0mload\u001b[0m\u001b[0;34m=\u001b[0m\u001b[0mFalse\u001b[0m\u001b[0;34m)\u001b[0m\u001b[0;34m\u001b[0m\u001b[0m\n\u001b[0m",
      "\u001b[0;32m<ipython-input-17-92393e137563>\u001b[0m in \u001b[0;36mrun\u001b[0;34m(mus, mouse, dates, runs, load)\u001b[0m\n\u001b[1;32m     23\u001b[0m             \u001b[0mconditions\u001b[0m \u001b[0;34m=\u001b[0m \u001b[0mmus\u001b[0m\u001b[0;34m.\u001b[0m\u001b[0mbhv\u001b[0m\u001b[0;34m[\u001b[0m\u001b[0mdate\u001b[0m\u001b[0;34m]\u001b[0m\u001b[0;34m[\u001b[0m\u001b[0mrun\u001b[0m\u001b[0;34m]\u001b[0m\u001b[0;34m[\u001b[0m\u001b[0;34m'conditions'\u001b[0m\u001b[0;34m]\u001b[0m\u001b[0;34m.\u001b[0m\u001b[0mvalues\u001b[0m\u001b[0;34m\u001b[0m\u001b[0m\n\u001b[1;32m     24\u001b[0m             \u001b[0mtrialerrors\u001b[0m \u001b[0;34m=\u001b[0m \u001b[0mmus\u001b[0m\u001b[0;34m.\u001b[0m\u001b[0mbhv\u001b[0m\u001b[0;34m[\u001b[0m\u001b[0mdate\u001b[0m\u001b[0;34m]\u001b[0m\u001b[0;34m[\u001b[0m\u001b[0mrun\u001b[0m\u001b[0;34m]\u001b[0m\u001b[0;34m[\u001b[0m\u001b[0;34m'trialerrors'\u001b[0m\u001b[0;34m]\u001b[0m\u001b[0;34m.\u001b[0m\u001b[0mvalues\u001b[0m\u001b[0;34m\u001b[0m\u001b[0m\n\u001b[0;32m---> 25\u001b[0;31m             \u001b[0mvisStim\u001b[0m \u001b[0;34m=\u001b[0m \u001b[0mpd\u001b[0m\u001b[0;34m.\u001b[0m\u001b[0mDataFrame\u001b[0m\u001b[0;34m(\u001b[0m\u001b[0;34m{\u001b[0m\u001b[0;34m'onsets'\u001b[0m\u001b[0;34m:\u001b[0m\u001b[0monsets\u001b[0m\u001b[0;34m.\u001b[0m\u001b[0mvalues\u001b[0m\u001b[0;34m,\u001b[0m \u001b[0;34m'offsets'\u001b[0m\u001b[0;34m:\u001b[0m\u001b[0moffsets\u001b[0m\u001b[0;34m.\u001b[0m\u001b[0mvalues\u001b[0m\u001b[0;34m,\u001b[0m \u001b[0;34m'trialnum'\u001b[0m\u001b[0;34m:\u001b[0m\u001b[0mtrialnum\u001b[0m\u001b[0;34m,\u001b[0m \u001b[0;34m'conditions'\u001b[0m\u001b[0;34m:\u001b[0m\u001b[0mconditions\u001b[0m\u001b[0;34m,\u001b[0m \u001b[0;34m'trialerrors'\u001b[0m\u001b[0;34m:\u001b[0m\u001b[0mtrialerrors\u001b[0m\u001b[0;34m}\u001b[0m\u001b[0;34m)\u001b[0m\u001b[0;34m\u001b[0m\u001b[0m\n\u001b[0m\u001b[1;32m     26\u001b[0m             \u001b[0mvisStim\u001b[0m\u001b[0;34m[\u001b[0m\u001b[0;34m'channel'\u001b[0m\u001b[0;34m]\u001b[0m \u001b[0;34m=\u001b[0m \u001b[0;34m'visual_stimulus'\u001b[0m\u001b[0;34m\u001b[0m\u001b[0m\n\u001b[1;32m     27\u001b[0m \u001b[0;34m\u001b[0m\u001b[0m\n",
      "\u001b[0;32m/Users/Amelia/anaconda2/lib/python2.7/site-packages/pandas/core/frame.pyc\u001b[0m in \u001b[0;36m__init__\u001b[0;34m(self, data, index, columns, dtype, copy)\u001b[0m\n\u001b[1;32m    273\u001b[0m                                  dtype=dtype, copy=copy)\n\u001b[1;32m    274\u001b[0m         \u001b[0;32melif\u001b[0m \u001b[0misinstance\u001b[0m\u001b[0;34m(\u001b[0m\u001b[0mdata\u001b[0m\u001b[0;34m,\u001b[0m \u001b[0mdict\u001b[0m\u001b[0;34m)\u001b[0m\u001b[0;34m:\u001b[0m\u001b[0;34m\u001b[0m\u001b[0m\n\u001b[0;32m--> 275\u001b[0;31m             \u001b[0mmgr\u001b[0m \u001b[0;34m=\u001b[0m \u001b[0mself\u001b[0m\u001b[0;34m.\u001b[0m\u001b[0m_init_dict\u001b[0m\u001b[0;34m(\u001b[0m\u001b[0mdata\u001b[0m\u001b[0;34m,\u001b[0m \u001b[0mindex\u001b[0m\u001b[0;34m,\u001b[0m \u001b[0mcolumns\u001b[0m\u001b[0;34m,\u001b[0m \u001b[0mdtype\u001b[0m\u001b[0;34m=\u001b[0m\u001b[0mdtype\u001b[0m\u001b[0;34m)\u001b[0m\u001b[0;34m\u001b[0m\u001b[0m\n\u001b[0m\u001b[1;32m    276\u001b[0m         \u001b[0;32melif\u001b[0m \u001b[0misinstance\u001b[0m\u001b[0;34m(\u001b[0m\u001b[0mdata\u001b[0m\u001b[0;34m,\u001b[0m \u001b[0mma\u001b[0m\u001b[0;34m.\u001b[0m\u001b[0mMaskedArray\u001b[0m\u001b[0;34m)\u001b[0m\u001b[0;34m:\u001b[0m\u001b[0;34m\u001b[0m\u001b[0m\n\u001b[1;32m    277\u001b[0m             \u001b[0;32mimport\u001b[0m \u001b[0mnumpy\u001b[0m\u001b[0;34m.\u001b[0m\u001b[0mma\u001b[0m\u001b[0;34m.\u001b[0m\u001b[0mmrecords\u001b[0m \u001b[0;32mas\u001b[0m \u001b[0mmrecords\u001b[0m\u001b[0;34m\u001b[0m\u001b[0m\n",
      "\u001b[0;32m/Users/Amelia/anaconda2/lib/python2.7/site-packages/pandas/core/frame.pyc\u001b[0m in \u001b[0;36m_init_dict\u001b[0;34m(self, data, index, columns, dtype)\u001b[0m\n\u001b[1;32m    409\u001b[0m             \u001b[0marrays\u001b[0m \u001b[0;34m=\u001b[0m \u001b[0;34m[\u001b[0m\u001b[0mdata\u001b[0m\u001b[0;34m[\u001b[0m\u001b[0mk\u001b[0m\u001b[0;34m]\u001b[0m \u001b[0;32mfor\u001b[0m \u001b[0mk\u001b[0m \u001b[0;32min\u001b[0m \u001b[0mkeys\u001b[0m\u001b[0;34m]\u001b[0m\u001b[0;34m\u001b[0m\u001b[0m\n\u001b[1;32m    410\u001b[0m \u001b[0;34m\u001b[0m\u001b[0m\n\u001b[0;32m--> 411\u001b[0;31m         \u001b[0;32mreturn\u001b[0m \u001b[0m_arrays_to_mgr\u001b[0m\u001b[0;34m(\u001b[0m\u001b[0marrays\u001b[0m\u001b[0;34m,\u001b[0m \u001b[0mdata_names\u001b[0m\u001b[0;34m,\u001b[0m \u001b[0mindex\u001b[0m\u001b[0;34m,\u001b[0m \u001b[0mcolumns\u001b[0m\u001b[0;34m,\u001b[0m \u001b[0mdtype\u001b[0m\u001b[0;34m=\u001b[0m\u001b[0mdtype\u001b[0m\u001b[0;34m)\u001b[0m\u001b[0;34m\u001b[0m\u001b[0m\n\u001b[0m\u001b[1;32m    412\u001b[0m \u001b[0;34m\u001b[0m\u001b[0m\n\u001b[1;32m    413\u001b[0m     \u001b[0;32mdef\u001b[0m \u001b[0m_init_ndarray\u001b[0m\u001b[0;34m(\u001b[0m\u001b[0mself\u001b[0m\u001b[0;34m,\u001b[0m \u001b[0mvalues\u001b[0m\u001b[0;34m,\u001b[0m \u001b[0mindex\u001b[0m\u001b[0;34m,\u001b[0m \u001b[0mcolumns\u001b[0m\u001b[0;34m,\u001b[0m \u001b[0mdtype\u001b[0m\u001b[0;34m=\u001b[0m\u001b[0mNone\u001b[0m\u001b[0;34m,\u001b[0m \u001b[0mcopy\u001b[0m\u001b[0;34m=\u001b[0m\u001b[0mFalse\u001b[0m\u001b[0;34m)\u001b[0m\u001b[0;34m:\u001b[0m\u001b[0;34m\u001b[0m\u001b[0m\n",
      "\u001b[0;32m/Users/Amelia/anaconda2/lib/python2.7/site-packages/pandas/core/frame.pyc\u001b[0m in \u001b[0;36m_arrays_to_mgr\u001b[0;34m(arrays, arr_names, index, columns, dtype)\u001b[0m\n\u001b[1;32m   5494\u001b[0m     \u001b[0;31m# figure out the index, if necessary\u001b[0m\u001b[0;34m\u001b[0m\u001b[0;34m\u001b[0m\u001b[0m\n\u001b[1;32m   5495\u001b[0m     \u001b[0;32mif\u001b[0m \u001b[0mindex\u001b[0m \u001b[0;32mis\u001b[0m \u001b[0mNone\u001b[0m\u001b[0;34m:\u001b[0m\u001b[0;34m\u001b[0m\u001b[0m\n\u001b[0;32m-> 5496\u001b[0;31m         \u001b[0mindex\u001b[0m \u001b[0;34m=\u001b[0m \u001b[0mextract_index\u001b[0m\u001b[0;34m(\u001b[0m\u001b[0marrays\u001b[0m\u001b[0;34m)\u001b[0m\u001b[0;34m\u001b[0m\u001b[0m\n\u001b[0m\u001b[1;32m   5497\u001b[0m     \u001b[0;32melse\u001b[0m\u001b[0;34m:\u001b[0m\u001b[0;34m\u001b[0m\u001b[0m\n\u001b[1;32m   5498\u001b[0m         \u001b[0mindex\u001b[0m \u001b[0;34m=\u001b[0m \u001b[0m_ensure_index\u001b[0m\u001b[0;34m(\u001b[0m\u001b[0mindex\u001b[0m\u001b[0;34m)\u001b[0m\u001b[0;34m\u001b[0m\u001b[0m\n",
      "\u001b[0;32m/Users/Amelia/anaconda2/lib/python2.7/site-packages/pandas/core/frame.pyc\u001b[0m in \u001b[0;36mextract_index\u001b[0;34m(data)\u001b[0m\n\u001b[1;32m   5542\u001b[0m             \u001b[0mlengths\u001b[0m \u001b[0;34m=\u001b[0m \u001b[0mlist\u001b[0m\u001b[0;34m(\u001b[0m\u001b[0mset\u001b[0m\u001b[0;34m(\u001b[0m\u001b[0mraw_lengths\u001b[0m\u001b[0;34m)\u001b[0m\u001b[0;34m)\u001b[0m\u001b[0;34m\u001b[0m\u001b[0m\n\u001b[1;32m   5543\u001b[0m             \u001b[0;32mif\u001b[0m \u001b[0mlen\u001b[0m\u001b[0;34m(\u001b[0m\u001b[0mlengths\u001b[0m\u001b[0;34m)\u001b[0m \u001b[0;34m>\u001b[0m \u001b[0;36m1\u001b[0m\u001b[0;34m:\u001b[0m\u001b[0;34m\u001b[0m\u001b[0m\n\u001b[0;32m-> 5544\u001b[0;31m                 \u001b[0;32mraise\u001b[0m \u001b[0mValueError\u001b[0m\u001b[0;34m(\u001b[0m\u001b[0;34m'arrays must all be same length'\u001b[0m\u001b[0;34m)\u001b[0m\u001b[0;34m\u001b[0m\u001b[0m\n\u001b[0m\u001b[1;32m   5545\u001b[0m \u001b[0;34m\u001b[0m\u001b[0m\n\u001b[1;32m   5546\u001b[0m             \u001b[0;32mif\u001b[0m \u001b[0mhave_dicts\u001b[0m\u001b[0;34m:\u001b[0m\u001b[0;34m\u001b[0m\u001b[0m\n",
      "\u001b[0;31mValueError\u001b[0m: arrays must all be same length"
     ]
    }
   ],
   "source": [
    "run(mus,'LR19', dates, runs, load=False)"
   ]
  },
  {
   "cell_type": "code",
   "execution_count": 24,
   "metadata": {},
   "outputs": [
    {
     "ename": "KeyError",
     "evalue": "<function run at 0x1e655dd668>",
     "output_type": "error",
     "traceback": [
      "\u001b[0;31m---------------------------------------------------------------------------\u001b[0m",
      "\u001b[0;31mKeyError\u001b[0m                                  Traceback (most recent call last)",
      "\u001b[0;32m<ipython-input-24-cdaf4d558b9d>\u001b[0m in \u001b[0;36m<module>\u001b[0;34m()\u001b[0m\n\u001b[0;32m----> 1\u001b[0;31m \u001b[0mcols\u001b[0m \u001b[0;34m=\u001b[0m \u001b[0mmus\u001b[0m\u001b[0;34m.\u001b[0m\u001b[0mnidaq\u001b[0m\u001b[0;34m[\u001b[0m\u001b[0mdate\u001b[0m\u001b[0;34m]\u001b[0m\u001b[0;34m[\u001b[0m\u001b[0mrun\u001b[0m\u001b[0;34m]\u001b[0m\u001b[0;34m.\u001b[0m\u001b[0mcolumns\u001b[0m\u001b[0;34m[\u001b[0m\u001b[0;36m0\u001b[0m\u001b[0;34m:\u001b[0m\u001b[0;36m6\u001b[0m\u001b[0;34m]\u001b[0m\u001b[0;34m\u001b[0m\u001b[0m\n\u001b[0m\u001b[1;32m      2\u001b[0m \u001b[0;32mfor\u001b[0m \u001b[0mdate\u001b[0m \u001b[0;32min\u001b[0m \u001b[0mdates\u001b[0m\u001b[0;34m:\u001b[0m\u001b[0;34m\u001b[0m\u001b[0m\n\u001b[1;32m      3\u001b[0m     \u001b[0;32mfor\u001b[0m \u001b[0mrun\u001b[0m \u001b[0;32min\u001b[0m \u001b[0mruns\u001b[0m\u001b[0;34m:\u001b[0m\u001b[0;34m\u001b[0m\u001b[0m\n\u001b[1;32m      4\u001b[0m         \u001b[0;32mfor\u001b[0m \u001b[0mcol\u001b[0m \u001b[0;32min\u001b[0m \u001b[0mcols\u001b[0m\u001b[0;34m:\u001b[0m\u001b[0;34m\u001b[0m\u001b[0m\n\u001b[1;32m      5\u001b[0m             \u001b[0;32mprint\u001b[0m \u001b[0mlen\u001b[0m\u001b[0;34m(\u001b[0m\u001b[0mmus\u001b[0m\u001b[0;34m.\u001b[0m\u001b[0monsets\u001b[0m\u001b[0;34m[\u001b[0m\u001b[0mdate\u001b[0m\u001b[0;34m]\u001b[0m\u001b[0;34m[\u001b[0m\u001b[0mrun\u001b[0m\u001b[0;34m]\u001b[0m\u001b[0;34m[\u001b[0m\u001b[0mcol\u001b[0m\u001b[0;34m]\u001b[0m\u001b[0;34m)\u001b[0m \u001b[0;34m==\u001b[0m \u001b[0mlen\u001b[0m\u001b[0;34m(\u001b[0m\u001b[0mmus\u001b[0m\u001b[0;34m.\u001b[0m\u001b[0moffsets\u001b[0m\u001b[0;34m[\u001b[0m\u001b[0mdate\u001b[0m\u001b[0;34m]\u001b[0m\u001b[0;34m[\u001b[0m\u001b[0mrun\u001b[0m\u001b[0;34m]\u001b[0m\u001b[0;34m[\u001b[0m\u001b[0mcol\u001b[0m\u001b[0;34m]\u001b[0m\u001b[0;34m)\u001b[0m\u001b[0;34m\u001b[0m\u001b[0m\n",
      "\u001b[0;31mKeyError\u001b[0m: <function run at 0x1e655dd668>"
     ]
    }
   ],
   "source": [
    "cols = mus.nidaq[date][run].columns[0:6]\n",
    "for date in dates:\n",
    "    for run in runs:\n",
    "        for col in cols:\n",
    "            print len(mus.onsets[date][run][col]) == len(mus.offsets[date][run][col])"
   ]
  },
  {
   "cell_type": "code",
   "execution_count": null,
   "metadata": {
    "collapsed": true
   },
   "outputs": [],
   "source": []
  },
  {
   "cell_type": "code",
   "execution_count": null,
   "metadata": {
    "collapsed": true
   },
   "outputs": [],
   "source": []
  },
  {
   "cell_type": "code",
   "execution_count": null,
   "metadata": {
    "collapsed": true
   },
   "outputs": [],
   "source": []
  },
  {
   "cell_type": "markdown",
   "metadata": {},
   "source": [
    "## \n",
    "SalSal = ['180724', '180801', '180803']\n",
    "SalCNO = ['180726', '180727', '180802']\n",
    "CNOSal = ['180725', '180731', '180808']\n",
    "dates = SalSal + SalCNO + CNOSal\n",
    "runs = [1, 2, 3]\n",
    "\n",
    "for mouse in ['LR20']:\n",
    "    mus = behavior(mouse, dates, runs)\n",
    "    run(mus, mouse, dates, runs)\n",
    "    del mus"
   ]
  },
  {
   "cell_type": "code",
   "execution_count": 7,
   "metadata": {
    "scrolled": true
   },
   "outputs": [
    {
     "data": {
      "text/plain": [
       "0        1\n",
       "1        2\n",
       "2        3\n",
       "3        4\n",
       "4        5\n",
       "5        6\n",
       "6        7\n",
       "7        8\n",
       "8        9\n",
       "9       10\n",
       "10      11\n",
       "11      12\n",
       "12      13\n",
       "13      14\n",
       "14      15\n",
       "15      16\n",
       "16      17\n",
       "17      18\n",
       "18      19\n",
       "19      20\n",
       "20      21\n",
       "21      22\n",
       "22      23\n",
       "23      24\n",
       "24      25\n",
       "25      26\n",
       "26      27\n",
       "27      28\n",
       "28      29\n",
       "29      30\n",
       "      ... \n",
       "90      91\n",
       "91      92\n",
       "92      93\n",
       "93      94\n",
       "94      95\n",
       "95      96\n",
       "96      97\n",
       "97      98\n",
       "98      99\n",
       "99     100\n",
       "100    101\n",
       "101    102\n",
       "102    103\n",
       "103    104\n",
       "104    105\n",
       "105    106\n",
       "106    107\n",
       "107    108\n",
       "108    109\n",
       "109    110\n",
       "110    111\n",
       "111    112\n",
       "112    113\n",
       "113    114\n",
       "114    115\n",
       "115    116\n",
       "116    117\n",
       "117    118\n",
       "118    119\n",
       "119    120\n",
       "Name: trialnum, Length: 120, dtype: int64"
      ]
     },
     "execution_count": 7,
     "metadata": {},
     "output_type": "execute_result"
    }
   ],
   "source": [
    "mus.trials['180724'][1]"
   ]
  },
  {
   "cell_type": "code",
   "execution_count": 5,
   "metadata": {},
   "outputs": [
    {
     "name": "stdout",
     "output_type": "stream",
     "text": [
      "Base directory is set to /Users/Amelia/Documents/hakan/behavior\n",
      "\n",
      "Plotting...\n",
      "At LR7, 180801, 1\n"
     ]
    },
    {
     "name": "stderr",
     "output_type": "stream",
     "text": [
      "/Users/Amelia/anaconda2/lib/python2.7/site-packages/pandas/core/indexing.py:179: SettingWithCopyWarning: \n",
      "A value is trying to be set on a copy of a slice from a DataFrame\n",
      "\n",
      "See the caveats in the documentation: http://pandas.pydata.org/pandas-docs/stable/indexing.html#indexing-view-versus-copy\n",
      "  self._setitem_with_indexer(indexer, value)\n"
     ]
    },
    {
     "name": "stdout",
     "output_type": "stream",
     "text": [
      "At LR7, 180801, 2\n",
      "At LR7, 180801, 3\n",
      "Saving...\n",
      "Plotting...\n",
      "At LR7, 180802, 1\n",
      "At LR7, 180802, 2\n",
      "At LR7, 180802, 3\n",
      "Saving...\n",
      "Plotting...\n",
      "At LR7, 180809, 1\n",
      "At LR7, 180809, 2\n",
      "At LR7, 180809, 3\n",
      "Saving...\n",
      "Plotting...\n",
      "At LR7, 180731, 1\n",
      "At LR7, 180731, 2\n",
      "At LR7, 180731, 3\n",
      "Saving...\n",
      "Plotting...\n",
      "At LR7, 180803, 1\n",
      "At LR7, 180803, 2\n",
      "At LR7, 180803, 3\n",
      "Saving...\n",
      "Plotting...\n",
      "At LR7, 180808, 1\n",
      "At LR7, 180808, 2\n",
      "At LR7, 180808, 3\n",
      "Saving...\n",
      "Base directory is set to /Users/Amelia/Documents/hakan/behavior\n",
      "\n",
      "Plotting...\n",
      "At LR8, 180801, 1\n",
      "At LR8, 180801, 2\n",
      "At LR8, 180801, 3\n",
      "Saving...\n",
      "Plotting...\n",
      "At LR8, 180802, 1\n",
      "At LR8, 180802, 2\n",
      "At LR8, 180802, 3\n",
      "Saving...\n",
      "Plotting...\n",
      "At LR8, 180809, 1\n",
      "At LR8, 180809, 2\n",
      "At LR8, 180809, 3\n",
      "Saving...\n",
      "Plotting...\n",
      "At LR8, 180731, 1\n",
      "At LR8, 180731, 2\n",
      "At LR8, 180731, 3\n",
      "Saving...\n",
      "Plotting...\n",
      "At LR8, 180803, 1\n",
      "At LR8, 180803, 2\n",
      "At LR8, 180803, 3\n",
      "Saving...\n",
      "Plotting...\n",
      "At LR8, 180808, 1\n",
      "At LR8, 180808, 2\n",
      "At LR8, 180808, 3\n",
      "Saving...\n"
     ]
    }
   ],
   "source": [
    "# LR7 and LR8 sated\n",
    "SalSal = ['180801', '180802', '180809']\n",
    "SalCNO = ['180731', '180803', '180808']\n",
    "dates = SalSal + SalCNO\n",
    "runs = [1, 2, 3]\n",
    "\n",
    "for mouse in ['LR7', 'LR8']:\n",
    "    mus = behavior(mouse, dates, runs)\n",
    "    run(mus, mouse, dates, runs)\n",
    "    del mus"
   ]
  },
  {
   "cell_type": "code",
   "execution_count": null,
   "metadata": {
    "collapsed": true
   },
   "outputs": [],
   "source": []
  },
  {
   "cell_type": "code",
   "execution_count": null,
   "metadata": {
    "collapsed": true
   },
   "outputs": [],
   "source": []
  },
  {
   "cell_type": "code",
   "execution_count": null,
   "metadata": {
    "collapsed": true
   },
   "outputs": [],
   "source": []
  },
  {
   "cell_type": "code",
   "execution_count": null,
   "metadata": {
    "collapsed": true
   },
   "outputs": [],
   "source": [
    "# LR8 Sated...\n",
    "SalSal = ['180710', '180719','180724']\n",
    "SalCNO = ['180711', '180713', '180720']\n",
    "CNOSal = ['180712', '180717', '180725']\n",
    "dates = SalSal + SalCNO + CNOSal\n",
    "runs = [1, 2, 3]\n",
    "mouse = 'LR8'\n",
    "\n",
    "lr8 = behavior(mouse, dates, runs)\n",
    "mus = lr8\n",
    "mus.setDir('/Users/Amelia/Documents/hakan/behavior')\n",
    "\n",
    "with open('/Users/Amelia/Documents/hakan/data/CNO_trials/' + mus.mouse + '.obj', 'rb') as handle:\n",
    "            mus.data = pickle.load(handle)\n",
    "\n",
    "mus.loadTrials(save= False)\n",
    "mus.loadNidaq(clean=True, save= False)\n",
    "mus.findOnsets(2.5, save=False)\n"
   ]
  },
  {
   "cell_type": "code",
   "execution_count": null,
   "metadata": {
    "collapsed": true
   },
   "outputs": [],
   "source": [
    "ITI = 6.0\n",
    "\n",
    "for date in dates:\n",
    "    print('Plotting...')\n",
    "    fig, ax = plt.subplots(1, 3, figsize=(32,12))\n",
    "    sns.set_style(stylish)\n",
    "    for run in runs:\n",
    "        print('At ' + mouse + ', ' + date + ', ' + str(run))\n",
    "        onsets = mus.onsets[date][run]['visual_stimulus']\n",
    "        offsets = mus.offsets[date][run]['visual_stimulus']\n",
    "        trialnum = mus.bhv[date][run]['trialnum'].values\n",
    "        conditions = mus.bhv[date][run]['conditions'].values\n",
    "        trialerrors = mus.bhv[date][run]['trialerrors'].values\n",
    "        if len(trialnum) != len(onsets):\n",
    "            print 'WARNING!', len(onsets), len(offsets), len(trialnum)\n",
    "            n = len(onsets)\n",
    "            visStim = pd.DataFrame({'onsets':onsets.values, 'offsets':offsets.values, 'trialnum':trialnum[:n], 'conditions':conditions[:n], 'trialerrors':trialerrors[:n]})\n",
    "        else:\n",
    "            visStim = pd.DataFrame({'onsets':onsets.values, 'offsets':offsets.values, 'trialnum':trialnum, 'conditions':conditions, 'trialerrors':trialerrors})\n",
    "        visStim['channel'] = 'visual_stimulus'\n",
    "\n",
    "        trialnum = mus.bhv[date][run]['trialnum'].values\n",
    "        conditions = mus.bhv[date][run]['conditions'].values\n",
    "        trialerrors = mus.bhv[date][run]['trialerrors'].values\n",
    "        Onsets = pd.DataFrame([])\n",
    "        for col in ['licking', 'ensure', 'shock', 'camera_pulses']:\n",
    "            onsets = mus.onsets[date][run][col]\n",
    "            offsets = mus.offsets[date][run][col]\n",
    "            temp = pd.DataFrame({'onsets':onsets.values, 'offsets':offsets.values})\n",
    "            temp['trialnum'] = 0\n",
    "            temp['conditions'] = -1\n",
    "            temp['trialerrors'] = -1\n",
    "\n",
    "            for trial in visStim.groupby('trialnum'):\n",
    "                t_zero = trial[1]['onsets'].values[0]\n",
    "                begin = t_zero - ITI/3\n",
    "                end = t_zero + ITI\n",
    "                # locate the trials\n",
    "                trialInd = (temp['onsets'] > begin) & (temp['onsets'] < end)\n",
    "                temp['trialnum'].loc[trialInd] = trial[0]\n",
    "                temp['conditions'].loc[trialInd] = mus.bhv[date][run]['conditions'].loc[trial[0]-1]\n",
    "                temp['trialerrors'].loc[trialInd] = mus.bhv[date][run]['trialerrors'].loc[trial[0]-1]\n",
    "                temp['channel'] = col\n",
    "\n",
    "            Onsets = pd.concat([Onsets, temp])\n",
    "\n",
    "        Onsets = Onsets[Onsets['trialnum'] != 0]\n",
    "        Onsets.sort_values(['conditions', 'trialerrors', 'trialnum'], inplace= True)\n",
    "\n",
    "        conditionCols = ['Green', 'Blue', 'Red', 'Grey']\n",
    "        eventCols = {'visual_stimulus':'#ccd9ff', 'lick':'k', 'ensure':'#80ff80', 'shock':'#ff8080'}\n",
    "\n",
    "        condition = []\n",
    "        corners = [0]\n",
    "        for rowNum, trial in enumerate(Onsets.groupby(['conditions', 'trialerrors', 'trialnum'])):\n",
    "            trialNum = trial[0][2]\n",
    "            visOn = visStim['onsets'][visStim['trialnum'] == trialNum].values[0]\n",
    "            visOff = visStim['offsets'][visStim['trialnum'] == trialNum].values[0]\n",
    "            condition.append(trial[0][0])\n",
    "            if condition[rowNum-1] != condition[rowNum]:\n",
    "                corners.append(rowNum)\n",
    "                ax[run-1].hlines(rowNum-0.5, -ITI/3, ITI, linewidth=0.382)\n",
    "\n",
    "            # plot visual stimulus\n",
    "            ax[run-1].hlines(rowNum, visOn - visOn, visOff - visOn, color=eventCols['visual_stimulus'], linewidth=5)\n",
    "\n",
    "            # plot ensure\n",
    "            if len(trial[1][trial[1]['channel'] == 'ensure']) != 0:\n",
    "                ensureOn = trial[1]['onsets'][trial[1]['channel'] == 'ensure'].values - visOn\n",
    "                ensureOff = trial[1]['onsets'][trial[1]['channel'] == 'ensure'].values - visOn\n",
    "                ax[run-1].vlines(ensureOn, rowNum-1, rowNum+1, color=eventCols['ensure'], linewidth=3)\n",
    "\n",
    "            # plot shock \n",
    "            if len(trial[1][trial[1]['channel'] == 'shock']) != 0:\n",
    "                shockOn = trial[1]['onsets'][trial[1]['channel'] == 'shock'].values - visOn\n",
    "                shockOff = trial[1]['onsets'][trial[1]['channel'] == 'shock'].values - visOn\n",
    "                ax[run-1].vlines(shockOn, rowNum-0.5, rowNum+0.5, color=eventCols['shock'], linewidth=3) \n",
    "\n",
    "            # plot licks\n",
    "            if len(trial[1][trial[1]['channel'] == 'licking']) != 0:\n",
    "                licks = trial[1]['onsets'][trial[1]['channel'] == 'licking'].values - visOn\n",
    "                ax[run-1].vlines(licks, rowNum-0.382, rowNum+0.382, linewidth= 0.764)\n",
    "\n",
    "        corners.append(rowNum)\n",
    "        for i in range(0, len(corners)-1):\n",
    "            ax[run-1].vlines(-ITI/3-0.382, corners[i]+0.618, corners[i+1]-0.618, conditionCols[i], linewidth=6.18)\n",
    "\n",
    "        ax[run-1].invert_yaxis()\n",
    "        ax[run-1].set_xlim([-ITI/3-0.618, ITI])\n",
    "\n",
    "        if date in SalSal:\n",
    "            fname = 'Saline--Saline'\n",
    "            fig.suptitle(mouse + ', ' + date + 'Saline --> Saline')\n",
    "            ax[0].set_title('preRun (run 1)')\n",
    "            ax[1].set_title('Saline (run 2)')         \n",
    "            ax[2].set_title('Saline (run 3)')        \n",
    "        elif date in SalCNO:\n",
    "            fname = 'Saline--CNO'\n",
    "            fig.suptitle(mouse + ', ' + date + 'Saline --> CNO')\n",
    "            ax[0].set_title('preRun (run 1)')\n",
    "            ax[1].set_title('Saline (run 2)')         \n",
    "            ax[2].set_title('CNO (run 3)')  \n",
    "        elif date in CNOSal:\n",
    "            fig.suptitle(mouse + ', ' + date + 'CNO --> Saline')\n",
    "            fname = 'CNO--Saline'\n",
    "            ax[0].set_title('preRun (run 1)')\n",
    "            ax[1].set_title('CNO (run 2)')         \n",
    "            ax[2].set_title('Saline (run 3)')  \n",
    "        else:\n",
    "            fname = 'None--None'\n",
    "            fig.suptitle(mouse + ', ' + date)\n",
    "            ax[0].set_title('preRun (run 1)')\n",
    "            ax[1].set_title('None (run 2)')         \n",
    "            ax[2].set_title('None (run 3)')  \n",
    "\n",
    "    print('Saving...')\n",
    "    plt.savefig(os.path.join('/Users/Amelia/Documents/hakan/data/figures/'+mouse+'_'+date+'_'+fname+'.png'))\n",
    "    plt.savefig(os.path.join('/Users/Amelia/Documents/hakan/data/figures/'+mouse+'_'+date+'_'+fname+'.svg'))"
   ]
  },
  {
   "cell_type": "code",
   "execution_count": null,
   "metadata": {
    "collapsed": true
   },
   "outputs": [],
   "source": [
    "mus.bhv['180710'][2]"
   ]
  },
  {
   "cell_type": "code",
   "execution_count": null,
   "metadata": {
    "collapsed": true
   },
   "outputs": [],
   "source": [
    "df = mus.nidaq['180710'][2]['visual_stimulus'].diff()\n",
    "len(df[df > 0])"
   ]
  },
  {
   "cell_type": "code",
   "execution_count": null,
   "metadata": {
    "collapsed": true
   },
   "outputs": [],
   "source": [
    "onsets[:120]"
   ]
  },
  {
   "cell_type": "code",
   "execution_count": null,
   "metadata": {
    "collapsed": true
   },
   "outputs": [],
   "source": []
  }
 ],
 "metadata": {
  "kernelspec": {
   "display_name": "Python 2",
   "language": "python",
   "name": "python2"
  },
  "language_info": {
   "codemirror_mode": {
    "name": "ipython",
    "version": 2
   },
   "file_extension": ".py",
   "mimetype": "text/x-python",
   "name": "python",
   "nbconvert_exporter": "python",
   "pygments_lexer": "ipython2",
   "version": "2.7.14"
  }
 },
 "nbformat": 4,
 "nbformat_minor": 2
}
