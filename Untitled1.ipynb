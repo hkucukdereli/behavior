{
 "cells": [
  {
   "cell_type": "code",
   "execution_count": 16,
   "metadata": {
    "collapsed": true
   },
   "outputs": [],
   "source": [
    "from behavior.behavior import behavior\n",
    "from behavior.plotScale import plotScale\n",
    "import pickle\n",
    "import numpy as np\n",
    "import pandas as pd\n",
    "import seaborn as sns\n",
    "import matplotlib.pyplot as plt\n",
    "%matplotlib inline\n"
   ]
  },
  {
   "cell_type": "code",
   "execution_count": 17,
   "metadata": {
    "collapsed": true
   },
   "outputs": [],
   "source": [
    "## Load LR7 and 8"
   ]
  },
  {
   "cell_type": "code",
   "execution_count": 18,
   "metadata": {},
   "outputs": [
    {
     "name": "stdout",
     "output_type": "stream",
     "text": [
      "Base directory is set to /Users/Amelia/Documents/hakan/data\n",
      "\n"
     ]
    }
   ],
   "source": [
    "baseDir = '/Users/Amelia/Documents/hakan/data'\n",
    "\n",
    "SalSal = ['180710', '180719','180724']\n",
    "SalCNO = ['180711', '180713', '180720']\n",
    "CNOSal = ['180712', '180717', '180725']\n",
    "dates = SalSal + SalCNO + CNOSal\n",
    "runs = [1, 2, 3]\n",
    "\n",
    "mouse = 'LR7'\n",
    "lr7 = behavior(mouse, dates, runs)\n",
    "lr7.setDir(baseDir)\n",
    "with open('/Users/Amelia/Documents/hakan/data/CNO_trials/' + lr7.mouse + '.obj', 'rb') as handle:\n",
    "            lr7.data = pickle.load(handle)\n",
    "\n",
    "# mouse = 'LR8'\n",
    "# lr8 = behavior(mouse, dates, runs)\n",
    "# lr8.setDir(baseDir)\n",
    "# with open('/Users/Amelia/Documents/hakan/data/CNO_trials/' + lr8.mouse + '.obj', 'rb') as handle:\n",
    "#             lr8.data = pickle.load(handle)\n"
   ]
  },
  {
   "cell_type": "code",
   "execution_count": 19,
   "metadata": {
    "collapsed": true
   },
   "outputs": [],
   "source": [
    "## Load LR9 and 13"
   ]
  },
  {
   "cell_type": "code",
   "execution_count": 20,
   "metadata": {
    "collapsed": true
   },
   "outputs": [],
   "source": [
    "# SalSal = ['180612', '180621']\n",
    "# SalCNO = ['180613', '180615', '180620']\n",
    "# CNOSal = ['180614', '180619', '180622']\n",
    "# dates = SalSal + SalCNO + CNOSal\n",
    "# runs = [1, 2, 3]\n",
    "\n",
    "# mouse = 'LR9'\n",
    "# lr9 = behavior(mouse, dates, runs)\n",
    "# lr9.setDir(baseDir)\n",
    "# with open('/Users/Amelia/Documents/hakan/data/CNO_trials/' + lr9.mouse + '.obj', 'rb') as handle:\n",
    "#             lr9.data = pickle.load(handle)\n",
    "        \n",
    "# mouse = 'LR13'\n",
    "# lr13 = behavior(mouse, dates, runs)\n",
    "# lr13.setDir(baseDir)\n",
    "# with open('/Users/Amelia/Documents/hakan/data/CNO_trials/' + lr13.mouse + '.obj', 'rb') as handle:\n",
    "#             lr13.data = pickle.load(handle)\n"
   ]
  },
  {
   "cell_type": "code",
   "execution_count": 21,
   "metadata": {
    "collapsed": true
   },
   "outputs": [],
   "source": [
    "## Find onsets"
   ]
  },
  {
   "cell_type": "code",
   "execution_count": 22,
   "metadata": {
    "collapsed": true
   },
   "outputs": [],
   "source": [
    "SalSal = ['180710', '180719','180724']\n",
    "SalCNO = ['180711', '180713', '180720']\n",
    "CNOSal = ['180712', '180717', '180725']\n",
    "dates = SalSal + SalCNO + CNOSal\n",
    "runs = [1, 2, 3]\n",
    "\n",
    "lr7.loadTrials(save= False)\n",
    "lr7.loadNidaq(clean=True, save= False)\n",
    "lr7.findOnsets(2.5, save=False)\n",
    "\n",
    "# lr8.loadTrials(save= False)\n",
    "# lr8.loadNidaq(clean=True, save= False)"
   ]
  },
  {
   "cell_type": "code",
   "execution_count": 8,
   "metadata": {
    "collapsed": true
   },
   "outputs": [],
   "source": [
    "#####"
   ]
  },
  {
   "cell_type": "code",
   "execution_count": null,
   "metadata": {
    "collapsed": true,
    "scrolled": true
   },
   "outputs": [],
   "source": []
  },
  {
   "cell_type": "code",
   "execution_count": null,
   "metadata": {
    "scrolled": true
   },
   "outputs": [],
   "source": []
  },
  {
   "cell_type": "code",
   "execution_count": 71,
   "metadata": {},
   "outputs": [],
   "source": [
    "ITI = 6.0\n",
    "Fs = lr7.getFs()\n",
    "timestamps = lr7.timestamps['180719'][runs[2]]['timestamps']\n",
    "onsets = lr7.onsets[dates[2]][runs[2]]['visual_stimulus']\n",
    "t_begin = lr7.onsets[dates[2]][runs[2]]['visual_stimulus'].index - int(ITI*Fs/3)\n",
    "t_0 = lr7.onsets[dates[2]][runs[2]]['visual_stimulus'].index\n",
    "t_end = lr7.onsets[dates[2]][runs[2]]['visual_stimulus'].index + int(ITI)\n"
   ]
  },
  {
   "cell_type": "code",
   "execution_count": null,
   "metadata": {},
   "outputs": [],
   "source": []
  },
  {
   "cell_type": "code",
   "execution_count": null,
   "metadata": {},
   "outputs": [],
   "source": []
  },
  {
   "cell_type": "code",
   "execution_count": null,
   "metadata": {},
   "outputs": [],
   "source": []
  },
  {
   "cell_type": "code",
   "execution_count": 90,
   "metadata": {},
   "outputs": [
    {
     "data": {
      "image/png": "[encoded data removed]",
      "text/plain": [
       "<matplotlib.figure.Figure at 0x1c5837edd0>"
      ]
     },
     "metadata": {},
     "output_type": "display_data"
    }
   ],
   "source": [
    "trials = lr7.trials[dates[2]][runs[2]]\n",
    "for trial in trials:\n",
    "    begin = t_begin[trial-1]\n",
    "    end = t_end[trial-1]\n",
    "    licking = lr7.onsets[dates[2]][runs[2]]['licking'].index\n",
    "    x= timestamps[licking[(licking > begin) & (licking < end)]].values - timestamps[t_0[trial-1]]\n",
    "    y = np.ones(len(x), dtype=int)*trial\n",
    "    plt.plot(x, y, '|')\n",
    "    plt.xlim([-ITI/3, ITI])"
   ]
  },
  {
   "cell_type": "code",
   "execution_count": null,
   "metadata": {},
   "outputs": [],
   "source": []
  },
  {
   "cell_type": "code",
   "execution_count": null,
   "metadata": {
    "collapsed": true
   },
   "outputs": [],
   "source": []
  },
  {
   "cell_type": "code",
   "execution_count": null,
   "metadata": {
    "scrolled": true
   },
   "outputs": [],
   "source": []
  },
  {
   "cell_type": "code",
   "execution_count": null,
   "metadata": {
    "collapsed": true
   },
   "outputs": [],
   "source": []
  },
  {
   "cell_type": "code",
   "execution_count": null,
   "metadata": {
    "collapsed": true
   },
   "outputs": [],
   "source": []
  },
  {
   "cell_type": "code",
   "execution_count": null,
   "metadata": {
    "collapsed": true
   },
   "outputs": [],
   "source": []
  },
  {
   "cell_type": "code",
   "execution_count": null,
   "metadata": {
    "collapsed": true
   },
   "outputs": [],
   "source": []
  },
  {
   "cell_type": "code",
   "execution_count": null,
   "metadata": {
    "collapsed": true
   },
   "outputs": [],
   "source": [
    "ITI = 6.0\n",
    "Fs = lr7.getFs()\n",
    "for trial in lr7.trials['180713'][2]:\n",
    "    onset = lr7.onsets['180713'][2]['visual_stimulus'].iloc[trial-1]\n",
    "    onsetInd = lr7.onsets['180713'][2]['visual_stimulus'].index[trial-1]\n",
    "    print (onsetInd - int((ITI/3)*Fs), onsetInd, onsetInd + int(ITI*Fs))"
   ]
  },
  {
   "cell_type": "code",
   "execution_count": null,
   "metadata": {
    "collapsed": true
   },
   "outputs": [],
   "source": [
    "lr7.onsets['180713'][2]['licking']['trialnum']=0"
   ]
  },
  {
   "cell_type": "code",
   "execution_count": null,
   "metadata": {
    "collapsed": true
   },
   "outputs": [],
   "source": [
    "lr7.onsets['180713'][2]['ensure']"
   ]
  },
  {
   "cell_type": "code",
   "execution_count": null,
   "metadata": {
    "collapsed": true
   },
   "outputs": [],
   "source": []
  },
  {
   "cell_type": "code",
   "execution_count": null,
   "metadata": {
    "collapsed": true
   },
   "outputs": [],
   "source": []
  },
  {
   "cell_type": "code",
   "execution_count": null,
   "metadata": {
    "collapsed": true
   },
   "outputs": [],
   "source": []
  },
  {
   "cell_type": "code",
   "execution_count": null,
   "metadata": {
    "collapsed": true
   },
   "outputs": [],
   "source": []
  },
  {
   "cell_type": "code",
   "execution_count": null,
   "metadata": {
    "collapsed": true
   },
   "outputs": [],
   "source": []
  },
  {
   "cell_type": "code",
   "execution_count": null,
   "metadata": {
    "collapsed": true
   },
   "outputs": [],
   "source": []
  },
  {
   "cell_type": "code",
   "execution_count": null,
   "metadata": {
    "collapsed": true,
    "scrolled": true
   },
   "outputs": [],
   "source": []
  },
  {
   "cell_type": "code",
   "execution_count": null,
   "metadata": {
    "collapsed": true
   },
   "outputs": [],
   "source": []
  },
  {
   "cell_type": "code",
   "execution_count": null,
   "metadata": {
    "collapsed": true
   },
   "outputs": [],
   "source": [
    "lr7.signal = {}\n",
    "lr7.onsets = {}\n",
    "lr7.offsets = {}\n",
    "for date in dates:\n",
    "    lr7.signal[date] = {}\n",
    "    lr7.onsets[date] = {}\n",
    "    lr7.offsets[date] = {}\n",
    "    for run in runs:\n",
    "        lr7.signal[date][run] = {}\n",
    "        lr7.onsets[date][run] = {}\n",
    "        lr7.offsets[date][run] = {}\n",
    "        cols = lr7.nidaq[date][run].columns[0:6]\n",
    "        for col in cols:\n",
    "            lr7.signal[date][run]['timestamps'] = lr7.nidaq[date][run]['timestamps']\n",
    "            lr7.onsets[date][run][col] = lr7.nidaq[date][run]['timestamps'][lr7.nidaq[date][run][col].diff() > 2.0]\n",
    "            lr7.offsets[date][run][col] = lr7.nidaq[date][run]['timestamps'][lr7.nidaq[date][run][col].diff() < -2.0]\n",
    "            \n",
    "            if col == 'visual_stimulus':\n",
    "                visuals = len(lr7.onsets[date][run]['visual_stimulus'])\n",
    "                trials = lr7.bhv[date][run]['trialnum'].iloc[-1]\n",
    "                if visuals > trials:\n",
    "                    indOn = lr7.onsets[date][run]['visual_stimulus'].index[0]\n",
    "                    indOff = lr7.offsets[date][run]['visual_stimulus'].index[0]\n",
    "                    lr7.onsets[date][run]['visual_stimulus'].drop(indOn, inplace=True)\n",
    "                    lr7.offsets[date][run]['visual_stimulus'].drop(indOff, inplace=True)\n",
    "        \n",
    "        if len(lr7.onsets[date][run][col]) != len(lr7.offsets[date][run][col]):\n",
    "            print(lr7.mouse+' '+date+' '+str(run)+' '+col+' numbers are not equal')\n",
    "            "
   ]
  },
  {
   "cell_type": "code",
   "execution_count": null,
   "metadata": {
    "collapsed": true,
    "scrolled": true
   },
   "outputs": [],
   "source": [
    "pd.DataFrame({'onsets':lr7.onsets['180719'][2]['visual_stimulus'].values, 'offsets':lr7.offsets['180719'][2]['visual_stimulus'].values})\n"
   ]
  },
  {
   "cell_type": "code",
   "execution_count": null,
   "metadata": {
    "collapsed": true,
    "scrolled": true
   },
   "outputs": [],
   "source": [
    "lr7.signal[date][run]"
   ]
  },
  {
   "cell_type": "code",
   "execution_count": null,
   "metadata": {
    "collapsed": true,
    "scrolled": false
   },
   "outputs": [],
   "source": []
  },
  {
   "cell_type": "code",
   "execution_count": null,
   "metadata": {
    "collapsed": true
   },
   "outputs": [],
   "source": [
    "vis_data = lr7.nidaq['180719'][1]['visual_stimulus'].values\n",
    "ensure_data = lr7.nidaq['180719'][1]['ensure'].values\n",
    "plt.figure(figsize=(20,2))\n",
    "plt.plot(ensure_data, 'r', alpha=0.55)\n",
    "plt.plot(vis_data, 'b', alpha=0.55)\n",
    "plt.xlim([0, len(vis_data)*0.03])"
   ]
  },
  {
   "cell_type": "code",
   "execution_count": null,
   "metadata": {
    "collapsed": true
   },
   "outputs": [],
   "source": []
  },
  {
   "cell_type": "code",
   "execution_count": null,
   "metadata": {
    "collapsed": true
   },
   "outputs": [],
   "source": []
  },
  {
   "cell_type": "code",
   "execution_count": null,
   "metadata": {
    "collapsed": true
   },
   "outputs": [],
   "source": []
  },
  {
   "cell_type": "code",
   "execution_count": null,
   "metadata": {
    "collapsed": true
   },
   "outputs": [],
   "source": []
  },
  {
   "cell_type": "code",
   "execution_count": null,
   "metadata": {
    "collapsed": true
   },
   "outputs": [],
   "source": []
  },
  {
   "cell_type": "code",
   "execution_count": null,
   "metadata": {
    "collapsed": true
   },
   "outputs": [],
   "source": []
  },
  {
   "cell_type": "code",
   "execution_count": null,
   "metadata": {
    "collapsed": true
   },
   "outputs": [],
   "source": []
  },
  {
   "cell_type": "code",
   "execution_count": null,
   "metadata": {
    "collapsed": true
   },
   "outputs": [],
   "source": [
    "lr8.signal = {}\n",
    "lr8.onsets = {}\n",
    "lr8.offsets = {}\n",
    "for date in dates:\n",
    "    lr8.signal[date] = {}\n",
    "    lr8.onsets[date] = {}\n",
    "    lr8.offsets[date] = {}\n",
    "    for run in runs:\n",
    "        lr8.signal[date][run] = {}\n",
    "        lr8.onsets[date][run] = {}\n",
    "        lr8.offsets[date][run] = {}\n",
    "        cols = lr8.nidaq[date][run].columns[0:6]\n",
    "        for col in cols:\n",
    "            timestamps = lr8.nidaq[date][run]['timestamps']\n",
    "            lr8.signal[date][run]['timestamps'] = timestamps\n",
    "            lr8.onsets[date][run][col] = timestamps[lr8.nidaq[date][run][col].diff() > 2.0]\n",
    "            lr8.offsets[date][run][col] = timestamps[lr8.nidaq[date][run][col].diff() < -2.0]\n",
    "            \n",
    "        visuals = len(lr8.onsets[date][run]['visual_stimulus'])\n",
    "        trials = lr8.bhv[date][run]['trialnum'].iloc[-1]\n",
    "        if visuals != trials:\n",
    "            print(lr8.mouse+' '+date+' '+str(run)+' '+' trial numbers are not matching: '+str(trials)+' trials but '+str(visuals)+' visual stimuli.')\n",
    "        if len(lr8.onsets[date][run][col]) != len(lr8.offsets[date][run][col]):\n",
    "            print(lr8.mouse+' '+date+' '+str(run)+' '+col+' numbers are not equal')\n",
    "            "
   ]
  },
  {
   "cell_type": "code",
   "execution_count": null,
   "metadata": {
    "collapsed": true
   },
   "outputs": [],
   "source": [
    "lr7.onsets[date][run]"
   ]
  },
  {
   "cell_type": "code",
   "execution_count": null,
   "metadata": {
    "collapsed": true
   },
   "outputs": [],
   "source": [
    "t = lr7.onsets[date][run]['timestamps']\n",
    "visStim = lr7.onsets[date][run]['visual_stimulus']\n",
    "ensure = lr7.onsets[date][run]['ensure']\n",
    "lick = lr7.onsets[date][run]['licking']\n",
    "\n",
    "plt.figure(figsize=(16,4))\n",
    "plt.plot(visStim, np.ones(len(visStim),dtype=int)*1, 'k-')\n",
    "plt.plot(ensure, np.ones(len(ensure),dtype=int)*2, 'r-')\n",
    "plt.plot(lick, np.ones(len(lick),dtype=int)*3, 'g|')\n"
   ]
  },
  {
   "cell_type": "code",
   "execution_count": null,
   "metadata": {
    "collapsed": true
   },
   "outputs": [],
   "source": [
    "ITI = 6.0\n",
    "stim_duration = 2.0\n",
    "for date in dates:\n",
    "    for run in runs:\n",
    "        cols = lr7.nidaq[date][run].columns\n",
    "        for col in cols:\n",
    "            lr7.bhv[date][run]\n",
    "            for trial in lr7.bhv[date][run]['trialnum']:\n",
    "#                 lr7.signal[date][run]['timestamps']\n",
    "#                 lr7.onsets[date][run][col]\n",
    "#                 lr7.offsets[date][run][col]\n",
    "                lr7.onsets[date][run]['visual_stimulus']"
   ]
  },
  {
   "cell_type": "code",
   "execution_count": null,
   "metadata": {
    "collapsed": true
   },
   "outputs": [],
   "source": []
  },
  {
   "cell_type": "code",
   "execution_count": null,
   "metadata": {
    "collapsed": true
   },
   "outputs": [],
   "source": []
  },
  {
   "cell_type": "code",
   "execution_count": null,
   "metadata": {
    "collapsed": true
   },
   "outputs": [],
   "source": []
  },
  {
   "cell_type": "code",
   "execution_count": null,
   "metadata": {
    "collapsed": true
   },
   "outputs": [],
   "source": []
  },
  {
   "cell_type": "code",
   "execution_count": null,
   "metadata": {
    "collapsed": true
   },
   "outputs": [],
   "source": []
  },
  {
   "cell_type": "code",
   "execution_count": null,
   "metadata": {
    "collapsed": true
   },
   "outputs": [],
   "source": []
  }
 ],
 "metadata": {
  "kernelspec": {
   "display_name": "Python 2",
   "language": "python",
   "name": "python2"
  },
  "language_info": {
   "codemirror_mode": {
    "name": "ipython",
    "version": 2
   },
   "file_extension": ".py",
   "mimetype": "text/x-python",
   "name": "python",
   "nbconvert_exporter": "python",
   "pygments_lexer": "ipython2",
   "version": "2.7.14"
  }
 },
 "nbformat": 4,
 "nbformat_minor": 2
}
