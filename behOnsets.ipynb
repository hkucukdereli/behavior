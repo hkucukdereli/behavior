{
 "cells": [
  {
   "cell_type": "code",
   "execution_count": 15,
   "metadata": {
    "collapsed": true
   },
   "outputs": [],
   "source": [
    "from behavior.behIO import behIO\n",
    "from behavior.plotScale import plotScale\n",
    "import numpy as np\n",
    "import pandas as pd\n",
    "import matplotlib.pyplot as plt\n",
    "%matplotlib inline"
   ]
  },
  {
   "cell_type": "code",
   "execution_count": 19,
   "metadata": {},
   "outputs": [
    {
     "name": "stdout",
     "output_type": "stream",
     "text": [
      "Base directory is set to /Volumes/User Folders/Trent/MixedValenceBehavior\n"
     ]
    }
   ],
   "source": [
    "# Set up an experiment\n",
    "mus = behIO('LR8', '180731', [1, 2, 3])\n",
    "mus.setDir('/Volumes/User Folders/Trent/MixedValenceBehavior')\n",
    "#mus.setDir('/Users/Amelia/Documents/hakan/behavior')"
   ]
  },
  {
   "cell_type": "code",
   "execution_count": 20,
   "metadata": {
    "scrolled": false
   },
   "outputs": [
    {
     "name": "stdout",
     "output_type": "stream",
     "text": [
      "All runs will be loaded.\n",
      "Finished loading ML data.\n",
      "\n",
      "All runs will be loaded.\n",
      "Finished loading run(s).\n",
      "\n"
     ]
    }
   ],
   "source": [
    "# Load ML and NIDAQ data\n",
    "mus.loadBHV()\n",
    "mus.loadRuns('nidaq')"
   ]
  },
  {
   "cell_type": "code",
   "execution_count": 21,
   "metadata": {
    "scrolled": true
   },
   "outputs": [],
   "source": [
    "# Get trial info, onsets and offsets for each event\n",
    "mus.setRun(run= 1) # Set the target run\n",
    "mus.getTrials()\n",
    "mus.getNidaq(clean= True)\n",
    "mus.findOnsets()\n",
    "mus.getOnsets()\n",
    "Fs = mus.getFs()"
   ]
  },
  {
   "cell_type": "code",
   "execution_count": null,
   "metadata": {
    "collapsed": true
   },
   "outputs": [],
   "source": []
  },
  {
   "cell_type": "code",
   "execution_count": null,
   "metadata": {
    "collapsed": true
   },
   "outputs": [],
   "source": []
  },
  {
   "cell_type": "code",
   "execution_count": 22,
   "metadata": {},
   "outputs": [
    {
     "name": "stderr",
     "output_type": "stream",
     "text": [
      "/Users/Amelia/anaconda2/lib/python2.7/site-packages/ipykernel_launcher.py:4: DeprecationWarning: object of type <type 'float'> cannot be safely interpreted as an integer.\n",
      "  after removing the cwd from sys.path.\n"
     ]
    }
   ],
   "source": [
    "# Set the trial basics\n",
    "preITI = 2.0 #sec\n",
    "postITI = 6.0 #sec\n",
    "time = np.linspace(-preITI, postITI, (postITI+preITI) * mus.nidaq.Fs)"
   ]
  },
  {
   "cell_type": "code",
   "execution_count": 23,
   "metadata": {},
   "outputs": [],
   "source": [
    "# Find the visual stim onsets and so we will organize the data around the vis stim onsets\n",
    "\n",
    "# Trial bins\n",
    "mus.onsetMatrix['trialnum'] = pd.Series(np.zeros(len(mus.onsetMatrix['timestamps']), dtype= int), dtype= int)\n",
    "mus.onsetMatrix['time'] = pd.Series(np.zeros(len(mus.onsetMatrix['timestamps']), dtype= int), dtype= int)\n",
    "mus.onsetMatrix['condition'] = pd.Series(np.zeros(len(mus.onsetMatrix['timestamps']), dtype= int), dtype= int)\n",
    "mus.onsetMatrix['trialerrors'] = pd.Series(np.zeros(len(mus.onsetMatrix['timestamps']), dtype= int), dtype= int)\n",
    "\n",
    "visOnsets = mus.pulseOnsets['visual_stimulus']['onsetInd'].values\n",
    "bins = np.reshape(np.concatenate([visOnsets - preITI*Fs, visOnsets + postITI*Fs]), (2, visOnsets.size)).transpose().astype(int)\n",
    "\n",
    "for i in range(0, len(bins)):\n",
    "    begin = bins[i,:][0]\n",
    "    end = bins[i,:][1]\n",
    "    \n",
    "    # add the trial number\n",
    "    mus.onsetMatrix['trialnum'].iloc[begin : end] = mus.bhv['trialnum'].loc[i]\n",
    "    \n",
    "    # add the offset time\n",
    "    mus.onsetMatrix['time'].iloc[begin : end] = time\n",
    "    \n",
    "    # add the conditions\n",
    "    mus.onsetMatrix['condition'].iloc[begin : end] = mus.bhv['conditions'].loc[i]\n",
    "    \n",
    "    # add the trial errors\n",
    "    mus.onsetMatrix['trialerrors'].iloc[begin : end] = mus.bhv['trialerrors'].loc[i]\n",
    "    \n",
    "onsets = mus.onsetMatrix[mus.onsetMatrix['trialnum'] > 0].reset_index(drop= True)"
   ]
  },
  {
   "cell_type": "code",
   "execution_count": 24,
   "metadata": {
    "collapsed": true
   },
   "outputs": [],
   "source": [
    "# Do the same to offsets\n",
    "\n",
    "# Trial bins\n",
    "mus.offsetMatrix['trialnum'] = pd.Series(np.zeros(len(mus.offsetMatrix['timestamps']), dtype= int), dtype= int)\n",
    "mus.offsetMatrix['time'] = pd.Series(np.zeros(len(mus.offsetMatrix['timestamps']), dtype= int), dtype= int)\n",
    "mus.offsetMatrix['condition'] = pd.Series(np.zeros(len(mus.offsetMatrix['timestamps']), dtype= int), dtype= int)\n",
    "mus.offsetMatrix['trialerrors'] = pd.Series(np.zeros(len(mus.offsetMatrix['timestamps']), dtype= int), dtype= int)\n",
    "\n",
    "visOnsets = mus.pulseOnsets['visual_stimulus']['onsetInd'].values\n",
    "bins = np.reshape(np.concatenate([visOnsets - preITI*Fs, visOnsets + postITI*Fs]), (2, visOnsets.size)).transpose().astype(int)\n",
    "\n",
    "for i in range(0, len(bins)):\n",
    "    begin = bins[i,:][0]\n",
    "    end = bins[i,:][1]\n",
    "    \n",
    "    # add the trial number\n",
    "    mus.offsetMatrix['trialnum'].iloc[begin : end] = mus.bhv['trialnum'].loc[i]\n",
    "    \n",
    "    # add the offset time\n",
    "    mus.offsetMatrix['time'].iloc[begin : end] = time\n",
    "    \n",
    "    # add the conditions\n",
    "    mus.offsetMatrix['condition'].iloc[begin : end] = mus.bhv['conditions'].loc[i]\n",
    "    \n",
    "    # add the conditions\n",
    "    mus.offsetMatrix['trialerrors'].iloc[begin : end] = mus.bhv['trialerrors'].loc[i]\n",
    "    \n",
    "offsets = mus.offsetMatrix[mus.offsetMatrix['trialnum'] > 0].reset_index(drop= True)"
   ]
  },
  {
   "cell_type": "code",
   "execution_count": 25,
   "metadata": {
    "collapsed": true
   },
   "outputs": [],
   "source": [
    "#### END ####"
   ]
  },
  {
   "cell_type": "code",
   "execution_count": null,
   "metadata": {
    "collapsed": true,
    "scrolled": true
   },
   "outputs": [],
   "source": []
  },
  {
   "cell_type": "code",
   "execution_count": null,
   "metadata": {
    "collapsed": true
   },
   "outputs": [],
   "source": []
  },
  {
   "cell_type": "code",
   "execution_count": 26,
   "metadata": {
    "collapsed": true
   },
   "outputs": [],
   "source": [
    "colors = ['Green', 'Blue', 'Red', 'Grey']\n",
    "\n",
    "stylish = {'axes.axisbelow': False,\n",
    " 'axes.edgecolor': '1',\n",
    " 'axes.facecolor': 'white',\n",
    " 'axes.grid': False,\n",
    " 'axes.labelcolor': '.15',\n",
    " 'axes.spines.bottom': False,\n",
    " 'axes.spines.left': False,\n",
    " 'axes.spines.right': False,\n",
    " 'axes.spines.top': False,\n",
    " 'figure.facecolor': 'white',\n",
    " 'font.family': ['sans-serif'],\n",
    " 'font.sans-serif': ['Arial',\n",
    "  'DejaVu Sans',\n",
    "  'Liberation Sans',\n",
    "  'Bitstream Vera Sans',\n",
    "  'sans-serif'],\n",
    " 'font.size': 14,\n",
    " 'grid.color': '.8',\n",
    " 'grid.linestyle': '-',\n",
    " 'image.cmap': 'rocket',\n",
    " 'lines.solid_capstyle': 'round',\n",
    " 'patch.edgecolor': 'w',\n",
    " 'patch.force_edgecolor': True,\n",
    " 'text.color': '.15',\n",
    " 'xtick.bottom': False,\n",
    " 'xtick.color': '.15',\n",
    " 'xtick.direction': 'out',\n",
    " 'xtick.top': False,\n",
    " 'ytick.color': '.15',\n",
    " 'ytick.direction': 'out',\n",
    " 'ytick.left': False,\n",
    " 'ytick.right': False}"
   ]
  },
  {
   "cell_type": "code",
   "execution_count": 27,
   "metadata": {
    "scrolled": false
   },
   "outputs": [
    {
     "data": {
      "image/png": "[encoded data removed]",
      "text/plain": [
       "<matplotlib.figure.Figure at 0x1865946250>"
      ]
     },
     "metadata": {},
     "output_type": "display_data"
    }
   ],
   "source": [
    "import seaborn as sns\n",
    "from matplotlib.patches import Rectangle\n",
    "\n",
    "firstShock = False\n",
    "firstLicks = True\n",
    "conditions = set(onsets.condition)\n",
    "\n",
    "# First organize and sort the data according to trial condition and trial error\n",
    "#events = onsets.pivot_table(index= ['condition', 'trialnum'], columns= 'time')\n",
    "events = onsets.pivot_table(index= ['condition', 'trialnum', 'trialerrors'], columns= 'time').sort_index(level= [0, 2])\n",
    "licks = np.array(events['licking'].values * time)\n",
    "shocks = np.array(events['shock'].values * time)\n",
    "ensure = np.array(events['ensure'].values * time)\n",
    "\n",
    "#eventsOff = offsets.pivot_table(index= ['condition', 'trialnum'], columns= 'time')\n",
    "eventsOff = offsets.pivot_table(index= ['condition', 'trialnum'], columns= 'time')\n",
    "shocksOff = np.array(eventsOff['shock'].values * time)\n",
    "ensureOff = np.array(eventsOff['ensure'].values * time)\n",
    "\n",
    "sns.set_style(stylish)\n",
    "fig, ax = plt.subplots(figsize= (7.5, 10))\n",
    "\n",
    "for i in range(0, licks.shape[0]):\n",
    "    # Plot reward\n",
    "    if len(ensure[i,:][ensure[i,:] > 0]) > 0:\n",
    "        #ensureLine = ax.vlines(ensure[i,:][ensure[i,:] != 0][0], i-0.35, i+0.35, linewidth= 1, color='g', alpha= 0.3, label= 'Ensure')\n",
    "        #ensureLine = ax.hlines(i, ensure[i,:][ensure[i,:] != 0][0], ensureOff[i,:][ensureOff[i,:] != 0][0], linewidth= 5, color='g', alpha= 0.3, label= 'Ensure')\n",
    "        if ~len(ensureOff[i,:][ensureOff[i,:] != 0]):\n",
    "            ensureLine = ax.hlines(i, ensure[i,:][ensure[i,:] != 0][0], ensure[i,:][ensure[i,:] != 0][0]+0.5, linewidth= 5, color='g', alpha= 0.3, label= 'Ensure')\n",
    "        else:\n",
    "            ensureLine = ax.hlines(i, ensure[i,:][ensure[i,:] != 0][0], ensureOff[i,:][ensureOff[i,:] != 0][0], linewidth= 5, color='g', alpha= 0.3, label= 'Ensure')\n",
    "    # Plot shocks\n",
    "    if firstShock:\n",
    "        shockLines = ax.vlines(shocks[i,:][shocks[i,:] != 0][0], i-0.35, i+0.35, linewidth= 1, color='r', alpha= 0.3, label= 'Shock')\n",
    "    else:\n",
    "        if len(shocks[i,:][shocks[i,:] != 0]) > 0:\n",
    "            #shockLines = ax.vlines(shocks[i,:][shocks[i,:] != 0], i-0.35, i+0.35, linewidth= 1, color='y', alpha= 0.4)\n",
    "            shockLines = ax.hlines(i, shocks[i,:][shocks[i,:] != 0][0], shocks[i,:][shocks[i,:] != 0][-1], linewidth= 5, color='r', alpha= 0.3, label= 'Shock')\n",
    "    # Plot licks\n",
    "    lickLines = ax.vlines(licks[i,:][licks[i,:] != 0], i-0.35, i+0.35, linewidth= 1, color='k', label= 'Lick')\n",
    "    # Mark the first lick\n",
    "    if firstLicks:\n",
    "        firstLick = licks[i,:][licks[i,:] != 0]\n",
    "        if len(firstLick[firstLick > 0]) > 0:\n",
    "            firstLickLine = ax.vlines(firstLick[firstLick > 0][0], i-0.35, i+0.35, linewidth= 2, color='b', alpha= 0.5, label= 'First lick')\n",
    "    \n",
    "ax.invert_yaxis()\n",
    "ax.set_xlim([-preITI - 2, postITI])\n",
    "ax.set_yticks([])\n",
    "ax.set_xticks(np.arange(-preITI, postITI + 0.1, 2))\n",
    "ax.set_xlabel('time (sec)')\n",
    "\n",
    "\n",
    "width = 0.2\n",
    "count = 0\n",
    "for con in conditions:\n",
    "    trials = events.loc[con].shape[0]\n",
    "    \n",
    "    # A lot of effort to set the label\n",
    "    centerx = -preITI - width*4\n",
    "    centery = count + trials/2\n",
    "    if mus.bhv.codes[con].split(\"_\")[0] == 'CSmix':\n",
    "        ylabel = mus.bhv.codes[con].split(\"_\")[0]\n",
    "    elif mus.bhv.codes[con].split(\"_\")[0] == 'Blank':\n",
    "        ylabel = mus.bhv.codes[con].split(\"_\")[0]\n",
    "    else:\n",
    "        ylabel = mus.bhv.codes[con].split(\"_\")[1]\n",
    "    ax.text(centerx, centery, ylabel, rotation= 'vertical', va= 'center')\n",
    "    \n",
    "    if count > 0:\n",
    "        ax.hlines(count-0.5, -preITI - width*2, postITI, linewidth= 0.25)\n",
    "        \n",
    "    rect = Rectangle((-preITI - width*2, count), width, trials-1, linewidth= 0, facecolor= colors[con-1])\n",
    "    count = count + trials\n",
    "    ax.add_patch(rect)\n",
    "\n",
    "cueBox = Rectangle((0, -1), 2, count+1, alpha= 0.2, facecolor= 'Grey' , label= 'Cue')\n",
    "ax.add_patch(cueBox)\n",
    "\n",
    "ax.set_title(mus.mouse + ', ' + mus.date + ', Run_' + str(mus.run))\n",
    "\n",
    "handles, labels = ax.get_legend_handles_labels()\n",
    "legend = ax.legend(handles=[lickLines, firstLickLine, ensureLine, shockLines, cueBox], frameon=False, bbox_to_anchor=(1.05, 1), loc=2, borderaxespad=0.)\n",
    "\n",
    "plt.tight_layout()\n"
   ]
  },
  {
   "cell_type": "code",
   "execution_count": 14,
   "metadata": {
    "collapsed": true
   },
   "outputs": [],
   "source": [
    "# Save the figure\n",
    "fig.savefig(mus.savePath('licks', 'pdf'), bbox_extra_artists=(legend,), bbox_inches='tight')"
   ]
  },
  {
   "cell_type": "code",
   "execution_count": null,
   "metadata": {
    "collapsed": true
   },
   "outputs": [],
   "source": [
    "plt.figure(figsize= (15,5))\n",
    "plt.plot(mus.spikes['timestamps'], mus.nidaq['visual_stimulus'])\n",
    "plt.plot(mus.spikes['timestamps'], mus.spikes['visual_stimulus'], '.')\n",
    "#plt.xlim([12.8, 13.2])\n",
    "plt.xlim([0, 30])\n"
   ]
  },
  {
   "cell_type": "code",
   "execution_count": null,
   "metadata": {
    "collapsed": true
   },
   "outputs": [],
   "source": []
  },
  {
   "cell_type": "code",
   "execution_count": null,
   "metadata": {
    "collapsed": true
   },
   "outputs": [],
   "source": []
  },
  {
   "cell_type": "code",
   "execution_count": null,
   "metadata": {
    "collapsed": true
   },
   "outputs": [],
   "source": [
    "on=mus.pulseOnsets['visual_stimulus'].copy()\n",
    "on"
   ]
  },
  {
   "cell_type": "code",
   "execution_count": null,
   "metadata": {
    "collapsed": true
   },
   "outputs": [],
   "source": [
    "a=on['offsets']-on['onsets']\n"
   ]
  },
  {
   "cell_type": "code",
   "execution_count": null,
   "metadata": {
    "collapsed": true
   },
   "outputs": [],
   "source": [
    "\n",
    "for k in conditions:\n",
    "    licksProb = onsets[onsets['condition'] == k].pivot_table(index= ['condition', 'trialnum'], columns= 'time', values= 'licking').values * time\n",
    "    plt.figure()\n",
    "    n, bins, patches = plt.hist(licksProb[licksProb != 0], bins= 50, density=False, facecolor=colors[k-1], alpha=0.75)\n",
    "    plt.xlim([-preITI, postITI])\n",
    "    plt.ylim([0, 50])"
   ]
  },
  {
   "cell_type": "code",
   "execution_count": null,
   "metadata": {
    "collapsed": true
   },
   "outputs": [],
   "source": [
    "for k in conditions:\n",
    "    licksProb = onsets[onsets['condition'] == k].pivot_table(index= ['condition', 'trialnum'], columns= 'time', values= 'licking').values * time\n",
    "    plt.figure()\n",
    "    plt.plot(time, np.mean(licksProb, axis= 0), color= colors[k-1])\n",
    "    #plt.xlim([-preITI, postITI])\n",
    "    plt.xlim([1, 1.2])"
   ]
  },
  {
   "cell_type": "code",
   "execution_count": null,
   "metadata": {
    "collapsed": true,
    "scrolled": true
   },
   "outputs": [],
   "source": [
    "import scipy.stats as stat\n",
    "\n",
    "bin_means, bin_edges, binnumber  = stat.binned_statistic(time, licksProb, statistic='mean', bins=10, range=None)\n",
    "\n",
    "plt.plot(bin_means, bin_edges[1,:])"
   ]
  },
  {
   "cell_type": "code",
   "execution_count": null,
   "metadata": {
    "collapsed": true
   },
   "outputs": [],
   "source": [
    "bin_means.shape\n",
    "bin_edges[:-1]"
   ]
  },
  {
   "cell_type": "code",
   "execution_count": null,
   "metadata": {
    "collapsed": true
   },
   "outputs": [],
   "source": [
    "import seaborn as sns\n",
    "from matplotlib.patches import Rectangle\n",
    "\n",
    "firstShock = False\n",
    "firstLicks = True\n",
    "conditions = set(onsets.condition)\n",
    "\n",
    "# First organize\n",
    "events = onsets.pivot_table(index= ['condition', 'trialnum'], columns= 'time')\n",
    "licks = np.array(events['licking'].values * time)\n",
    "shocks = np.array(events['shock'].values * time)\n",
    "ensure = np.array(events['ensure'].values * time)\n",
    "\n",
    "eventsOff = onsets.pivot_table(index= ['condition', 'trialnum'], columns= 'time')\n",
    "shocksOff = np.array(eventsOff['shock'].values * time)\n",
    "ensureOff = np.array(eventsOff['ensure'].values * time)\n",
    "\n",
    "sns.set_style(stylish)\n",
    "fig, ax = plt.subplots(figsize= (10, 15))\n",
    "\n",
    "width = 0.2\n",
    "count = 0\n",
    "for con in conditions:\n",
    "    trials = events.loc[con].shape[0]\n",
    "    \n",
    "    ax.plot(time, events['licking'].values)\n",
    "    \n",
    "    # A lot of effort to set the label\n",
    "    centerx = -preITI - width*4\n",
    "    centery = count + trials/2\n",
    "    if mus.bhv.codes[con].split(\"_\")[0] == 'CSmix':\n",
    "        ylabel = mus.bhv.codes[con].split(\"_\")[0]\n",
    "    elif mus.bhv.codes[con].split(\"_\")[0] == 'Blank':\n",
    "        ylabel = mus.bhv.codes[con].split(\"_\")[0]\n",
    "    else:\n",
    "        ylabel = mus.bhv.codes[con].split(\"_\")[1]\n",
    "    ax.text(centerx, centery, ylabel, rotation= 'vertical', va= 'center')\n",
    "    \n",
    "    if count > 0:\n",
    "        ax.hlines(count-0.5, -preITI - width*2, postITI, linewidth= 0.25)\n",
    "        \n",
    "    #ax.invert_yaxis()\n",
    "    #ax.set_xlim([-preITI - 2, postITI])\n",
    "    #ax.set_yticks([])\n",
    "    #ax.set_xticks(np.arange(-preITI, postITI + 0.1, 2))\n",
    "    #ax.set_xlabel('time (sec)')\n",
    "\n",
    "    #rect = Rectangle((-preITI - width*2, count), width, trials-1, linewidth= 0, facecolor= colors[con-1])\n",
    "    #count = count + trials\n",
    "    #ax.add_patch(rect)\n",
    "\n",
    "#cueBox = Rectangle((0, -1), 2, count+1, alpha= 0.2, label= 'Cue')\n",
    "#ax.add_patch(cueBox)\n",
    "\n",
    "#ax.set_title(mus.mouse + ', ' + mus.date + ', Run_' + str(mus.run))\n",
    "\n",
    "#handles, labels = ax.get_legend_handles_labels()\n",
    "#ax.legend(handles=[lickLines, firstLickLine, ensureLine, shockLines, cueBox], frameon=False, bbox_to_anchor=(1.05, 1), loc=2, borderaxespad=0.)"
   ]
  },
  {
   "cell_type": "code",
   "execution_count": null,
   "metadata": {
    "collapsed": true
   },
   "outputs": [],
   "source": []
  },
  {
   "cell_type": "code",
   "execution_count": null,
   "metadata": {
    "collapsed": true
   },
   "outputs": [],
   "source": []
  },
  {
   "cell_type": "code",
   "execution_count": null,
   "metadata": {
    "collapsed": true
   },
   "outputs": [],
   "source": []
  },
  {
   "cell_type": "code",
   "execution_count": null,
   "metadata": {
    "collapsed": true
   },
   "outputs": [],
   "source": []
  },
  {
   "cell_type": "code",
   "execution_count": null,
   "metadata": {
    "collapsed": true
   },
   "outputs": [],
   "source": []
  },
  {
   "cell_type": "code",
   "execution_count": null,
   "metadata": {
    "collapsed": true
   },
   "outputs": [],
   "source": []
  },
  {
   "cell_type": "code",
   "execution_count": null,
   "metadata": {
    "collapsed": true
   },
   "outputs": [],
   "source": []
  },
  {
   "cell_type": "code",
   "execution_count": null,
   "metadata": {
    "collapsed": true
   },
   "outputs": [],
   "source": []
  },
  {
   "cell_type": "code",
   "execution_count": null,
   "metadata": {
    "collapsed": true
   },
   "outputs": [],
   "source": []
  },
  {
   "cell_type": "code",
   "execution_count": null,
   "metadata": {
    "collapsed": true
   },
   "outputs": [],
   "source": []
  },
  {
   "cell_type": "code",
   "execution_count": null,
   "metadata": {
    "collapsed": true
   },
   "outputs": [],
   "source": []
  },
  {
   "cell_type": "code",
   "execution_count": null,
   "metadata": {
    "collapsed": true
   },
   "outputs": [],
   "source": []
  },
  {
   "cell_type": "code",
   "execution_count": null,
   "metadata": {
    "collapsed": true
   },
   "outputs": [],
   "source": []
  },
  {
   "cell_type": "code",
   "execution_count": null,
   "metadata": {
    "collapsed": true
   },
   "outputs": [],
   "source": [
    "import seaborn as sns\n",
    "from matplotlib.patches import Rectangle\n",
    "\n",
    "conditions = set(onsets.condition)\n",
    "\n",
    "events = onsets.pivot_table(index= ['condition', 'trialnum'], columns= 'time')\n",
    "ev = np.array(events['licking'].values * time)\n",
    "\n",
    "sns.set_style(stylish)\n",
    "fig, axes = plt.subplots(len(conditions), 1, sharex= 'all', figsize= (14,8))\n",
    "\n",
    "width = 0.2\n",
    "count = 0\n",
    "for i in conditions:\n",
    "    trials = events.loc[i].shape[0]\n",
    "    for ind in range(count, count + trials):\n",
    "        axes[i-1].vlines(ev[ind,:][ev[ind,:] != 0], ind-0.35, ind+0.35, linewidth= 1, color='k')\n",
    "\n",
    "    axes[i-1].set_xlim([-preITI - 2, postITI])\n",
    "    axes[i-1].set_yticks(np.linspace(count, count + trials, 4))\n",
    "    axes[i-1].set_yticklabels([])\n",
    "    axes[i-1].set_ylim([count, count + trials])\n",
    "    axes[i-1].invert_yaxis()\n",
    "    \n",
    "    # A lot of effort to set the label\n",
    "    if mus.bhv.codes[i].split(\"_\")[0] == 'CSmix':\n",
    "        axes[i-1].set_ylabel(mus.bhv.codes[i].split(\"_\")[0])\n",
    "    elif mus.bhv.codes[i].split(\"_\")[0] == 'Blank':\n",
    "        axes[i-1].set_ylabel(mus.bhv.codes[i].split(\"_\")[0])\n",
    "    else:\n",
    "        axes[i-1].set_ylabel(mus.bhv.codes[i].split(\"_\")[1])\n",
    "\n",
    "    rect = Rectangle((-preITI - width*2, count-1), width, trials+1, linewidth= 0, facecolor= colors[i-1])\n",
    "    axes[i-1].add_patch(rect)\n",
    "    \n",
    "    count = count + trials\n",
    "\n",
    "    #cueBox = Rectangle((0, 0), 2, count, alpha= 0.25)\n",
    "    #axes[i].add_patch(cueBox)\n",
    "\n",
    "axes[i-1].set_xticks(np.arange(-preITI, postITI + 0.1, 2))\n",
    "axes[i-1].set_xlabel('time (sec)')\n",
    "\n",
    "plt.subplots_adjust(left=None, bottom=None, right=None, top=None, wspace=None, hspace=0.01)\n"
   ]
  },
  {
   "cell_type": "code",
   "execution_count": null,
   "metadata": {
    "collapsed": true
   },
   "outputs": [],
   "source": []
  },
  {
   "cell_type": "code",
   "execution_count": null,
   "metadata": {
    "collapsed": true
   },
   "outputs": [],
   "source": []
  },
  {
   "cell_type": "code",
   "execution_count": null,
   "metadata": {},
   "outputs": [],
   "source": []
  },
  {
   "cell_type": "code",
   "execution_count": null,
   "metadata": {},
   "outputs": [],
   "source": []
  },
  {
   "cell_type": "code",
   "execution_count": null,
   "metadata": {
    "collapsed": true
   },
   "outputs": [],
   "source": []
  },
  {
   "cell_type": "code",
   "execution_count": 35,
   "metadata": {},
   "outputs": [
    {
     "data": {
      "text/plain": [
       "4"
      ]
     },
     "execution_count": 35,
     "metadata": {},
     "output_type": "execute_result"
    }
   ],
   "source": [
    "a={'a':{1:2,3:4},'b':{5:1,6:2}}\n",
    "a['a'][3]"
   ]
  },
  {
   "cell_type": "code",
   "execution_count": 56,
   "metadata": {},
   "outputs": [],
   "source": [
    "dd = ['12','13','14','15']\n",
    "rr = [1,2,3]\n",
    "\n",
    "X = {}\n",
    "for d in dd:\n",
    "    temp = {}\n",
    "    for r in rr:\n",
    "        temp[r] = (i, k)\n",
    "    X[d] = temp"
   ]
  },
  {
   "cell_type": "code",
   "execution_count": 65,
   "metadata": {},
   "outputs": [
    {
     "ename": "NameError",
     "evalue": "name 'A' is not defined",
     "output_type": "error",
     "traceback": [
      "\u001b[0;31m---------------------------------------------------------------------------\u001b[0m",
      "\u001b[0;31mNameError\u001b[0m                                 Traceback (most recent call last)",
      "\u001b[0;32m<ipython-input-65-745979b2b52c>\u001b[0m in \u001b[0;36m<module>\u001b[0;34m()\u001b[0m\n\u001b[0;32m----> 1\u001b[0;31m \u001b[0mA\u001b[0m\u001b[0;34m.\u001b[0m\u001b[0ma\u001b[0m \u001b[0;34m=\u001b[0m \u001b[0;34m{\u001b[0m\u001b[0;34m}\u001b[0m\u001b[0;34m\u001b[0m\u001b[0m\n\u001b[0m",
      "\u001b[0;31mNameError\u001b[0m: name 'A' is not defined"
     ]
    }
   ],
   "source": [
    "A.a = {}"
   ]
  },
  {
   "cell_type": "code",
   "execution_count": 69,
   "metadata": {},
   "outputs": [
    {
     "name": "stdout",
     "output_type": "stream",
     "text": [
      "5\n"
     ]
    }
   ],
   "source": [
    "filePath = 'bh8v'\n",
    "if filePath not in ['bhv', 'nidaq', 'running', 'eye', 'cam', 'all']:\n",
    "    print 5"
   ]
  },
  {
   "cell_type": "code",
   "execution_count": null,
   "metadata": {
    "collapsed": true
   },
   "outputs": [],
   "source": []
  },
  {
   "cell_type": "code",
   "execution_count": 70,
   "metadata": {},
   "outputs": [
    {
     "data": {
      "text/plain": [
       "0"
      ]
     },
     "execution_count": 70,
     "metadata": {},
     "output_type": "execute_result"
    }
   ],
   "source": [
    "a={}\n",
    "len(a)"
   ]
  },
  {
   "cell_type": "code",
   "execution_count": null,
   "metadata": {
    "collapsed": true
   },
   "outputs": [],
   "source": []
  }
 ],
 "metadata": {
  "kernelspec": {
   "display_name": "Python 2",
   "language": "python",
   "name": "python2"
  },
  "language_info": {
   "codemirror_mode": {
    "name": "ipython",
    "version": 2
   },
   "file_extension": ".py",
   "mimetype": "text/x-python",
   "name": "python",
   "nbconvert_exporter": "python",
   "pygments_lexer": "ipython2",
   "version": "2.7.14"
  }
 },
 "nbformat": 4,
 "nbformat_minor": 2
}
