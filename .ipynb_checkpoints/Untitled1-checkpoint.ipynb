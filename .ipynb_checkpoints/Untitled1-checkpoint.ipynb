{
 "cells": [
  {
   "cell_type": "code",
   "execution_count": 16,
   "metadata": {
    "collapsed": true
   },
   "outputs": [],
   "source": [
    "from behavior.behavior import behavior\n",
    "from behavior.plotScale import plotScale\n",
    "import pickle\n",
    "import numpy as np\n",
    "import pandas as pd\n",
    "import seaborn as sns\n",
    "import matplotlib.pyplot as plt\n",
    "%matplotlib inline\n"
   ]
  },
  {
   "cell_type": "code",
   "execution_count": 17,
   "metadata": {
    "collapsed": true
   },
   "outputs": [],
   "source": [
    "## Load LR7 and 8"
   ]
  },
  {
   "cell_type": "code",
   "execution_count": 18,
   "metadata": {},
   "outputs": [
    {
     "name": "stdout",
     "output_type": "stream",
     "text": [
      "Base directory is set to /Users/Amelia/Documents/hakan/data\n",
      "\n"
     ]
    }
   ],
   "source": [
    "baseDir = '/Users/Amelia/Documents/hakan/data'\n",
    "\n",
    "SalSal = ['180710', '180719','180724']\n",
    "SalCNO = ['180711', '180713', '180720']\n",
    "CNOSal = ['180712', '180717', '180725']\n",
    "dates = SalSal + SalCNO + CNOSal\n",
    "runs = [1, 2, 3]\n",
    "\n",
    "mouse = 'LR7'\n",
    "lr7 = behavior(mouse, dates, runs)\n",
    "lr7.setDir(baseDir)\n",
    "with open('/Users/Amelia/Documents/hakan/data/CNO_trials/' + lr7.mouse + '.obj', 'rb') as handle:\n",
    "            lr7.data = pickle.load(handle)\n",
    "\n",
    "# mouse = 'LR8'\n",
    "# lr8 = behavior(mouse, dates, runs)\n",
    "# lr8.setDir(baseDir)\n",
    "# with open('/Users/Amelia/Documents/hakan/data/CNO_trials/' + lr8.mouse + '.obj', 'rb') as handle:\n",
    "#             lr8.data = pickle.load(handle)\n"
   ]
  },
  {
   "cell_type": "code",
   "execution_count": 19,
   "metadata": {
    "collapsed": true
   },
   "outputs": [],
   "source": [
    "## Load LR9 and 13"
   ]
  },
  {
   "cell_type": "code",
   "execution_count": 20,
   "metadata": {
    "collapsed": true
   },
   "outputs": [],
   "source": [
    "# SalSal = ['180612', '180621']\n",
    "# SalCNO = ['180613', '180615', '180620']\n",
    "# CNOSal = ['180614', '180619', '180622']\n",
    "# dates = SalSal + SalCNO + CNOSal\n",
    "# runs = [1, 2, 3]\n",
    "\n",
    "# mouse = 'LR9'\n",
    "# lr9 = behavior(mouse, dates, runs)\n",
    "# lr9.setDir(baseDir)\n",
    "# with open('/Users/Amelia/Documents/hakan/data/CNO_trials/' + lr9.mouse + '.obj', 'rb') as handle:\n",
    "#             lr9.data = pickle.load(handle)\n",
    "        \n",
    "# mouse = 'LR13'\n",
    "# lr13 = behavior(mouse, dates, runs)\n",
    "# lr13.setDir(baseDir)\n",
    "# with open('/Users/Amelia/Documents/hakan/data/CNO_trials/' + lr13.mouse + '.obj', 'rb') as handle:\n",
    "#             lr13.data = pickle.load(handle)\n"
   ]
  },
  {
   "cell_type": "code",
   "execution_count": 21,
   "metadata": {
    "collapsed": true
   },
   "outputs": [],
   "source": [
    "## Find onsets"
   ]
  },
  {
   "cell_type": "code",
   "execution_count": 22,
   "metadata": {
    "collapsed": true
   },
   "outputs": [],
   "source": [
    "SalSal = ['180710', '180719','180724']\n",
    "SalCNO = ['180711', '180713', '180720']\n",
    "CNOSal = ['180712', '180717', '180725']\n",
    "dates = SalSal + SalCNO + CNOSal\n",
    "runs = [1, 2, 3]\n",
    "\n",
    "lr7.loadTrials(save= False)\n",
    "lr7.loadNidaq(clean=True, save= False)\n",
    "lr7.findOnsets(2.5, save=False)\n",
    "\n",
    "# lr8.loadTrials(save= False)\n",
    "# lr8.loadNidaq(clean=True, save= False)"
   ]
  },
  {
   "cell_type": "code",
   "execution_count": 8,
   "metadata": {
    "collapsed": true
   },
   "outputs": [],
   "source": [
    "#####"
   ]
  },
  {
   "cell_type": "code",
   "execution_count": null,
   "metadata": {
    "collapsed": true,
    "scrolled": true
   },
   "outputs": [],
   "source": []
  },
  {
   "cell_type": "code",
   "execution_count": 9,
   "metadata": {
    "scrolled": true
   },
   "outputs": [
    {
     "data": {
      "text/plain": [
       "[<matplotlib.lines.Line2D at 0x1e88fa9e10>]"
      ]
     },
     "execution_count": 9,
     "metadata": {},
     "output_type": "execute_result"
    },
    {
     "data": {
      "image/png": "[encoded data removed]",
      "text/plain": [
       "<matplotlib.figure.Figure at 0x10d261e10>"
      ]
     },
     "metadata": {},
     "output_type": "display_data"
    }
   ],
   "source": [
    "x= lr7.nidaq['180713'][2]['timestamps'][lr7.nidaq['180713'][2]['licking'] > 0]\n",
    "y= np.ones(len(x), dtype=int)*2\n",
    "plt.plot(x, y, '|')"
   ]
  },
  {
   "cell_type": "code",
   "execution_count": 57,
   "metadata": {},
   "outputs": [],
   "source": [
    "ITI = 6.0\n",
    "Fs = lr7.getFs()\n",
    "timestamps = lr7.timestamps[dates[2]][runs[2]]\n",
    "t_begin = lr7.onsets[dates[2]][runs[2]]['visual_stimulus'].index - int(ITI*Fs/3)\n",
    "t_0 = lr7.onsets[dates[2]][runs[2]]['visual_stimulus'].index\n",
    "t_end = lr7.onsets[dates[2]][runs[2]]['visual_stimulus'].index + int(ITI)\n"
   ]
  },
  {
   "cell_type": "code",
   "execution_count": null,
   "metadata": {},
   "outputs": [],
   "source": []
  },
  {
   "cell_type": "code",
   "execution_count": 40,
   "metadata": {},
   "outputs": [
    {
     "data": {
      "text/plain": [
       "Int64Index([  21868,   42545,   63239,   87853,  109418,  131009,  151712,\n",
       "             176329,  200954,  222550,\n",
       "            ...\n",
       "            2454239, 2475632, 2496388, 2521020, 2541712, 2562402, 2587031,\n",
       "            2607724, 2629317, 2650711],\n",
       "           dtype='int64', length=120)"
      ]
     },
     "execution_count": 40,
     "metadata": {},
     "output_type": "execute_result"
    }
   ],
   "source": [
    "t_begin"
   ]
  },
  {
   "cell_type": "code",
   "execution_count": 41,
   "metadata": {},
   "outputs": [
    {
     "data": {
      "text/plain": [
       "Int64Index([  25874,   46551,   67245,   91859,  113424,  135015,  155718,\n",
       "             180335,  204960,  226556,\n",
       "            ...\n",
       "            2458245, 2479638, 2500394, 2525026, 2545718, 2566408, 2591037,\n",
       "            2611730, 2633323, 2654717],\n",
       "           dtype='int64', length=120)"
      ]
     },
     "execution_count": 41,
     "metadata": {},
     "output_type": "execute_result"
    }
   ],
   "source": [
    "t_end"
   ]
  },
  {
   "cell_type": "code",
   "execution_count": 56,
   "metadata": {},
   "outputs": [
    {
     "data": {
      "image/png": "[encoded data removed]",
      "text/plain": [
       "<matplotlib.figure.Figure at 0x1db693a190>"
      ]
     },
     "metadata": {},
     "output_type": "display_data"
    }
   ],
   "source": [
    "trials = lr7.trials[dates[2]][runs[2]]\n",
    "for trial in trials:\n",
    "    begin = t_begin[trial-1]\n",
    "    end = t_end[trial-1]\n",
    "    licking = lr7.onsets[dates[2]][runs[2]]['licking'].index\n",
    "    x= licking[(licking > begin) & (licking < end)] - timestamps[t_0[trial-1]]\n",
    "    y = np.ones(len(x), dtype=int)*trial\n",
    "    plt.plot(x, y, '|')"
   ]
  },
  {
   "cell_type": "code",
   "execution_count": 13,
   "metadata": {},
   "outputs": [
    {
     "data": {
      "text/plain": [
       "Int64Index([ 101041,  102401,  119745,  120001,  120255,  121571,  123049,\n",
       "             123703,  123983,  124321,\n",
       "            ...\n",
       "            2649777, 2650434, 2650756, 2651060, 2651400, 2651717, 2652105,\n",
       "            2652442, 2652781, 2653826],\n",
       "           dtype='int64', length=616)"
      ]
     },
     "execution_count": 13,
     "metadata": {},
     "output_type": "execute_result"
    }
   ],
   "source": [
    "lr7.onsets[dates[2]][runs[2]]['licking'].index"
   ]
  },
  {
   "cell_type": "code",
   "execution_count": null,
   "metadata": {
    "collapsed": true
   },
   "outputs": [],
   "source": []
  },
  {
   "cell_type": "code",
   "execution_count": 12,
   "metadata": {
    "scrolled": true
   },
   "outputs": [
    {
     "data": {
      "text/plain": [
       "101041       50.5205\n",
       "102401       51.2005\n",
       "119745       59.8725\n",
       "120001       60.0005\n",
       "120255       60.1275\n",
       "121571       60.7855\n",
       "123049       61.5245\n",
       "123703       61.8515\n",
       "123983       61.9915\n",
       "124321       62.1605\n",
       "124652       62.3260\n",
       "124963       62.4815\n",
       "125337       62.6685\n",
       "125607       62.8035\n",
       "125938       62.9690\n",
       "126682       63.3410\n",
       "126947       63.4735\n",
       "127358       63.6790\n",
       "127644       63.8220\n",
       "128319       64.1595\n",
       "129061       64.5305\n",
       "129765       64.8825\n",
       "213184      106.5920\n",
       "216411      108.2055\n",
       "216674      108.3370\n",
       "216996      108.4980\n",
       "217325      108.6625\n",
       "217664      108.8320\n",
       "217919      108.9595\n",
       "218633      109.3165\n",
       "             ...    \n",
       "2476805    1238.4025\n",
       "2477161    1238.5805\n",
       "2477462    1238.7310\n",
       "2478171    1239.0855\n",
       "2478501    1239.2505\n",
       "2478784    1239.3920\n",
       "2493121    1246.5605\n",
       "2493389    1246.6945\n",
       "2493668    1246.8340\n",
       "2628384    1314.1920\n",
       "2630959    1315.4795\n",
       "2631299    1315.6495\n",
       "2631629    1315.8145\n",
       "2631979    1315.9895\n",
       "2632341    1316.1705\n",
       "2632652    1316.3260\n",
       "2632995    1316.4975\n",
       "2633688    1316.8440\n",
       "2649130    1324.5650\n",
       "2649459    1324.7295\n",
       "2649777    1324.8885\n",
       "2650434    1325.2170\n",
       "2650756    1325.3780\n",
       "2651060    1325.5300\n",
       "2651400    1325.7000\n",
       "2651717    1325.8585\n",
       "2652105    1326.0525\n",
       "2652442    1326.2210\n",
       "2652781    1326.3905\n",
       "2653826    1326.9130\n",
       "Name: timestamps, Length: 616, dtype: float64"
      ]
     },
     "execution_count": 12,
     "metadata": {},
     "output_type": "execute_result"
    }
   ],
   "source": [
    "lr7.onsets[dates[2]][runs[2]]['licking']"
   ]
  },
  {
   "cell_type": "code",
   "execution_count": null,
   "metadata": {
    "collapsed": true
   },
   "outputs": [],
   "source": []
  },
  {
   "cell_type": "code",
   "execution_count": null,
   "metadata": {
    "collapsed": true
   },
   "outputs": [],
   "source": []
  },
  {
   "cell_type": "code",
   "execution_count": null,
   "metadata": {
    "collapsed": true
   },
   "outputs": [],
   "source": []
  },
  {
   "cell_type": "code",
   "execution_count": null,
   "metadata": {
    "collapsed": true
   },
   "outputs": [],
   "source": []
  },
  {
   "cell_type": "code",
   "execution_count": null,
   "metadata": {
    "collapsed": true
   },
   "outputs": [],
   "source": [
    "ITI = 6.0\n",
    "Fs = lr7.getFs()\n",
    "for trial in lr7.trials['180713'][2]:\n",
    "    onset = lr7.onsets['180713'][2]['visual_stimulus'].iloc[trial-1]\n",
    "    onsetInd = lr7.onsets['180713'][2]['visual_stimulus'].index[trial-1]\n",
    "    print (onsetInd - int((ITI/3)*Fs), onsetInd, onsetInd + int(ITI*Fs))"
   ]
  },
  {
   "cell_type": "code",
   "execution_count": null,
   "metadata": {
    "collapsed": true
   },
   "outputs": [],
   "source": [
    "lr7.onsets['180713'][2]['licking']['trialnum']=0"
   ]
  },
  {
   "cell_type": "code",
   "execution_count": null,
   "metadata": {
    "collapsed": true
   },
   "outputs": [],
   "source": [
    "lr7.onsets['180713'][2]['ensure']"
   ]
  },
  {
   "cell_type": "code",
   "execution_count": null,
   "metadata": {
    "collapsed": true
   },
   "outputs": [],
   "source": []
  },
  {
   "cell_type": "code",
   "execution_count": null,
   "metadata": {
    "collapsed": true
   },
   "outputs": [],
   "source": []
  },
  {
   "cell_type": "code",
   "execution_count": null,
   "metadata": {
    "collapsed": true
   },
   "outputs": [],
   "source": []
  },
  {
   "cell_type": "code",
   "execution_count": null,
   "metadata": {
    "collapsed": true
   },
   "outputs": [],
   "source": []
  },
  {
   "cell_type": "code",
   "execution_count": null,
   "metadata": {
    "collapsed": true
   },
   "outputs": [],
   "source": []
  },
  {
   "cell_type": "code",
   "execution_count": null,
   "metadata": {
    "collapsed": true
   },
   "outputs": [],
   "source": []
  },
  {
   "cell_type": "code",
   "execution_count": null,
   "metadata": {
    "collapsed": true,
    "scrolled": true
   },
   "outputs": [],
   "source": []
  },
  {
   "cell_type": "code",
   "execution_count": null,
   "metadata": {
    "collapsed": true
   },
   "outputs": [],
   "source": []
  },
  {
   "cell_type": "code",
   "execution_count": null,
   "metadata": {
    "collapsed": true
   },
   "outputs": [],
   "source": [
    "lr7.signal = {}\n",
    "lr7.onsets = {}\n",
    "lr7.offsets = {}\n",
    "for date in dates:\n",
    "    lr7.signal[date] = {}\n",
    "    lr7.onsets[date] = {}\n",
    "    lr7.offsets[date] = {}\n",
    "    for run in runs:\n",
    "        lr7.signal[date][run] = {}\n",
    "        lr7.onsets[date][run] = {}\n",
    "        lr7.offsets[date][run] = {}\n",
    "        cols = lr7.nidaq[date][run].columns[0:6]\n",
    "        for col in cols:\n",
    "            lr7.signal[date][run]['timestamps'] = lr7.nidaq[date][run]['timestamps']\n",
    "            lr7.onsets[date][run][col] = lr7.nidaq[date][run]['timestamps'][lr7.nidaq[date][run][col].diff() > 2.0]\n",
    "            lr7.offsets[date][run][col] = lr7.nidaq[date][run]['timestamps'][lr7.nidaq[date][run][col].diff() < -2.0]\n",
    "            \n",
    "            if col == 'visual_stimulus':\n",
    "                visuals = len(lr7.onsets[date][run]['visual_stimulus'])\n",
    "                trials = lr7.bhv[date][run]['trialnum'].iloc[-1]\n",
    "                if visuals > trials:\n",
    "                    indOn = lr7.onsets[date][run]['visual_stimulus'].index[0]\n",
    "                    indOff = lr7.offsets[date][run]['visual_stimulus'].index[0]\n",
    "                    lr7.onsets[date][run]['visual_stimulus'].drop(indOn, inplace=True)\n",
    "                    lr7.offsets[date][run]['visual_stimulus'].drop(indOff, inplace=True)\n",
    "        \n",
    "        if len(lr7.onsets[date][run][col]) != len(lr7.offsets[date][run][col]):\n",
    "            print(lr7.mouse+' '+date+' '+str(run)+' '+col+' numbers are not equal')\n",
    "            "
   ]
  },
  {
   "cell_type": "code",
   "execution_count": null,
   "metadata": {
    "collapsed": true,
    "scrolled": true
   },
   "outputs": [],
   "source": [
    "pd.DataFrame({'onsets':lr7.onsets['180719'][2]['visual_stimulus'].values, 'offsets':lr7.offsets['180719'][2]['visual_stimulus'].values})\n"
   ]
  },
  {
   "cell_type": "code",
   "execution_count": null,
   "metadata": {
    "collapsed": true,
    "scrolled": true
   },
   "outputs": [],
   "source": [
    "lr7.signal[date][run]"
   ]
  },
  {
   "cell_type": "code",
   "execution_count": null,
   "metadata": {
    "collapsed": true,
    "scrolled": false
   },
   "outputs": [],
   "source": []
  },
  {
   "cell_type": "code",
   "execution_count": null,
   "metadata": {
    "collapsed": true
   },
   "outputs": [],
   "source": [
    "vis_data = lr7.nidaq['180719'][1]['visual_stimulus'].values\n",
    "ensure_data = lr7.nidaq['180719'][1]['ensure'].values\n",
    "plt.figure(figsize=(20,2))\n",
    "plt.plot(ensure_data, 'r', alpha=0.55)\n",
    "plt.plot(vis_data, 'b', alpha=0.55)\n",
    "plt.xlim([0, len(vis_data)*0.03])"
   ]
  },
  {
   "cell_type": "code",
   "execution_count": null,
   "metadata": {
    "collapsed": true
   },
   "outputs": [],
   "source": []
  },
  {
   "cell_type": "code",
   "execution_count": null,
   "metadata": {
    "collapsed": true
   },
   "outputs": [],
   "source": []
  },
  {
   "cell_type": "code",
   "execution_count": null,
   "metadata": {
    "collapsed": true
   },
   "outputs": [],
   "source": []
  },
  {
   "cell_type": "code",
   "execution_count": null,
   "metadata": {
    "collapsed": true
   },
   "outputs": [],
   "source": []
  },
  {
   "cell_type": "code",
   "execution_count": null,
   "metadata": {
    "collapsed": true
   },
   "outputs": [],
   "source": []
  },
  {
   "cell_type": "code",
   "execution_count": null,
   "metadata": {
    "collapsed": true
   },
   "outputs": [],
   "source": []
  },
  {
   "cell_type": "code",
   "execution_count": null,
   "metadata": {
    "collapsed": true
   },
   "outputs": [],
   "source": []
  },
  {
   "cell_type": "code",
   "execution_count": null,
   "metadata": {
    "collapsed": true
   },
   "outputs": [],
   "source": [
    "lr8.signal = {}\n",
    "lr8.onsets = {}\n",
    "lr8.offsets = {}\n",
    "for date in dates:\n",
    "    lr8.signal[date] = {}\n",
    "    lr8.onsets[date] = {}\n",
    "    lr8.offsets[date] = {}\n",
    "    for run in runs:\n",
    "        lr8.signal[date][run] = {}\n",
    "        lr8.onsets[date][run] = {}\n",
    "        lr8.offsets[date][run] = {}\n",
    "        cols = lr8.nidaq[date][run].columns[0:6]\n",
    "        for col in cols:\n",
    "            timestamps = lr8.nidaq[date][run]['timestamps']\n",
    "            lr8.signal[date][run]['timestamps'] = timestamps\n",
    "            lr8.onsets[date][run][col] = timestamps[lr8.nidaq[date][run][col].diff() > 2.0]\n",
    "            lr8.offsets[date][run][col] = timestamps[lr8.nidaq[date][run][col].diff() < -2.0]\n",
    "            \n",
    "        visuals = len(lr8.onsets[date][run]['visual_stimulus'])\n",
    "        trials = lr8.bhv[date][run]['trialnum'].iloc[-1]\n",
    "        if visuals != trials:\n",
    "            print(lr8.mouse+' '+date+' '+str(run)+' '+' trial numbers are not matching: '+str(trials)+' trials but '+str(visuals)+' visual stimuli.')\n",
    "        if len(lr8.onsets[date][run][col]) != len(lr8.offsets[date][run][col]):\n",
    "            print(lr8.mouse+' '+date+' '+str(run)+' '+col+' numbers are not equal')\n",
    "            "
   ]
  },
  {
   "cell_type": "code",
   "execution_count": null,
   "metadata": {
    "collapsed": true
   },
   "outputs": [],
   "source": [
    "lr7.onsets[date][run]"
   ]
  },
  {
   "cell_type": "code",
   "execution_count": null,
   "metadata": {
    "collapsed": true
   },
   "outputs": [],
   "source": [
    "t = lr7.onsets[date][run]['timestamps']\n",
    "visStim = lr7.onsets[date][run]['visual_stimulus']\n",
    "ensure = lr7.onsets[date][run]['ensure']\n",
    "lick = lr7.onsets[date][run]['licking']\n",
    "\n",
    "plt.figure(figsize=(16,4))\n",
    "plt.plot(visStim, np.ones(len(visStim),dtype=int)*1, 'k-')\n",
    "plt.plot(ensure, np.ones(len(ensure),dtype=int)*2, 'r-')\n",
    "plt.plot(lick, np.ones(len(lick),dtype=int)*3, 'g|')\n"
   ]
  },
  {
   "cell_type": "code",
   "execution_count": null,
   "metadata": {
    "collapsed": true
   },
   "outputs": [],
   "source": [
    "ITI = 6.0\n",
    "stim_duration = 2.0\n",
    "for date in dates:\n",
    "    for run in runs:\n",
    "        cols = lr7.nidaq[date][run].columns\n",
    "        for col in cols:\n",
    "            lr7.bhv[date][run]\n",
    "            for trial in lr7.bhv[date][run]['trialnum']:\n",
    "#                 lr7.signal[date][run]['timestamps']\n",
    "#                 lr7.onsets[date][run][col]\n",
    "#                 lr7.offsets[date][run][col]\n",
    "                lr7.onsets[date][run]['visual_stimulus']"
   ]
  },
  {
   "cell_type": "code",
   "execution_count": null,
   "metadata": {
    "collapsed": true
   },
   "outputs": [],
   "source": []
  },
  {
   "cell_type": "code",
   "execution_count": null,
   "metadata": {
    "collapsed": true
   },
   "outputs": [],
   "source": []
  },
  {
   "cell_type": "code",
   "execution_count": null,
   "metadata": {
    "collapsed": true
   },
   "outputs": [],
   "source": []
  },
  {
   "cell_type": "code",
   "execution_count": null,
   "metadata": {
    "collapsed": true
   },
   "outputs": [],
   "source": []
  },
  {
   "cell_type": "code",
   "execution_count": null,
   "metadata": {
    "collapsed": true
   },
   "outputs": [],
   "source": []
  },
  {
   "cell_type": "code",
   "execution_count": null,
   "metadata": {
    "collapsed": true
   },
   "outputs": [],
   "source": []
  }
 ],
 "metadata": {
  "kernelspec": {
   "display_name": "Python 2",
   "language": "python",
   "name": "python2"
  },
  "language_info": {
   "codemirror_mode": {
    "name": "ipython",
    "version": 2
   },
   "file_extension": ".py",
   "mimetype": "text/x-python",
   "name": "python",
   "nbconvert_exporter": "python",
   "pygments_lexer": "ipython2",
   "version": "2.7.14"
  }
 },
 "nbformat": 4,
 "nbformat_minor": 2
}
