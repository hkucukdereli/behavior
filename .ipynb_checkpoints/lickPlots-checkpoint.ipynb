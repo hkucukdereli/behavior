{
 "cells": [
  {
   "cell_type": "code",
   "execution_count": 1,
   "metadata": {
    "collapsed": true
   },
   "outputs": [],
   "source": [
    "from behavior.behavior import behavior\n",
    "from behavior.plotScale import plotScale\n",
    "import numpy as np\n",
    "import pandas as pd\n",
    "import matplotlib.pyplot as plt\n",
    "%matplotlib inline\n"
   ]
  },
  {
   "cell_type": "code",
   "execution_count": 4,
   "metadata": {
    "collapsed": true
   },
   "outputs": [],
   "source": [
    "SalSal = ['180710', '180719','180724']\n",
    "SalCNO = ['180711', '180713', '180720']\n",
    "CNOSal = ['180712', '180717', '180725']\n",
    "\n",
    "mouse = 'LR7'\n",
    "dates = SalSal + SalCNO + CNOSal\n",
    "runs = [1, 2, 3]"
   ]
  },
  {
   "cell_type": "code",
   "execution_count": 5,
   "metadata": {},
   "outputs": [
    {
     "name": "stdout",
     "output_type": "stream",
     "text": [
      "Base directory is set to /Volumes/User Folders/Trent/MixedValenceBehavior\n",
      "\n"
     ]
    }
   ],
   "source": [
    "mus = behavior(mouse, dates, runs)\n",
    "mus.setDir('/Volumes/User Folders/Trent/MixedValenceBehavior')\n",
    "#mus.setDir('/Users/Amelia/Documents/hakan')\n",
    "#mus.setDir('C:/Users/hkucukde/Documents/data')"
   ]
  },
  {
   "cell_type": "code",
   "execution_count": null,
   "metadata": {
    "scrolled": false
   },
   "outputs": [],
   "source": [
    "mus.loadData('all')"
   ]
  },
  {
   "cell_type": "code",
   "execution_count": 6,
   "metadata": {},
   "outputs": [],
   "source": [
    "import pickle\n",
    "\n",
    "openPickle = True\n",
    "savePickle = False\n",
    "\n",
    "if savePickle:\n",
    "    print('Saving locally...')\n",
    "    with open('/Users/Amelia/Documents/hakan/data/CNO_trials/' + mus.mouse + '.obj', 'wb') as handle:\n",
    "        pickle.dump(mus.nidaq, handle, protocol=pickle.HIGHEST_PROTOCOL)\n",
    "    print('Saved.')\n",
    "\n",
    "if openPickle:\n",
    "    with open('/Users/Amelia/Documents/hakan/data/CNO_trials/' + mus.mouse + '.obj', 'rb') as handle:\n",
    "        mus,data = pickle.load(handle)\n"
   ]
  },
  {
   "cell_type": "code",
   "execution_count": 7,
   "metadata": {
    "collapsed": true
   },
   "outputs": [],
   "source": [
    "mus.data = read_data"
   ]
  },
  {
   "cell_type": "code",
   "execution_count": null,
   "metadata": {
    "collapsed": true
   },
   "outputs": [],
   "source": [
    "mus.loadTrials(save= False)\n",
    "mus.loadNidaq(clean=True, save= False)\n",
    "mus.loadRunning(save= False)\n"
   ]
  },
  {
   "cell_type": "code",
   "execution_count": null,
   "metadata": {},
   "outputs": [],
   "source": []
  },
  {
   "cell_type": "code",
   "execution_count": null,
   "metadata": {},
   "outputs": [],
   "source": []
  },
  {
   "cell_type": "code",
   "execution_count": null,
   "metadata": {
    "collapsed": true
   },
   "outputs": [],
   "source": []
  },
  {
   "cell_type": "code",
   "execution_count": null,
   "metadata": {
    "collapsed": true
   },
   "outputs": [],
   "source": [
    "dates = ['180728', '180729', '180730', '180731']\n",
    "dates = ['180801', '180802']\n",
    "runs = [1, 2]\n",
    "mouse = 'ALOA32'\n",
    "\n",
    "LR8 = behavior(mouse, dates, runs)\n",
    "LR8.setDir('/Volumes/2p_data/scan')\n",
    "\n",
    "LR8.loadData('bhv', verbose= False)\n",
    "\n",
    "LR8.loadTrials()\n",
    "\n",
    "for date in dates:\n",
    "    for run in runs:\n",
    "        print mouse, date, run\n",
    "        for i in [1,2,3,4]:\n",
    "            performance = LR8.getPerformance(date, run).loc[i]\n",
    "            print performance['conditions'], ':', performance['hit'], ' / ', performance['miss'], '\\n'"
   ]
  },
  {
   "cell_type": "code",
   "execution_count": null,
   "metadata": {},
   "outputs": [],
   "source": []
  },
  {
   "cell_type": "code",
   "execution_count": null,
   "metadata": {},
   "outputs": [],
   "source": [
    "'mouse', 'date', 'run', 'trial', 'condition', 'hit', 'miss'"
   ]
  },
  {
   "cell_type": "code",
   "execution_count": null,
   "metadata": {},
   "outputs": [],
   "source": [
    "mus = LR8\n",
    "\n",
    "Performance = pd.DataFrame([])\n",
    "\n",
    "count = 0\n",
    "for date in dates:\n",
    "    for run in runs:\n",
    "        for i in [1,2,3,4]:\n",
    "            perf = LR8.getPerformance(date, run).loc[i]\n",
    "            dictTemp = {'mouse':mus.mouse, 'date':date, 'run':run, 'condition':perf['conditions'], 'hit':perf['hit'], 'miss':perf['miss']}\n",
    "            performance = pd.DataFrame(dictTemp, index=[count])\n",
    "            Performance = pd.concat([Performance, performance])\n",
    "            count = count + 1"
   ]
  },
  {
   "cell_type": "code",
   "execution_count": null,
   "metadata": {
    "scrolled": true
   },
   "outputs": [],
   "source": [
    "codes=LR8.codes[dates[0]][1]\n",
    "\n",
    "Performance[Performance['condition'] == codes[1]]\n",
    "\n",
    "#pd.melt(Performance[Performance['condition'] == 'CSmix_cond_2s_end'], ['hit', 'miss'])\n"
   ]
  },
  {
   "cell_type": "code",
   "execution_count": null,
   "metadata": {},
   "outputs": [],
   "source": []
  },
  {
   "cell_type": "code",
   "execution_count": null,
   "metadata": {
    "scrolled": true
   },
   "outputs": [],
   "source": []
  },
  {
   "cell_type": "code",
   "execution_count": null,
   "metadata": {},
   "outputs": [],
   "source": []
  },
  {
   "cell_type": "code",
   "execution_count": null,
   "metadata": {},
   "outputs": [],
   "source": []
  },
  {
   "cell_type": "code",
   "execution_count": null,
   "metadata": {
    "collapsed": true
   },
   "outputs": [],
   "source": [
    "# Initialize the figure\n",
    "f, ax = plt.subplots()\n",
    "sns.despine(bottom=True, left=True)\n",
    "\n",
    "# Show each observation with a scatterplot\n",
    "sns.stripplot(x=\"value\", y=\"run\", hue=\"None\",\n",
    "              data=df, dodge=True, jitter=True,\n",
    "              alpha=.25, zorder=1)\n"
   ]
  },
  {
   "cell_type": "code",
   "execution_count": null,
   "metadata": {
    "collapsed": true
   },
   "outputs": [],
   "source": []
  },
  {
   "cell_type": "code",
   "execution_count": null,
   "metadata": {
    "collapsed": true
   },
   "outputs": [],
   "source": []
  },
  {
   "cell_type": "code",
   "execution_count": null,
   "metadata": {
    "collapsed": true
   },
   "outputs": [],
   "source": []
  }
 ],
 "metadata": {
  "kernelspec": {
   "display_name": "Python 2",
   "language": "python",
   "name": "python2"
  },
  "language_info": {
   "codemirror_mode": {
    "name": "ipython",
    "version": 2
   },
   "file_extension": ".py",
   "mimetype": "text/x-python",
   "name": "python",
   "nbconvert_exporter": "python",
   "pygments_lexer": "ipython2",
   "version": "2.7.14"
  }
 },
 "nbformat": 4,
 "nbformat_minor": 2
}
