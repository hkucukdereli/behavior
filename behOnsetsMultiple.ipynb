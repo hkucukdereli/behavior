{
 "cells": [
  {
   "cell_type": "code",
   "execution_count": 1,
   "metadata": {
    "collapsed": true
   },
   "outputs": [],
   "source": [
    "from behavior.behIO import behIO\n",
    "from behavior.plotScale import plotScale\n",
    "import numpy as np\n",
    "import pandas as pd\n",
    "import matplotlib.pyplot as plt\n",
    "import seaborn as sns\n",
    "from matplotlib.patches import Rectangle\n",
    "#%matplotlib inline"
   ]
  },
  {
   "cell_type": "code",
   "execution_count": null,
   "metadata": {
    "collapsed": true
   },
   "outputs": [],
   "source": []
  },
  {
   "cell_type": "code",
   "execution_count": 2,
   "metadata": {
    "collapsed": true
   },
   "outputs": [],
   "source": [
    "colors = ['Green', 'Blue', 'Red', 'Grey']\n",
    "\n",
    "stylish = {'axes.axisbelow': False,\n",
    " 'axes.edgecolor': '1',\n",
    " 'axes.facecolor': 'white',\n",
    " 'axes.grid': False,\n",
    " 'axes.labelcolor': '.15',\n",
    " 'axes.spines.bottom': False,\n",
    " 'axes.spines.left': False,\n",
    " 'axes.spines.right': False,\n",
    " 'axes.spines.top': False,\n",
    " 'figure.facecolor': 'white',\n",
    " 'font.family': ['sans-serif'],\n",
    " 'font.sans-serif': ['Arial',\n",
    "  'DejaVu Sans',\n",
    "  'Liberation Sans',\n",
    "  'Bitstream Vera Sans',\n",
    "  'sans-serif'],\n",
    " 'font.size': 14,\n",
    " 'grid.color': '.8',\n",
    " 'grid.linestyle': '-',\n",
    " 'image.cmap': 'rocket',\n",
    " 'lines.solid_capstyle': 'round',\n",
    " 'patch.edgecolor': 'w',\n",
    " 'patch.force_edgecolor': True,\n",
    " 'text.color': '.15',\n",
    " 'xtick.bottom': False,\n",
    " 'xtick.color': '.15',\n",
    " 'xtick.direction': 'out',\n",
    " 'xtick.top': False,\n",
    " 'ytick.color': '.15',\n",
    " 'ytick.direction': 'out',\n",
    " 'ytick.left': False,\n",
    " 'ytick.right': False}"
   ]
  },
  {
   "cell_type": "code",
   "execution_count": 3,
   "metadata": {
    "collapsed": true
   },
   "outputs": [],
   "source": [
    "mouse = 'LR8'\n",
    "#dates = ['180713', '180719']\n",
    "dates = ['180731']\n",
    "runs = [1, 2, 3]"
   ]
  },
  {
   "cell_type": "code",
   "execution_count": 4,
   "metadata": {
    "scrolled": false
   },
   "outputs": [
    {
     "name": "stdout",
     "output_type": "stream",
     "text": [
      "Base directory is set to /Volumes/User Folders/Trent/MixedValenceBehavior\n",
      "All runs will be loaded.\n",
      "Finished loading ML data.\n",
      "\n",
      "All runs will be loaded.\n",
      "Finished loading run(s).\n",
      "\n"
     ]
    },
    {
     "name": "stderr",
     "output_type": "stream",
     "text": [
      "/Users/Amelia/anaconda2/lib/python2.7/site-packages/pandas/core/indexing.py:179: SettingWithCopyWarning: \n",
      "A value is trying to be set on a copy of a slice from a DataFrame\n",
      "\n",
      "See the caveats in the documentation: http://pandas.pydata.org/pandas-docs/stable/indexing.html#indexing-view-versus-copy\n",
      "  self._setitem_with_indexer(indexer, value)\n",
      "/Users/Amelia/anaconda2/lib/python2.7/site-packages/ipykernel_launcher.py:22: DeprecationWarning: object of type <type 'float'> cannot be safely interpreted as an integer.\n"
     ]
    },
    {
     "ename": "IndexError",
     "evalue": "index 117 is out of bounds for axis 0 with size 117",
     "output_type": "error",
     "traceback": [
      "\u001b[0;31m---------------------------------------------------------------------------\u001b[0m",
      "\u001b[0;31mIndexError\u001b[0m                                Traceback (most recent call last)",
      "\u001b[0;32m<ipython-input-4-af294e86ca0f>\u001b[0m in \u001b[0;36m<module>\u001b[0;34m()\u001b[0m\n\u001b[1;32m     33\u001b[0m \u001b[0;34m\u001b[0m\u001b[0m\n\u001b[1;32m     34\u001b[0m         \u001b[0;32mfor\u001b[0m \u001b[0mi\u001b[0m \u001b[0;32min\u001b[0m \u001b[0mrange\u001b[0m\u001b[0;34m(\u001b[0m\u001b[0;36m0\u001b[0m\u001b[0;34m,\u001b[0m \u001b[0mlen\u001b[0m\u001b[0;34m(\u001b[0m\u001b[0mmus\u001b[0m\u001b[0;34m.\u001b[0m\u001b[0mbhv\u001b[0m\u001b[0;34m[\u001b[0m\u001b[0;34m'trialnum'\u001b[0m\u001b[0;34m]\u001b[0m\u001b[0;34m)\u001b[0m\u001b[0;34m)\u001b[0m\u001b[0;34m:\u001b[0m\u001b[0;34m\u001b[0m\u001b[0m\n\u001b[0;32m---> 35\u001b[0;31m             \u001b[0mbegin\u001b[0m \u001b[0;34m=\u001b[0m \u001b[0mbins\u001b[0m\u001b[0;34m[\u001b[0m\u001b[0mi\u001b[0m\u001b[0;34m,\u001b[0m\u001b[0;34m:\u001b[0m\u001b[0;34m]\u001b[0m\u001b[0;34m[\u001b[0m\u001b[0;36m0\u001b[0m\u001b[0;34m]\u001b[0m\u001b[0;34m\u001b[0m\u001b[0m\n\u001b[0m\u001b[1;32m     36\u001b[0m             \u001b[0mend\u001b[0m \u001b[0;34m=\u001b[0m \u001b[0mbins\u001b[0m\u001b[0;34m[\u001b[0m\u001b[0mi\u001b[0m\u001b[0;34m,\u001b[0m\u001b[0;34m:\u001b[0m\u001b[0;34m]\u001b[0m\u001b[0;34m[\u001b[0m\u001b[0;36m1\u001b[0m\u001b[0;34m]\u001b[0m\u001b[0;34m\u001b[0m\u001b[0m\n\u001b[1;32m     37\u001b[0m \u001b[0;34m\u001b[0m\u001b[0m\n",
      "\u001b[0;31mIndexError\u001b[0m: index 117 is out of bounds for axis 0 with size 117"
     ]
    }
   ],
   "source": [
    "for date in dates:\n",
    "    # Set up an experiment\n",
    "    mus = behIO('LR8', date, runs)\n",
    "    mus.setDir('/Volumes/User Folders/Trent/MixedValenceBehavior')\n",
    "    #mus.setDir('/Users/Amelia/Documents/hakan/behavior')\n",
    "\n",
    "    # Load ML and NIDAQ data\n",
    "    mus.loadBHV()\n",
    "    mus.loadRuns('nidaq')\n",
    "\n",
    "    for run in mus.runs:\n",
    "        # Get trial info, onsets and offsets for each event\n",
    "        mus.setRun(run= run) # Set the target run\n",
    "        mus.getTrials()\n",
    "        mus.getNidaq(clean= True)\n",
    "        mus.findOnsets()\n",
    "        mus.getOnsets()\n",
    "        Fs = mus.getFs()\n",
    "\n",
    "        preITI = 2.0 #sec\n",
    "        postITI = 6.0 #sec\n",
    "        time = np.linspace(-preITI, postITI, (postITI+preITI) * mus.nidaq.Fs)\n",
    "\n",
    "        # Find the visual stim onsets and so we will organize the data around the vis stim onsets\n",
    "        # Trial bins\n",
    "        mus.onsetMatrix['trialnum'] = pd.Series(np.zeros(len(mus.onsetMatrix['timestamps']), dtype= int), dtype= int)\n",
    "        mus.onsetMatrix['time'] = pd.Series(np.zeros(len(mus.onsetMatrix['timestamps']), dtype= int), dtype= int)\n",
    "        mus.onsetMatrix['condition'] = pd.Series(np.zeros(len(mus.onsetMatrix['timestamps']), dtype= int), dtype= int)\n",
    "        mus.onsetMatrix['trialerrors'] = pd.Series(np.zeros(len(mus.onsetMatrix['timestamps']), dtype= int), dtype= int)\n",
    "\n",
    "        visOnsets = mus.pulseOnsets['visual_stimulus']['onsetInd'].values\n",
    "        bins = np.reshape(np.concatenate([visOnsets - preITI*Fs, visOnsets + postITI*Fs]), (2, visOnsets.size)).transpose().astype(int)\n",
    "\n",
    "        for i in range(0, len(mus.bhv['trialnum'])):\n",
    "            begin = bins[i,:][0]\n",
    "            end = bins[i,:][1]\n",
    "\n",
    "            # add the trial number\n",
    "            mus.onsetMatrix['trialnum'].iloc[begin : end] = mus.bhv['trialnum'].loc[i]\n",
    "\n",
    "            # add the offset time\n",
    "            mus.onsetMatrix['time'].iloc[begin : end] = time\n",
    "\n",
    "            # add the conditions\n",
    "            mus.onsetMatrix['condition'].iloc[begin : end] = mus.bhv['conditions'].loc[i]\n",
    "\n",
    "            # add the trial errors\n",
    "            mus.onsetMatrix['trialerrors'].iloc[begin : end] = mus.bhv['trialerrors'].loc[i]\n",
    "\n",
    "        onsets = mus.onsetMatrix[mus.onsetMatrix['trialnum'] > 0].reset_index(drop= True)\n",
    "\n",
    "        # Do the same to offsets\n",
    "        # Trial bins\n",
    "        mus.offsetMatrix['trialnum'] = pd.Series(np.zeros(len(mus.offsetMatrix['timestamps']), dtype= int), dtype= int)\n",
    "        mus.offsetMatrix['time'] = pd.Series(np.zeros(len(mus.offsetMatrix['timestamps']), dtype= int), dtype= int)\n",
    "        mus.offsetMatrix['condition'] = pd.Series(np.zeros(len(mus.offsetMatrix['timestamps']), dtype= int), dtype= int)\n",
    "        mus.offsetMatrix['trialerrors'] = pd.Series(np.zeros(len(mus.offsetMatrix['timestamps']), dtype= int), dtype= int)\n",
    "\n",
    "        visOnsets = mus.pulseOnsets['visual_stimulus']['onsetInd'].values\n",
    "        bins = np.reshape(np.concatenate([visOnsets - preITI*Fs, visOnsets + postITI*Fs]), (2, visOnsets.size)).transpose().astype(int)\n",
    "\n",
    "        for i in range(0, len(mus.bhv['trialnum'])):\n",
    "            begin = bins[i,:][0]\n",
    "            end = bins[i,:][1]\n",
    "\n",
    "            # add the trial number\n",
    "            mus.offsetMatrix['trialnum'].iloc[begin : end] = mus.bhv['trialnum'].loc[i]\n",
    "\n",
    "            # add the offset time\n",
    "            mus.offsetMatrix['time'].iloc[begin : end] = time\n",
    "\n",
    "            # add the conditions\n",
    "            mus.offsetMatrix['condition'].iloc[begin : end] = mus.bhv['conditions'].loc[i]\n",
    "\n",
    "            # add the conditions\n",
    "            mus.offsetMatrix['trialerrors'].iloc[begin : end] = mus.bhv['trialerrors'].loc[i]\n",
    "\n",
    "        offsets = mus.offsetMatrix[mus.offsetMatrix['trialnum'] > 0].reset_index(drop= True)\n",
    "\n",
    "        firstShock = False\n",
    "        firstLicks = True\n",
    "        conditions = set(onsets.condition)\n",
    "\n",
    "        # First organize and sort the data according to trial condition and trial error\n",
    "        #events = onsets.pivot_table(index= ['condition', 'trialnum'], columns= 'time')\n",
    "        events = onsets.pivot_table(index= ['condition', 'trialnum', 'trialerrors'], columns= 'time').sort_index(level= [0, 2])\n",
    "        licks = np.array(events['licking'].values * time)\n",
    "        shocks = np.array(events['shock'].values * time)\n",
    "        ensure = np.array(events['ensure'].values * time)\n",
    "\n",
    "        #eventsOff = offsets.pivot_table(index= ['condition', 'trialnum'], columns= 'time')\n",
    "        eventsOff = offsets.pivot_table(index= ['condition', 'trialnum'], columns= 'time')\n",
    "        shocksOff = np.array(eventsOff['shock'].values * time)\n",
    "        ensureOff = np.array(eventsOff['ensure'].values * time)\n",
    "\n",
    "        sns.set_style(stylish)\n",
    "        fig, ax = plt.subplots(figsize= (7.5, 10))\n",
    "\n",
    "        for i in range(0, licks.shape[0]):\n",
    "            # Plot reward\n",
    "            if len(ensure[i,:][ensure[i,:] > 0]) > 0:\n",
    "                #ensureLine = ax.vlines(ensure[i,:][ensure[i,:] != 0][0], i-0.35, i+0.35, linewidth= 1, color='g', alpha= 0.3, label= 'Ensure')\n",
    "                #ensureLine = ax.hlines(i, ensure[i,:][ensure[i,:] != 0][0], ensureOff[i,:][ensureOff[i,:] != 0][0], linewidth= 5, color='g', alpha= 0.3, label= 'Ensure')\n",
    "                if ~len(ensureOff[i,:][ensureOff[i,:] != 0]):\n",
    "                    ensureLine = ax.hlines(i, ensure[i,:][ensure[i,:] != 0][0], ensure[i,:][ensure[i,:] != 0][0]+0.5, linewidth= 5, color='g', alpha= 0.3, label= 'Ensure')\n",
    "                else:\n",
    "                    ensureLine = ax.hlines(i, ensure[i,:][ensure[i,:] != 0][0], ensureOff[i,:][ensureOff[i,:] != 0][0], linewidth= 5, color='g', alpha= 0.3, label= 'Ensure')\n",
    "            # Plot shocks\n",
    "            if firstShock:\n",
    "                shockLines = ax.vlines(shocks[i,:][shocks[i,:] != 0][0], i-0.35, i+0.35, linewidth= 1, color='r', alpha= 0.3, label= 'Shock')\n",
    "            else:\n",
    "                if len(shocks[i,:][shocks[i,:] != 0]) > 0:\n",
    "                    #shockLines = ax.vlines(shocks[i,:][shocks[i,:] != 0], i-0.35, i+0.35, linewidth= 1, color='r', alpha= 0.4)\n",
    "                    shockLines = ax.hlines(i, shocks[i,:][shocks[i,:] != 0][0], shocks[i,:][shocks[i,:] != 0][-1], linewidth= 5, color='r', alpha= 0.3, label= 'Shock')\n",
    "            # Plot licks\n",
    "            lickLines = ax.vlines(licks[i,:][licks[i,:] != 0], i-0.35, i+0.35, linewidth= 1, color='k', label= 'Lick')\n",
    "            # Mark the first lick\n",
    "            if firstLicks:\n",
    "                firstLick = licks[i,:][licks[i,:] != 0]\n",
    "                if len(firstLick[firstLick > 0]) > 0:\n",
    "                    firstLickLine = ax.vlines(firstLick[firstLick > 0][0], i-0.35, i+0.35, linewidth= 2, color='b', alpha= 0.5, label= 'First lick')\n",
    "\n",
    "        ax.invert_yaxis()\n",
    "        ax.set_xlim([-preITI - 2, postITI])\n",
    "        ax.set_yticks([])\n",
    "        ax.set_xticks(np.arange(-preITI, postITI + 0.1, 2))\n",
    "        ax.set_xlabel('time (sec)')\n",
    "\n",
    "\n",
    "        width = 0.2\n",
    "        count = 0\n",
    "        for con in conditions:\n",
    "            trials = events.loc[con].shape[0]\n",
    "\n",
    "            # A lot of effort to set the label\n",
    "            centerx = -preITI - width*4\n",
    "            centery = count + trials/2\n",
    "            if mus.bhv.codes[con].split(\"_\")[0] == 'CSmix':\n",
    "                ylabel = mus.bhv.codes[con].split(\"_\")[0]\n",
    "            elif mus.bhv.codes[con].split(\"_\")[0] == 'Blank':\n",
    "                ylabel = mus.bhv.codes[con].split(\"_\")[0]\n",
    "            else:\n",
    "                ylabel = mus.bhv.codes[con].split(\"_\")[1]\n",
    "            ax.text(centerx, centery, ylabel, rotation= 'vertical', va= 'center')\n",
    "\n",
    "            if count > 0:\n",
    "                ax.hlines(count-0.5, -preITI - width*2, postITI, linewidth= 0.25)\n",
    "\n",
    "            rect = Rectangle((-preITI - width*2, count), width, trials-1, linewidth= 0, facecolor= colors[con-1])\n",
    "            count = count + trials\n",
    "            ax.add_patch(rect)\n",
    "\n",
    "        cueBox = Rectangle((0, -1), 2, count+1, alpha= 0.2, facecolor= 'Grey' , label= 'Cue')\n",
    "        ax.add_patch(cueBox)\n",
    "\n",
    "        ax.set_title(mus.mouse + ', ' + mus.date + ', Run_' + str(mus.run))\n",
    "\n",
    "        handles, labels = ax.get_legend_handles_labels()\n",
    "        legend = ax.legend(handles=[lickLines, firstLickLine, ensureLine, shockLines, cueBox], frameon=False, bbox_to_anchor=(1.05, 1), loc=2, borderaxespad=0.)\n",
    "\n",
    "        plt.tight_layout()\n",
    "\n",
    "        # Save the figure\n",
    "        fig.savefig(mus.savePath('licks', 'pdf'), bbox_extra_artists=(legend,), bbox_inches='tight')\n",
    "        print(mus.mouse, mus.date, str(mus.run), 'Figure saved.')\n"
   ]
  },
  {
   "cell_type": "code",
   "execution_count": null,
   "metadata": {
    "collapsed": true
   },
   "outputs": [],
   "source": []
  },
  {
   "cell_type": "code",
   "execution_count": null,
   "metadata": {
    "collapsed": true
   },
   "outputs": [],
   "source": []
  },
  {
   "cell_type": "code",
   "execution_count": null,
   "metadata": {
    "collapsed": true
   },
   "outputs": [],
   "source": []
  },
  {
   "cell_type": "code",
   "execution_count": null,
   "metadata": {
    "collapsed": true
   },
   "outputs": [],
   "source": []
  },
  {
   "cell_type": "code",
   "execution_count": null,
   "metadata": {
    "collapsed": true
   },
   "outputs": [],
   "source": []
  },
  {
   "cell_type": "code",
   "execution_count": null,
   "metadata": {
    "collapsed": true
   },
   "outputs": [],
   "source": [
    "LR8 = behIO('LR8', '180717', [1,2,3])\n",
    "#LR8.setDir('/Volumes/User Folders/Trent/MixedValenceBehavior')\n",
    "LR8.setDir('/Users/Amelia/Documents/hakan/behavior')\n",
    "\n",
    "# Load ML and NIDAQ data\n",
    "LR8.loadBHV()\n",
    "LR8.loadRuns('nidaq')\n"
   ]
  },
  {
   "cell_type": "code",
   "execution_count": null,
   "metadata": {
    "collapsed": true
   },
   "outputs": [],
   "source": [
    "# Set up an experiment\n",
    "dates = ['180720', '180719', '180717']\n",
    "runs = [1,2,3]\n",
    "\n",
    "# Set the trial basics\n",
    "preITI = 4.0 #sec\n",
    "postITI = 8.0 #sec"
   ]
  },
  {
   "cell_type": "code",
   "execution_count": null,
   "metadata": {
    "collapsed": true
   },
   "outputs": [],
   "source": [
    "bigMatrix = {}\n",
    "for date in dates:\n",
    "    LR8 = behIO('LR8', date, runs)\n",
    "    #LR8.setDir('/Volumes/User Folders/Trent/MixedValenceBehavior')\n",
    "    LR8.setDir('/Users/Amelia/Documents/hakan/behavior')\n",
    "    \n",
    "    # Load ML and NIDAQ data\n",
    "    LR8.loadBHV()\n",
    "    LR8.loadRuns('nidaq')\n",
    "        \n",
    "    bigRun = {}\n",
    "    for run in runs:\n",
    "        # Get trial info, onsets and offsets for each event\n",
    "        LR8.setRun(run= run) # Set the target run\n",
    "        LR8.getTrials()\n",
    "        LR8.getNidaq()\n",
    "        LR8.findOnsets()\n",
    "        LR8.getOnsets()\n",
    "        Fs = LR8.getFs()\n",
    " \n",
    "        bigRun[run] = LR8.onsetMatrix\n",
    "    \n",
    "    bigMatrix[date] = bigRun"
   ]
  },
  {
   "cell_type": "code",
   "execution_count": null,
   "metadata": {
    "collapsed": true
   },
   "outputs": [],
   "source": []
  },
  {
   "cell_type": "code",
   "execution_count": null,
   "metadata": {
    "collapsed": true
   },
   "outputs": [],
   "source": []
  },
  {
   "cell_type": "code",
   "execution_count": null,
   "metadata": {
    "collapsed": true,
    "scrolled": true
   },
   "outputs": [],
   "source": []
  },
  {
   "cell_type": "code",
   "execution_count": null,
   "metadata": {
    "collapsed": true
   },
   "outputs": [],
   "source": []
  },
  {
   "cell_type": "code",
   "execution_count": null,
   "metadata": {
    "collapsed": true
   },
   "outputs": [],
   "source": []
  },
  {
   "cell_type": "code",
   "execution_count": null,
   "metadata": {
    "collapsed": true
   },
   "outputs": [],
   "source": []
  }
 ],
 "metadata": {
  "kernelspec": {
   "display_name": "Python 2",
   "language": "python",
   "name": "python2"
  },
  "language_info": {
   "codemirror_mode": {
    "name": "ipython",
    "version": 2
   },
   "file_extension": ".py",
   "mimetype": "text/x-python",
   "name": "python",
   "nbconvert_exporter": "python",
   "pygments_lexer": "ipython2",
   "version": "2.7.14"
  }
 },
 "nbformat": 4,
 "nbformat_minor": 2
}
