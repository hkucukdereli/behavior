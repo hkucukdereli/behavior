{
 "cells": [
  {
   "cell_type": "code",
   "execution_count": 2,
   "metadata": {
    "collapsed": true
   },
   "outputs": [],
   "source": [
    "from behavior.behavior import behavior\n",
    "from behavior.plotScale import plotScale\n",
    "import pickle\n",
    "import numpy as np\n",
    "import pandas as pd\n",
    "import seaborn as sns\n",
    "import matplotlib.pyplot as plt\n",
    "%matplotlib inline\n"
   ]
  },
  {
   "cell_type": "code",
   "execution_count": 3,
   "metadata": {
    "collapsed": true
   },
   "outputs": [],
   "source": [
    "def sumPerformance(mus, save=False):\n",
    "    codes = {1: 'Pavlovian_CSp_2s',\n",
    "             2: 'CSmix_cond_2s_end',\n",
    "             3: 'Pavlovian_CSm_shock',\n",
    "             4: 'Blank_2s',\n",
    "             5: 'Lick_reward',\n",
    "             6: 'Unconditional_reward'}\n",
    "    \n",
    "    if save:\n",
    "        Performance = pd.DataFrame([])\n",
    "\n",
    "        count = 0\n",
    "        for date in dates:\n",
    "            for run in runs:\n",
    "                for i in [1,2,3,4]:\n",
    "                    perf = mus.getPerformance(date, run).loc[i]\n",
    "                    dictTemp = {'mouse':mus.mouse, 'date':date, 'exp':date, 'run':run, 'condition':perf['conditions'], 'hit':perf['hit'], 'miss':perf['miss']}\n",
    "                    performance = pd.DataFrame(dictTemp, index=[count])\n",
    "                    Performance = pd.concat([Performance, performance])\n",
    "                    count = count + 1\n",
    "\n",
    "        for date in SalSal:\n",
    "            Performance['exp'].loc[Performance['date'] == date] = 'Saline-->Saline'\n",
    "        for date in SalCNO:\n",
    "            Performance['exp'].loc[Performance['date'] == date] = 'Saline-->CNO'\n",
    "        for date in CNOSal:\n",
    "            Performance['exp'].loc[Performance['date'] == date] = 'CNO-->Saline'\n",
    "            \n",
    "        with open('/Users/Amelia/Documents/hakan/data/Performance/' + mus.mouse + '-performance.obj', 'wb') as handle:\n",
    "            pickle.dump(Performance, handle, protocol=pickle.HIGHEST_PROTOCOL)\n",
    "        print('Pickled!')\n",
    "\n",
    "    if not save:\n",
    "        with open('/Users/Amelia/Documents/hakan/data/Performance/' + mus.mouse + '-performance.obj', 'rb') as handle:\n",
    "            Performance = pickle.load(handle)\n",
    "        print('Loaded performance file.')\n",
    "            \n",
    "    return Performance, codes\n",
    "\n",
    "def plotSummary(Performance, save=False): \n",
    "    mouse = Performance['mouse'][0]\n",
    "    # Initialize the figure\n",
    "    fig, ax = plt.subplots(1,4, figsize=(20,5))\n",
    "    figTitle = Performance['mouse'].values[0]\n",
    "    fig.suptitle(figTitle + ' Performance')\n",
    "\n",
    "    for c in [1,2,3,4]:\n",
    "        sns.stripplot(x='run' ,y='hit', hue='exp', data=Performance[Performance['condition'] == codes[c]], dodge=False, jitter=True, alpha=1., zorder=1, ax=ax[c-1])\n",
    "        sns.pointplot(x='run' ,y='hit', hue='exp', data=Performance[Performance['condition'] == codes[c]], dodge=False, join=True, markers=\"d\", alpha=0.25, scale=1., ci=None, ax=ax[c-1])\n",
    "        sns.despine(bottom=True, left=True)\n",
    "        ax[c-1].set_ylim([0., 1.2])\n",
    "        ax[c-1].set_title(codes[c])\n",
    "\n",
    "        handles, labels = ax[c-1].get_legend_handles_labels()\n",
    "        ax[c-1].legend(handles[3:], labels[3:], title=None,\n",
    "                  handletextpad=0, columnspacing=1,\n",
    "                  loc=\"lower right\", ncol=1, frameon=False)\n",
    "        \n",
    "    if save:\n",
    "        fig.savefig('/Users/Amelia/Documents/hakan/data/Performance/figures/' + mouse + '-performance.svg')\n",
    "        fig.savefig('/Users/Amelia/Documents/hakan/data/Performance/figures/' + mouse + '-performance.png')\n",
    "\n",
    "    return fig, ax"
   ]
  },
  {
   "cell_type": "code",
   "execution_count": null,
   "metadata": {},
   "outputs": [],
   "source": []
  },
  {
   "cell_type": "code",
   "execution_count": null,
   "metadata": {
    "collapsed": true
   },
   "outputs": [],
   "source": [
    "SalSal = ['180710', '180719','180724']\n",
    "SalCNO = ['180711', '180713', '180720']\n",
    "CNOSal = ['180712', '180717', '180725']\n",
    "\n",
    "mouse = 'LR7'\n",
    "dates = SalSal + SalCNO + CNOSal\n",
    "runs = [1, 2, 3]\n",
    "\n",
    "lr7 = behavior(mouse, dates, runs)\n",
    "lr7.setDir('/Volumes/User Folders/Trent/MixedValenceBehavior')\n",
    "\n",
    "lr7.loadData('all', save=True)\n"
   ]
  },
  {
   "cell_type": "code",
   "execution_count": null,
   "metadata": {
    "collapsed": true
   },
   "outputs": [],
   "source": [
    "SalSal = ['180710', '180719','180724']\n",
    "SalCNO = ['180711', '180713', '180720']\n",
    "CNOSal = ['180712', '180717', '180725']\n",
    "\n",
    "mouse = 'LR8'\n",
    "dates = SalSal + SalCNO + CNOSal\n",
    "runs = [1, 2, 3]\n",
    "\n",
    "lr8 = behavior(mouse, dates, runs)\n",
    "lr8.setDir('/Volumes/User Folders/Trent/MixedValenceBehavior')\n",
    "\n",
    "lr8.loadData('all', save=True)\n"
   ]
  },
  {
   "cell_type": "code",
   "execution_count": null,
   "metadata": {
    "collapsed": true
   },
   "outputs": [],
   "source": []
  },
  {
   "cell_type": "code",
   "execution_count": null,
   "metadata": {
    "collapsed": true
   },
   "outputs": [],
   "source": [
    "SalSal = ['180612', '180621']\n",
    "SalCNO = ['180613', '180615', '180620']\n",
    "CNOSal = ['180614', '180619', '180622']\n",
    "\n",
    "mouse = 'LR9'\n",
    "dates = SalSal + SalCNO + CNOSal\n",
    "runs = [1, 2, 3]\n",
    "\n",
    "lr9 = behavior(mouse, dates, runs)\n",
    "lr9.setDir('/Volumes/User Folders/Trent/MixedValenceBehavior')\n",
    "\n",
    "lr9.loadData('all', save=True)"
   ]
  },
  {
   "cell_type": "code",
   "execution_count": null,
   "metadata": {
    "collapsed": true
   },
   "outputs": [],
   "source": [
    "SalSal = ['180612', '180621']\n",
    "SalCNO = ['180613', '180615', '180620']\n",
    "CNOSal = ['180614', '180619', '180622']\n",
    "\n",
    "mouse = 'LR13'\n",
    "dates = SalSal + SalCNO + CNOSal\n",
    "runs = [1, 2, 3]\n",
    "\n",
    "lr13 = behavior(mouse, dates, runs)\n",
    "lr13.setDir('/Volumes/User Folders/Trent/MixedValenceBehavior')\n",
    "\n",
    "lr13.loadData('all', save=True)"
   ]
  },
  {
   "cell_type": "raw",
   "metadata": {},
   "source": []
  },
  {
   "cell_type": "code",
   "execution_count": null,
   "metadata": {
    "collapsed": true
   },
   "outputs": [],
   "source": []
  },
  {
   "cell_type": "code",
   "execution_count": null,
   "metadata": {
    "collapsed": true
   },
   "outputs": [],
   "source": [
    "##### PLOTS #####"
   ]
  },
  {
   "cell_type": "code",
   "execution_count": 5,
   "metadata": {},
   "outputs": [
    {
     "name": "stdout",
     "output_type": "stream",
     "text": [
      "Base directory is set to /Users/Amelia/Documents/hakan/behavior\n",
      "\n"
     ]
    }
   ],
   "source": [
    "SalSal = ['180710', '180719','180724']\n",
    "SalCNO = ['180711', '180713', '180720']\n",
    "CNOSal = ['180712', '180717', '180725']\n",
    "\n",
    "mouse = 'LR7'\n",
    "dates = SalSal + SalCNO + CNOSal\n",
    "runs = [1, 2, 3]\n",
    "\n",
    "lr7 = behavior(mouse, dates, runs)\n",
    "lr7.setDir('/Users/Amelia/Documents/hakan/behavior')\n",
    "\n",
    "with open('/Users/Amelia/Documents/hakan/data/CNO_trials/' + lr7.mouse + '.obj', 'rb') as handle:\n",
    "            lr7.data = pickle.load(handle)\n",
    "        \n",
    "lr7.loadTrials(save= False)\n",
    "lr7.loadNidaq(clean=True, save= False)\n",
    "lr7.loadRunning(save= False)\n",
    "\n",
    "# lr7_performance, codes = sumPerformance(lr7, save=False)"
   ]
  },
  {
   "cell_type": "code",
   "execution_count": null,
   "metadata": {
    "collapsed": true
   },
   "outputs": [],
   "source": [
    "with open('/Users/Amelia/Documents/hakan/data/CNO_trials/' + lr7.mouse + '_nidaq.obj', 'wb') as handle:\n",
    "    pickle.dump(lr7.nidaq, handle, protocol=pickle.HIGHEST_PROTOCOL)"
   ]
  },
  {
   "cell_type": "code",
   "execution_count": null,
   "metadata": {
    "collapsed": true
   },
   "outputs": [],
   "source": []
  },
  {
   "cell_type": "code",
   "execution_count": null,
   "metadata": {
    "collapsed": true
   },
   "outputs": [],
   "source": [
    "del lr7"
   ]
  },
  {
   "cell_type": "code",
   "execution_count": null,
   "metadata": {},
   "outputs": [],
   "source": [
    "SalSal = ['180710', '180719','180724']\n",
    "SalCNO = ['180711', '180713', '180720']\n",
    "CNOSal = ['180712', '180717', '180725']\n",
    "\n",
    "mouse = 'LR8'\n",
    "dates = SalSal + SalCNO + CNOSal\n",
    "runs = [1, 2, 3]\n",
    "\n",
    "lr8 = behavior(mouse, dates, runs)\n",
    "lr8.setDir('/Users/Amelia/Documents/hakan/behavior')\n",
    "\n",
    "with open('/Users/Amelia/Documents/hakan/data/CNO_trials/' + lr8.mouse + '.obj', 'rb') as handle:\n",
    "            lr8.data = pickle.load(handle)\n",
    "        \n",
    "lr8.loadTrials(save= True)\n",
    "lr8.loadNidaq(clean=True, save= True)\n",
    "lr8.loadRunning(save= True)\n",
    "\n",
    "# lr8_performance, codes = sumPerformance(lr8, save=False)"
   ]
  },
  {
   "cell_type": "code",
   "execution_count": null,
   "metadata": {
    "collapsed": true
   },
   "outputs": [],
   "source": [
    "del lr8"
   ]
  },
  {
   "cell_type": "code",
   "execution_count": null,
   "metadata": {},
   "outputs": [],
   "source": [
    "SalSal = ['180612', '180621']\n",
    "SalCNO = ['180613', '180615', '180620']\n",
    "CNOSal = ['180614', '180619', '180622']\n",
    "\n",
    "mouse = 'LR9'\n",
    "dates = SalSal + SalCNO + CNOSal\n",
    "runs = [1, 2, 3]\n",
    "\n",
    "lr9 = behavior(mouse, dates, runs)\n",
    "lr9.setDir('/Users/Amelia/Documents/hakan/behavior')\n",
    "\n",
    "with open('/Users/Amelia/Documents/hakan/data/CNO_trials/' + lr9.mouse + '.obj', 'rb') as handle:\n",
    "            lr9.data = pickle.load(handle)\n",
    "        \n",
    "lr9.loadTrials(save= True)\n",
    "lr9.loadNidaq(clean=True, save= True)\n",
    "lr9.loadRunning(save= True)\n",
    "\n",
    "# lr9_performance, codes = sumPerformance(lr9, save=False)"
   ]
  },
  {
   "cell_type": "code",
   "execution_count": null,
   "metadata": {
    "collapsed": true
   },
   "outputs": [],
   "source": [
    "del lr9"
   ]
  },
  {
   "cell_type": "code",
   "execution_count": null,
   "metadata": {},
   "outputs": [],
   "source": [
    "SalSal = ['180612', '180621']\n",
    "SalCNO = ['180613', '180615', '180620']\n",
    "CNOSal = ['180614', '180619', '180622']\n",
    "\n",
    "mouse = 'LR13'\n",
    "dates = SalSal + SalCNO + CNOSal\n",
    "runs = [1, 2, 3]\n",
    "\n",
    "lr13 = behavior(mouse, dates, runs)\n",
    "lr13.setDir('/Users/Amelia/Documents/hakan/behavior')\n",
    "\n",
    "with open('/Users/Amelia/Documents/hakan/data/CNO_trials/' + lr13.mouse + '.obj', 'rb') as handle:\n",
    "            lr13.data = pickle.load(handle)\n",
    "        \n",
    "lr13.loadTrials(save= True)\n",
    "lr13.loadNidaq(clean=True, save= True)\n",
    "lr13.loadRunning(save= True)\n",
    "\n",
    "# lr13_performance, codes = sumPerformance(lr13, save=False)"
   ]
  },
  {
   "cell_type": "code",
   "execution_count": null,
   "metadata": {
    "collapsed": true
   },
   "outputs": [],
   "source": [
    "del lr13"
   ]
  },
  {
   "cell_type": "code",
   "execution_count": null,
   "metadata": {
    "collapsed": true
   },
   "outputs": [],
   "source": []
  },
  {
   "cell_type": "code",
   "execution_count": null,
   "metadata": {},
   "outputs": [],
   "source": [
    "fig, ax = plotSummary(lr7_performance, save=True)\n",
    "\n",
    "fig, ax = plotSummary(lr8_performance, save=True)\n",
    "\n",
    "fig, ax = plotSummary(lr9_performance, save=True)\n",
    "\n",
    "fig, ax = plotSummary(lr13_performance, save=True)"
   ]
  },
  {
   "cell_type": "code",
   "execution_count": null,
   "metadata": {},
   "outputs": [],
   "source": []
  },
  {
   "cell_type": "code",
   "execution_count": null,
   "metadata": {
    "collapsed": true
   },
   "outputs": [],
   "source": []
  },
  {
   "cell_type": "code",
   "execution_count": null,
   "metadata": {
    "collapsed": true
   },
   "outputs": [],
   "source": []
  },
  {
   "cell_type": "code",
   "execution_count": null,
   "metadata": {
    "collapsed": true
   },
   "outputs": [],
   "source": []
  },
  {
   "cell_type": "code",
   "execution_count": null,
   "metadata": {
    "collapsed": true
   },
   "outputs": [],
   "source": []
  },
  {
   "cell_type": "code",
   "execution_count": null,
   "metadata": {
    "collapsed": true
   },
   "outputs": [],
   "source": [
    "SalSal = ['180710', '180719','180724']\n",
    "SalCNO = ['180711', '180713', '180720']\n",
    "CNOSal = ['180712', '180717', '180725']\n",
    "\n",
    "mouse = 'LR8'\n",
    "dates = SalSal + SalCNO + CNOSal\n",
    "runs = [1, 2, 3]\n",
    "\n",
    "lr8 = behavior(mouse, dates, runs)\n",
    "lr8.setDir('/Volumes/User Folders/Trent/MixedValenceBehavior')\n",
    "\n",
    "with open('/Users/Amelia/Documents/hakan/data/CNO_trials/' + lr8.mouse + '.obj', 'rb') as handle:\n",
    "            lr8.data = pickle.load(handle)\n",
    "        \n",
    "lr8.loadTrials(save= False)\n",
    "lr8.loadNidaq(clean=True, save= False)\n",
    "lr8.loadRunning(save= False)\n",
    "\n",
    "lr8_performance, codes = sumPerformance(lr8, save=True)"
   ]
  },
  {
   "cell_type": "code",
   "execution_count": null,
   "metadata": {
    "collapsed": true,
    "scrolled": true
   },
   "outputs": [],
   "source": [
    "lr8.nidaq['180710'][1][lr8.nidaq['180710'][1].columns[0:6]].diff()"
   ]
  },
  {
   "cell_type": "code",
   "execution_count": null,
   "metadata": {
    "collapsed": true
   },
   "outputs": [],
   "source": []
  },
  {
   "cell_type": "code",
   "execution_count": null,
   "metadata": {
    "collapsed": true
   },
   "outputs": [],
   "source": []
  },
  {
   "cell_type": "code",
   "execution_count": null,
   "metadata": {
    "collapsed": true
   },
   "outputs": [],
   "source": []
  },
  {
   "cell_type": "code",
   "execution_count": null,
   "metadata": {
    "scrolled": true
   },
   "outputs": [],
   "source": [
    "SalSal = ['180724', '180801','180803']\n",
    "SalCNO = ['180726', '180727', '180802']\n",
    "CNOSal = ['180725', '180731', '180725', '180808']\n",
    "\n",
    "mouse = 'LR19'\n",
    "dates = SalSal + SalCNO + CNOSal\n",
    "runs = [1, 2, 3]\n",
    "\n",
    "lr19 = behavior(mouse, dates, runs)\n",
    "lr19.setDir('/Volumes/User Folders/Trent/MixedValenceBehavior')\n",
    "\n",
    "with open('/Users/Amelia/Documents/hakan/data/CNO_trials/' + lr19.mouse + '.obj', 'rb') as handle:\n",
    "            lr19.data = pickle.load(handle)\n",
    "\n",
    "lr19.loadTrials(save= False)\n",
    "# lr19.loadNidaq(clean=True, save= False)\n",
    "# lr19.loadRunning(save= False)\n",
    "\n",
    "lr19_performance, codes = sumPerformance(lr19, save=True)"
   ]
  },
  {
   "cell_type": "code",
   "execution_count": null,
   "metadata": {},
   "outputs": [],
   "source": []
  },
  {
   "cell_type": "code",
   "execution_count": null,
   "metadata": {},
   "outputs": [],
   "source": [
    "SalSal = ['180724', '180801','180803']\n",
    "SalCNO = ['180726', '180727', '180802']\n",
    "CNOSal = ['180725', '180731', '180725', '180808']\n",
    "\n",
    "mouse = 'LR20'\n",
    "dates = SalSal + SalCNO + CNOSal\n",
    "runs = [1, 2, 3]\n",
    "\n",
    "lr20 = behavior(mouse, dates, runs)\n",
    "lr20.setDir('/Volumes/User Folders/Trent/MixedValenceBehavior')\n",
    "\n",
    "# lr20.loadData('all', save=True)\n",
    "with open('/Users/Amelia/Documents/hakan/data/CNO_trials/' + lr20.mouse + '.obj', 'rb') as handle:\n",
    "            lr20.data = pickle.load(handle)\n",
    "        \n",
    "lr20.loadTrials(save= False)\n",
    "# lr20.loadNidaq(clean=True, save= False)\n",
    "# lr20.loadRunning(save= False)\n",
    "\n",
    "lr20_performance, codes = sumPerformance(lr20, save=True)"
   ]
  },
  {
   "cell_type": "code",
   "execution_count": null,
   "metadata": {},
   "outputs": [],
   "source": [
    "ax=plotSummary(lr19_performance, save=True)\n",
    "ax=plotSummary(lr20_performance, save=True)"
   ]
  },
  {
   "cell_type": "code",
   "execution_count": null,
   "metadata": {
    "collapsed": true
   },
   "outputs": [],
   "source": []
  },
  {
   "cell_type": "code",
   "execution_count": null,
   "metadata": {},
   "outputs": [],
   "source": [
    "mouse = 'LR21'\n",
    "runs = [1]\n",
    "dates = ['180801', '180802', '180803', '180806', '180806', '180808']\n",
    "\n",
    "lr21 = behavior(mouse, dates, runs)\n",
    "lr21.setDir('/Volumes/User Folders/Trent/MixedValenceBehavior')\n",
    "\n",
    "lr21.loadData('bhv', save=True)\n",
    "\n",
    "lr21.loadTrials(save= False)\n",
    "\n",
    "lr21_performance, codes = sumPerformance(lr21, save=True)"
   ]
  },
  {
   "cell_type": "code",
   "execution_count": null,
   "metadata": {},
   "outputs": [],
   "source": [
    "mouse = 'LR22'\n",
    "runs = [1]\n",
    "dates = ['180801', '180802', '180803', '180806', '180806', '180808']\n",
    "\n",
    "lr22 = behavior(mouse, dates, runs)\n",
    "lr22.setDir('/Volumes/User Folders/Trent/MixedValenceBehavior')\n",
    "\n",
    "lr22.loadData('bhv', save=True)\n",
    "\n",
    "lr22.loadTrials(save= False)\n",
    "\n",
    "lr22_performance, codes = sumPerformance(lr22, save=True)"
   ]
  },
  {
   "cell_type": "code",
   "execution_count": null,
   "metadata": {},
   "outputs": [],
   "source": []
  }
 ],
 "metadata": {
  "kernelspec": {
   "display_name": "Python 2",
   "language": "python",
   "name": "python2"
  },
  "language_info": {
   "codemirror_mode": {
    "name": "ipython",
    "version": 2
   },
   "file_extension": ".py",
   "mimetype": "text/x-python",
   "name": "python",
   "nbconvert_exporter": "python",
   "pygments_lexer": "ipython2",
   "version": "2.7.14"
  }
 },
 "nbformat": 4,
 "nbformat_minor": 2
}
